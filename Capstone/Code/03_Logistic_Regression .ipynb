{
 "cells": [
  {
   "cell_type": "markdown",
   "id": "8edb2caa",
   "metadata": {},
   "source": [
    "# Imports"
   ]
  },
  {
   "cell_type": "code",
   "execution_count": 1,
   "id": "d7509a4c",
   "metadata": {},
   "outputs": [],
   "source": [
    "import numpy as np\n",
    "import pandas as pd\n",
    "\n",
    "import matplotlib.pyplot as plt\n",
    "\n",
    "from sklearn.linear_model import LogisticRegression\n",
    "\n",
    "from sklearn.model_selection import (cross_val_score, GridSearchCV)\n",
    "from sklearn.metrics import (confusion_matrix, \n",
    "                             ConfusionMatrixDisplay, \n",
    "                             classification_report)\n",
    "\n",
    "np.random.seed(23)"
   ]
  },
  {
   "cell_type": "code",
   "execution_count": 2,
   "id": "83a6ab9c",
   "metadata": {},
   "outputs": [],
   "source": [
    "X_train = pd.read_csv('../data/x_train_processed.csv')\n",
    "X_test = pd.read_csv('../data/x_test_processed.csv')\n",
    "y_train = pd.read_csv('../data/y_train_processed.csv')\n",
    "y_test = pd.read_csv('../data/y_test_processed.csv')"
   ]
  },
  {
   "cell_type": "code",
   "execution_count": 3,
   "id": "77c5a935",
   "metadata": {},
   "outputs": [
    {
     "data": {
      "text/plain": [
       "Index(['children', 'seniors', 'mental', 'winter', 'daylight', 'aircrafts_1',\n",
       "       'aircrafts_2', 'area_type_unknown', 'area_type_urban_rural',\n",
       "       'area_type_water', 'area_type_wilderness', 'state_Arizona',\n",
       "       'state_California', 'state_Colorado', 'state_Idaho', 'state_Nevada',\n",
       "       'state_New Jersey', 'state_New Mexico', 'state_Oregon',\n",
       "       'state_Pennsylvania', 'state_Utah', 'state_Vermont', 'state_Washington',\n",
       "       'number_subjects', 'number_volunteers'],\n",
       "      dtype='object')"
      ]
     },
     "execution_count": 3,
     "metadata": {},
     "output_type": "execute_result"
    }
   ],
   "source": [
    "X_train.columns"
   ]
  },
  {
   "cell_type": "code",
   "execution_count": 4,
   "id": "87cd92d1",
   "metadata": {},
   "outputs": [
    {
     "name": "stdout",
     "output_type": "stream",
     "text": [
      "(8600, 25) \n",
      " (8600, 1) \n",
      " (2150, 25) \n",
      " (2150, 1)\n"
     ]
    }
   ],
   "source": [
    "print(X_train.shape, '\\n', \n",
    "      y_train.shape, '\\n', \n",
    "      X_test.shape, '\\n', \n",
    "      y_test.shape)"
   ]
  },
  {
   "cell_type": "markdown",
   "id": "9bfdeca4",
   "metadata": {},
   "source": [
    "# Logistic Regression Model"
   ]
  },
  {
   "cell_type": "code",
   "execution_count": 5,
   "id": "e5d6b0a3",
   "metadata": {},
   "outputs": [
    {
     "name": "stdout",
     "output_type": "stream",
     "text": [
      "LogisticRegression(max_iter=5000, penalty='l1', solver='saga')\n",
      "{'penalty': 'l1', 'solver': 'saga'}\n",
      "\n",
      "Baseline: 35%\n",
      "\n",
      "Best Score: 0.568\n",
      "Test Score: 0.5656\n"
     ]
    }
   ],
   "source": [
    "logreg_params = {'penalty': ['l1', 'l2'], \n",
    "                 'solver': ['liblinear', 'saga']\n",
    "                }\n",
    "\n",
    "logreg_gridsearch = GridSearchCV(LogisticRegression(max_iter=5000), \n",
    "                                 logreg_params, \n",
    "                                 cv=5)\n",
    "\n",
    "logreg_gridsearch.fit(X_train, y_train.values.ravel())\n",
    "\n",
    "print(logreg_gridsearch.best_estimator_)\n",
    "print(logreg_gridsearch.best_params_)\n",
    "\n",
    "print('\\nBaseline: 35%')\n",
    "\n",
    "print('\\nBest Score:', round(logreg_gridsearch.best_score_, 4))\n",
    "print('Test Score:', round(logreg_gridsearch.score(X_test, y_test.values.ravel()), 4))"
   ]
  },
  {
   "cell_type": "code",
   "execution_count": 6,
   "id": "c5cad6a2",
   "metadata": {},
   "outputs": [
    {
     "name": "stdout",
     "output_type": "stream",
     "text": [
      "Baseline: 35%\n",
      "\n",
      "Train scores: [0.56162791 0.56744186 0.57267442 0.56511628 0.57325581]\n",
      "Mean: 0.568\n",
      "Stdev: 0.009 \n",
      "\n",
      "Test scores: [0.5627907  0.5627907  0.54883721 0.56976744 0.55581395]\n",
      "Mean: 0.56\n",
      "Stdev: 0.014 \n",
      "\n"
     ]
    }
   ],
   "source": [
    "logreg = LogisticRegression(max_iter=5000, \n",
    "                            penalty=logreg_gridsearch.best_params_['penalty'],  \n",
    "                            solver=logreg_gridsearch.best_params_['solver'],\n",
    "                            random_state=23)\n",
    "\n",
    "logreg.fit(X_train, y_train.values.ravel())\n",
    "\n",
    "train_scores = cross_val_score(logreg, X_train, y_train.values.ravel())\n",
    "test_scores = cross_val_score(logreg, X_test, y_test.values.ravel())\n",
    "\n",
    "print('Baseline: 35%\\n')\n",
    "\n",
    "print('Train scores:', train_scores)\n",
    "print('Mean:', round(train_scores.mean(), 3))\n",
    "print('Stdev:', round(2 * train_scores.std(), 3), '\\n')\n",
    "\n",
    "print('Test scores:', test_scores)\n",
    "print('Mean:', round(test_scores.mean(), 3))\n",
    "print('Stdev:', round(2 * test_scores.std(), 3), '\\n')"
   ]
  },
  {
   "cell_type": "markdown",
   "id": "a8748d38",
   "metadata": {},
   "source": [
    "# Coefficient Interpretation"
   ]
  },
  {
   "cell_type": "code",
   "execution_count": 7,
   "id": "6b38e291",
   "metadata": {},
   "outputs": [
    {
     "data": {
      "text/html": [
       "<div>\n",
       "<style scoped>\n",
       "    .dataframe tbody tr th:only-of-type {\n",
       "        vertical-align: middle;\n",
       "    }\n",
       "\n",
       "    .dataframe tbody tr th {\n",
       "        vertical-align: top;\n",
       "    }\n",
       "\n",
       "    .dataframe thead th {\n",
       "        text-align: right;\n",
       "    }\n",
       "</style>\n",
       "<table border=\"1\" class=\"dataframe\">\n",
       "  <thead>\n",
       "    <tr style=\"text-align: right;\">\n",
       "      <th></th>\n",
       "      <th>features_0</th>\n",
       "      <th>coeff_0</th>\n",
       "      <th>abs_0</th>\n",
       "      <th>features_1</th>\n",
       "      <th>coeff_1</th>\n",
       "      <th>abs_1</th>\n",
       "      <th>features_2</th>\n",
       "      <th>coeff_2</th>\n",
       "      <th>abs_2</th>\n",
       "    </tr>\n",
       "  </thead>\n",
       "  <tbody>\n",
       "    <tr>\n",
       "      <th>0</th>\n",
       "      <td>state_Pennsylvania</td>\n",
       "      <td>29.85</td>\n",
       "      <td>29.85</td>\n",
       "      <td>state_New Jersey</td>\n",
       "      <td>0.49</td>\n",
       "      <td>0.49</td>\n",
       "      <td>state_New Mexico</td>\n",
       "      <td>1.85</td>\n",
       "      <td>1.85</td>\n",
       "    </tr>\n",
       "    <tr>\n",
       "      <th>1</th>\n",
       "      <td>state_Colorado</td>\n",
       "      <td>0.83</td>\n",
       "      <td>0.83</td>\n",
       "      <td>state_Nevada</td>\n",
       "      <td>-0.21</td>\n",
       "      <td>0.21</td>\n",
       "      <td>state_Washington</td>\n",
       "      <td>1.33</td>\n",
       "      <td>1.33</td>\n",
       "    </tr>\n",
       "    <tr>\n",
       "      <th>2</th>\n",
       "      <td>number_volunteers</td>\n",
       "      <td>-0.75</td>\n",
       "      <td>0.75</td>\n",
       "      <td>state_Utah</td>\n",
       "      <td>-0.19</td>\n",
       "      <td>0.19</td>\n",
       "      <td>number_volunteers</td>\n",
       "      <td>1.29</td>\n",
       "      <td>1.29</td>\n",
       "    </tr>\n",
       "    <tr>\n",
       "      <th>3</th>\n",
       "      <td>state_Oregon</td>\n",
       "      <td>-0.73</td>\n",
       "      <td>0.73</td>\n",
       "      <td>state_California</td>\n",
       "      <td>-0.13</td>\n",
       "      <td>0.13</td>\n",
       "      <td>aircrafts_2</td>\n",
       "      <td>1.17</td>\n",
       "      <td>1.17</td>\n",
       "    </tr>\n",
       "    <tr>\n",
       "      <th>4</th>\n",
       "      <td>state_New Mexico</td>\n",
       "      <td>-0.63</td>\n",
       "      <td>0.63</td>\n",
       "      <td>area_type_water</td>\n",
       "      <td>0.09</td>\n",
       "      <td>0.09</td>\n",
       "      <td>state_Oregon</td>\n",
       "      <td>0.80</td>\n",
       "      <td>0.80</td>\n",
       "    </tr>\n",
       "    <tr>\n",
       "      <th>5</th>\n",
       "      <td>aircrafts_2</td>\n",
       "      <td>-0.59</td>\n",
       "      <td>0.59</td>\n",
       "      <td>area_type_unknown</td>\n",
       "      <td>-0.06</td>\n",
       "      <td>0.06</td>\n",
       "      <td>aircrafts_1</td>\n",
       "      <td>0.73</td>\n",
       "      <td>0.73</td>\n",
       "    </tr>\n",
       "    <tr>\n",
       "      <th>6</th>\n",
       "      <td>children</td>\n",
       "      <td>0.47</td>\n",
       "      <td>0.47</td>\n",
       "      <td>state_Vermont</td>\n",
       "      <td>0.04</td>\n",
       "      <td>0.04</td>\n",
       "      <td>state_Arizona</td>\n",
       "      <td>0.44</td>\n",
       "      <td>0.44</td>\n",
       "    </tr>\n",
       "    <tr>\n",
       "      <th>7</th>\n",
       "      <td>area_type_urban_rural</td>\n",
       "      <td>0.39</td>\n",
       "      <td>0.39</td>\n",
       "      <td>seniors</td>\n",
       "      <td>0.01</td>\n",
       "      <td>0.01</td>\n",
       "      <td>state_New Jersey</td>\n",
       "      <td>-0.42</td>\n",
       "      <td>0.42</td>\n",
       "    </tr>\n",
       "    <tr>\n",
       "      <th>8</th>\n",
       "      <td>mental</td>\n",
       "      <td>-0.39</td>\n",
       "      <td>0.39</td>\n",
       "      <td>state_Idaho</td>\n",
       "      <td>0.00</td>\n",
       "      <td>0.00</td>\n",
       "      <td>winter</td>\n",
       "      <td>0.42</td>\n",
       "      <td>0.42</td>\n",
       "    </tr>\n",
       "    <tr>\n",
       "      <th>9</th>\n",
       "      <td>state_Washington</td>\n",
       "      <td>-0.26</td>\n",
       "      <td>0.26</td>\n",
       "      <td>number_subjects</td>\n",
       "      <td>0.00</td>\n",
       "      <td>0.00</td>\n",
       "      <td>state_Vermont</td>\n",
       "      <td>-0.38</td>\n",
       "      <td>0.38</td>\n",
       "    </tr>\n",
       "  </tbody>\n",
       "</table>\n",
       "</div>"
      ],
      "text/plain": [
       "              features_0  coeff_0  abs_0         features_1  coeff_1  abs_1  \\\n",
       "0     state_Pennsylvania    29.85  29.85   state_New Jersey     0.49   0.49   \n",
       "1         state_Colorado     0.83   0.83       state_Nevada    -0.21   0.21   \n",
       "2      number_volunteers    -0.75   0.75         state_Utah    -0.19   0.19   \n",
       "3           state_Oregon    -0.73   0.73   state_California    -0.13   0.13   \n",
       "4       state_New Mexico    -0.63   0.63    area_type_water     0.09   0.09   \n",
       "5            aircrafts_2    -0.59   0.59  area_type_unknown    -0.06   0.06   \n",
       "6               children     0.47   0.47      state_Vermont     0.04   0.04   \n",
       "7  area_type_urban_rural     0.39   0.39            seniors     0.01   0.01   \n",
       "8                 mental    -0.39   0.39        state_Idaho     0.00   0.00   \n",
       "9       state_Washington    -0.26   0.26    number_subjects     0.00   0.00   \n",
       "\n",
       "          features_2  coeff_2  abs_2  \n",
       "0   state_New Mexico     1.85   1.85  \n",
       "1   state_Washington     1.33   1.33  \n",
       "2  number_volunteers     1.29   1.29  \n",
       "3        aircrafts_2     1.17   1.17  \n",
       "4       state_Oregon     0.80   0.80  \n",
       "5        aircrafts_1     0.73   0.73  \n",
       "6      state_Arizona     0.44   0.44  \n",
       "7   state_New Jersey    -0.42   0.42  \n",
       "8             winter     0.42   0.42  \n",
       "9      state_Vermont    -0.38   0.38  "
      ]
     },
     "execution_count": 7,
     "metadata": {},
     "output_type": "execute_result"
    }
   ],
   "source": [
    "coeffs = ['coeffs_' + str(i) for i in list(range(3))]\n",
    "coeffs_df = pd.DataFrame()\n",
    "\n",
    "for i, coeff in enumerate(coeffs):\n",
    "\n",
    "    coeff = pd.DataFrame(list(zip(X_train.columns, np.expm1(logreg.coef_[i]))), \n",
    "                         columns=['features_'+str(i), 'coeff_'+str(i)])\n",
    "    \n",
    "    coeff['abs_'+str(i)] = round(abs(coeff['coeff_'+str(i)]), 2)\n",
    "    coeff['coeff_'+str(i)] = round(coeff['coeff_'+str(i)], 2)\n",
    "    \n",
    "    coeff = coeff.sort_values('abs_'+str(i), ascending=False) \n",
    "    coeff.reset_index(drop=True, inplace=True)\n",
    "    \n",
    "    coeffs_df = pd.concat([coeffs_df, coeff], axis=1)\n",
    "\n",
    "coeffs_df.head(10)"
   ]
  },
  {
   "cell_type": "markdown",
   "id": "26064105",
   "metadata": {},
   "source": [
    "# Metrics"
   ]
  },
  {
   "cell_type": "code",
   "execution_count": 8,
   "id": "9923f930",
   "metadata": {},
   "outputs": [
    {
     "name": "stdout",
     "output_type": "stream",
     "text": [
      "              precision    recall  f1-score   support\n",
      "\n",
      "      0-11hr       0.58      0.71      0.64       698\n",
      "     11-32hr       0.44      0.32      0.37       691\n",
      "32hours-7day       0.63      0.65      0.64       761\n",
      "\n",
      "    accuracy                           0.57      2150\n",
      "   macro avg       0.55      0.56      0.55      2150\n",
      "weighted avg       0.55      0.57      0.55      2150\n",
      "\n"
     ]
    },
    {
     "data": {
      "text/plain": [
       "''"
      ]
     },
     "execution_count": 8,
     "metadata": {},
     "output_type": "execute_result"
    },
    {
     "data": {
      "image/png": "[encoded data removed]",
      "text/plain": [
       "<Figure size 720x720 with 2 Axes>"
      ]
     },
     "metadata": {
      "needs_background": "light"
     },
     "output_type": "display_data"
    }
   ],
   "source": [
    "conmat = np.array(confusion_matrix(y_test, \n",
    "                                   logreg.predict(X_test), \n",
    "                                   labels=[0,1,2]))\n",
    "print(classification_report(y_test,\n",
    "                            logreg.predict(X_test), \n",
    "                            target_names=['0-11hr', '11-32hr', '32hours-7day']))\n",
    "\n",
    "matrix_display = ConfusionMatrixDisplay(confusion_matrix=conmat, \n",
    "                                        display_labels=['0-11hr', '11-32hr', '32hours-7day'])\n",
    "\n",
    "fig, ax = plt.subplots(figsize=(10,10))\n",
    "matrix_display.plot(ax=ax)\n",
    "\n",
    "# figure = plt.gcf() \n",
    "# figure.set_size_inches(10, 10)\n",
    ";"
   ]
  },
  {
   "cell_type": "markdown",
   "id": "23cd73ec",
   "metadata": {},
   "source": [
    "# Analysis\n",
    "\n",
    "**Metrics**\n",
    "- This model is 57% accurate in predicting the target class. This is 22% more than the baseline model with a probability of 35%. \n",
    "- The model had the highest precision in predicting the 3rd class (32hours-7days) followed closely by the 1st class (0-11hours). \n",
    "- the f1 score (harmonic mean of precision and recall) for the 2nd class was roughly half of either the 1st or 3rd classes. The features captured do not capture as much signal for the 2nd class. \n",
    "\n",
    "**Coefficients**\n",
    "- The largest coefficient for all three classes was a state. States have a high predictive power for all three classes. \n",
    "    - coeffs_0: Pennsylvania, coeffs_1:New Jersey, coeffs_2:New Mexico\n",
    "- `aircraft_2`  and `aircraft_1` were one of the largest coefficients for the 1st and 3rd classes respectively. These features indicate that there were two or one type(s) of aircrafts involved in the SAR mission. \n",
    "    - `aircraft_2` being a negative coefficient for the first class indicate that incidents in this timeframe do not typically involve any aircrafts at all\n",
    "    - `aircraft_1` and `aircraft_2` being positive coefficients for the 3rd class indicate that these incidents frequently invole aircrafts. \n",
    "- `number_volunteers` was was also one of the largest coefficient for both the 1st and 3rd class. \n",
    "    - being negative for the 1st class, incidents in this time frame often have few volunteers\n",
    "    - being positive for the third class indicate that these incidents often have more volunteers\n",
    "\n",
    "**Conclusion**\n",
    "I binned the target total_hours into three mostly equally distributed classes. This increased the model's ability to predict the 2nd class, but ultimately reduced the accuracy of the model. This model is 2% less accurate than the Random Forest model. I would recommend implementing this model into production verses the Random Forest model soley due to the fact that it is more humanly interprettable and could give further insight into which facters are important in determing the time it takes to search for and rescue a victim. "
   ]
  }
 ],
 "metadata": {
  "kernelspec": {
   "display_name": "Python 3 (ipykernel)",
   "language": "python",
   "name": "python3"
  },
  "language_info": {
   "codemirror_mode": {
    "name": "ipython",
    "version": 3
   },
   "file_extension": ".py",
   "mimetype": "text/x-python",
   "name": "python",
   "nbconvert_exporter": "python",
   "pygments_lexer": "ipython3",
   "version": "3.10.5"
  }
 },
 "nbformat": 4,
 "nbformat_minor": 5
}
