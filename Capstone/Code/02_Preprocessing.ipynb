{
 "cells": [
  {
   "cell_type": "markdown",
   "id": "1a91b95c",
   "metadata": {},
   "source": [
    "# Imports"
   ]
  },
  {
   "cell_type": "code",
   "execution_count": 1,
   "id": "b8b760cd",
   "metadata": {},
   "outputs": [],
   "source": [
    "import pandas as pd\n",
    "import numpy as np\n",
    "\n",
    "from sklearn.model_selection import train_test_split\n",
    "from sklearn.preprocessing import StandardScaler\n",
    "\n",
    "np.random.seed(23)"
   ]
  },
  {
   "cell_type": "code",
   "execution_count": 2,
   "id": "39439e6c",
   "metadata": {},
   "outputs": [
    {
     "name": "stderr",
     "output_type": "stream",
     "text": [
      "/var/folders/6_/32r78n_d53x2nss5m1qjc1pc0000gn/T/ipykernel_83937/2617110312.py:1: DtypeWarning: Columns (48,56) have mixed types. Specify dtype option on import or set low_memory=False.\n",
      "  df = pd.read_csv('../Data/cleaned_data.csv')\n"
     ]
    }
   ],
   "source": [
    "df = pd.read_csv('../Data/cleaned_data.csv')"
   ]
  },
  {
   "cell_type": "code",
   "execution_count": 3,
   "id": "139ccf77",
   "metadata": {},
   "outputs": [],
   "source": [
    "df = df[['time_bin', 'number_volunteers', 'number_subjects', 'area_type', 'total_aircrafts', \n",
    "         'children', 'seniors', 'mental', 'winter', 'daylight', 'state']]\n"
   ]
  },
  {
   "cell_type": "markdown",
   "id": "c19e1e23",
   "metadata": {},
   "source": [
    "# Preprocessing"
   ]
  },
  {
   "cell_type": "code",
   "execution_count": 4,
   "id": "869578ff",
   "metadata": {},
   "outputs": [],
   "source": [
    "dummies = pd.get_dummies(df[['area_type', 'state']], drop_first=True)\n",
    "aircrafts = pd.get_dummies(df['total_aircrafts'], drop_first=True, prefix='aircrafts')"
   ]
  },
  {
   "cell_type": "code",
   "execution_count": 5,
   "id": "4c8839f3",
   "metadata": {},
   "outputs": [],
   "source": [
    "df.drop(['area_type', 'state', 'total_aircrafts'], axis=1, inplace=True)"
   ]
  },
  {
   "cell_type": "code",
   "execution_count": 6,
   "id": "8bd9ce37",
   "metadata": {},
   "outputs": [],
   "source": [
    "df = pd.concat([df, aircrafts, dummies], axis=1)"
   ]
  },
  {
   "cell_type": "code",
   "execution_count": 7,
   "id": "880620bb",
   "metadata": {},
   "outputs": [
    {
     "data": {
      "text/plain": [
       "Index(['time_bin', 'number_volunteers', 'number_subjects', 'children',\n",
       "       'seniors', 'mental', 'winter', 'daylight', 'aircrafts_1', 'aircrafts_2',\n",
       "       'area_type_unknown', 'area_type_urban_rural', 'area_type_water',\n",
       "       'area_type_wilderness', 'state_Arizona', 'state_California',\n",
       "       'state_Colorado', 'state_Idaho', 'state_Nevada', 'state_New Jersey',\n",
       "       'state_New Mexico', 'state_Oregon', 'state_Pennsylvania', 'state_Utah',\n",
       "       'state_Vermont', 'state_Washington'],\n",
       "      dtype='object')"
      ]
     },
     "execution_count": 7,
     "metadata": {},
     "output_type": "execute_result"
    }
   ],
   "source": [
    "df.columns"
   ]
  },
  {
   "cell_type": "code",
   "execution_count": 8,
   "id": "9f362559",
   "metadata": {
    "scrolled": true
   },
   "outputs": [
    {
     "data": {
      "text/html": [
       "<div>\n",
       "<style scoped>\n",
       "    .dataframe tbody tr th:only-of-type {\n",
       "        vertical-align: middle;\n",
       "    }\n",
       "\n",
       "    .dataframe tbody tr th {\n",
       "        vertical-align: top;\n",
       "    }\n",
       "\n",
       "    .dataframe thead th {\n",
       "        text-align: right;\n",
       "    }\n",
       "</style>\n",
       "<table border=\"1\" class=\"dataframe\">\n",
       "  <thead>\n",
       "    <tr style=\"text-align: right;\">\n",
       "      <th></th>\n",
       "      <th>time_bin</th>\n",
       "      <th>number_volunteers</th>\n",
       "      <th>number_subjects</th>\n",
       "      <th>children</th>\n",
       "      <th>seniors</th>\n",
       "      <th>mental</th>\n",
       "      <th>winter</th>\n",
       "      <th>daylight</th>\n",
       "      <th>aircrafts_1</th>\n",
       "      <th>aircrafts_2</th>\n",
       "      <th>...</th>\n",
       "      <th>state_Colorado</th>\n",
       "      <th>state_Idaho</th>\n",
       "      <th>state_Nevada</th>\n",
       "      <th>state_New Jersey</th>\n",
       "      <th>state_New Mexico</th>\n",
       "      <th>state_Oregon</th>\n",
       "      <th>state_Pennsylvania</th>\n",
       "      <th>state_Utah</th>\n",
       "      <th>state_Vermont</th>\n",
       "      <th>state_Washington</th>\n",
       "    </tr>\n",
       "  </thead>\n",
       "  <tbody>\n",
       "    <tr>\n",
       "      <th>0</th>\n",
       "      <td>0-11hr</td>\n",
       "      <td>3.0</td>\n",
       "      <td>1.0</td>\n",
       "      <td>0</td>\n",
       "      <td>1</td>\n",
       "      <td>1</td>\n",
       "      <td>0</td>\n",
       "      <td>0</td>\n",
       "      <td>0</td>\n",
       "      <td>0</td>\n",
       "      <td>...</td>\n",
       "      <td>0</td>\n",
       "      <td>0</td>\n",
       "      <td>0</td>\n",
       "      <td>0</td>\n",
       "      <td>0</td>\n",
       "      <td>0</td>\n",
       "      <td>1</td>\n",
       "      <td>0</td>\n",
       "      <td>0</td>\n",
       "      <td>0</td>\n",
       "    </tr>\n",
       "    <tr>\n",
       "      <th>1</th>\n",
       "      <td>0-11hr</td>\n",
       "      <td>10.0</td>\n",
       "      <td>4.0</td>\n",
       "      <td>0</td>\n",
       "      <td>0</td>\n",
       "      <td>0</td>\n",
       "      <td>0</td>\n",
       "      <td>1</td>\n",
       "      <td>1</td>\n",
       "      <td>0</td>\n",
       "      <td>...</td>\n",
       "      <td>0</td>\n",
       "      <td>0</td>\n",
       "      <td>0</td>\n",
       "      <td>0</td>\n",
       "      <td>0</td>\n",
       "      <td>0</td>\n",
       "      <td>0</td>\n",
       "      <td>0</td>\n",
       "      <td>0</td>\n",
       "      <td>0</td>\n",
       "    </tr>\n",
       "    <tr>\n",
       "      <th>2</th>\n",
       "      <td>11-32hr</td>\n",
       "      <td>10.0</td>\n",
       "      <td>1.0</td>\n",
       "      <td>0</td>\n",
       "      <td>0</td>\n",
       "      <td>0</td>\n",
       "      <td>0</td>\n",
       "      <td>1</td>\n",
       "      <td>0</td>\n",
       "      <td>0</td>\n",
       "      <td>...</td>\n",
       "      <td>0</td>\n",
       "      <td>0</td>\n",
       "      <td>0</td>\n",
       "      <td>0</td>\n",
       "      <td>0</td>\n",
       "      <td>0</td>\n",
       "      <td>0</td>\n",
       "      <td>0</td>\n",
       "      <td>0</td>\n",
       "      <td>0</td>\n",
       "    </tr>\n",
       "    <tr>\n",
       "      <th>3</th>\n",
       "      <td>0-11hr</td>\n",
       "      <td>2.0</td>\n",
       "      <td>1.0</td>\n",
       "      <td>0</td>\n",
       "      <td>0</td>\n",
       "      <td>0</td>\n",
       "      <td>0</td>\n",
       "      <td>0</td>\n",
       "      <td>1</td>\n",
       "      <td>0</td>\n",
       "      <td>...</td>\n",
       "      <td>0</td>\n",
       "      <td>0</td>\n",
       "      <td>0</td>\n",
       "      <td>0</td>\n",
       "      <td>0</td>\n",
       "      <td>0</td>\n",
       "      <td>0</td>\n",
       "      <td>0</td>\n",
       "      <td>0</td>\n",
       "      <td>0</td>\n",
       "    </tr>\n",
       "    <tr>\n",
       "      <th>4</th>\n",
       "      <td>11-32hr</td>\n",
       "      <td>6.0</td>\n",
       "      <td>1.0</td>\n",
       "      <td>0</td>\n",
       "      <td>0</td>\n",
       "      <td>0</td>\n",
       "      <td>0</td>\n",
       "      <td>0</td>\n",
       "      <td>1</td>\n",
       "      <td>0</td>\n",
       "      <td>...</td>\n",
       "      <td>0</td>\n",
       "      <td>0</td>\n",
       "      <td>0</td>\n",
       "      <td>0</td>\n",
       "      <td>0</td>\n",
       "      <td>0</td>\n",
       "      <td>0</td>\n",
       "      <td>0</td>\n",
       "      <td>0</td>\n",
       "      <td>0</td>\n",
       "    </tr>\n",
       "  </tbody>\n",
       "</table>\n",
       "<p>5 rows × 26 columns</p>\n",
       "</div>"
      ],
      "text/plain": [
       "  time_bin  number_volunteers  number_subjects  children  seniors  mental  \\\n",
       "0   0-11hr                3.0              1.0         0        1       1   \n",
       "1   0-11hr               10.0              4.0         0        0       0   \n",
       "2  11-32hr               10.0              1.0         0        0       0   \n",
       "3   0-11hr                2.0              1.0         0        0       0   \n",
       "4  11-32hr                6.0              1.0         0        0       0   \n",
       "\n",
       "   winter  daylight  aircrafts_1  aircrafts_2  ...  state_Colorado  \\\n",
       "0       0         0            0            0  ...               0   \n",
       "1       0         1            1            0  ...               0   \n",
       "2       0         1            0            0  ...               0   \n",
       "3       0         0            1            0  ...               0   \n",
       "4       0         0            1            0  ...               0   \n",
       "\n",
       "   state_Idaho  state_Nevada  state_New Jersey  state_New Mexico  \\\n",
       "0            0             0                 0                 0   \n",
       "1            0             0                 0                 0   \n",
       "2            0             0                 0                 0   \n",
       "3            0             0                 0                 0   \n",
       "4            0             0                 0                 0   \n",
       "\n",
       "   state_Oregon  state_Pennsylvania  state_Utah  state_Vermont  \\\n",
       "0             0                   1           0              0   \n",
       "1             0                   0           0              0   \n",
       "2             0                   0           0              0   \n",
       "3             0                   0           0              0   \n",
       "4             0                   0           0              0   \n",
       "\n",
       "   state_Washington  \n",
       "0                 0  \n",
       "1                 0  \n",
       "2                 0  \n",
       "3                 0  \n",
       "4                 0  \n",
       "\n",
       "[5 rows x 26 columns]"
      ]
     },
     "execution_count": 8,
     "metadata": {},
     "output_type": "execute_result"
    }
   ],
   "source": [
    "df.head()"
   ]
  },
  {
   "cell_type": "markdown",
   "id": "70fbbf99",
   "metadata": {},
   "source": [
    "## Label Encoding Target - `timeframe`"
   ]
  },
  {
   "cell_type": "code",
   "execution_count": 9,
   "id": "e321f9bf",
   "metadata": {},
   "outputs": [],
   "source": [
    "df['time_bin'] = [0 if x == '0-11hr'\n",
    "                  else 1 if x == '11-32hr'\n",
    "                  else 2 for x in df.time_bin]"
   ]
  },
  {
   "cell_type": "code",
   "execution_count": 10,
   "id": "905b3367",
   "metadata": {},
   "outputs": [
    {
     "data": {
      "text/plain": [
       "0    3563\n",
       "1    3504\n",
       "2    3683\n",
       "Name: time_bin, dtype: int64"
      ]
     },
     "execution_count": 10,
     "metadata": {},
     "output_type": "execute_result"
    }
   ],
   "source": [
    "df.time_bin.value_counts().sort_index()"
   ]
  },
  {
   "cell_type": "markdown",
   "id": "eef8a6c3",
   "metadata": {},
   "source": [
    "## Train Test Split"
   ]
  },
  {
   "cell_type": "code",
   "execution_count": 11,
   "id": "c25173a8",
   "metadata": {},
   "outputs": [],
   "source": [
    "y = df.time_bin\n",
    "X = df.drop('time_bin', axis=1)\n",
    "\n",
    "X_train, X_test, y_train, y_test = train_test_split(X,y,\n",
    "                                                   test_size = 0.20,\n",
    "                                                   random_state = 23)"
   ]
  },
  {
   "cell_type": "markdown",
   "id": "6c9bae92",
   "metadata": {},
   "source": [
    "## Standard Scale"
   ]
  },
  {
   "cell_type": "code",
   "execution_count": 12,
   "id": "c12f0dce",
   "metadata": {},
   "outputs": [],
   "source": [
    "to_scale = ['number_subjects', 'number_volunteers']\n",
    "\n",
    "ss = StandardScaler()\n",
    "\n",
    "X_train_ss = pd.DataFrame(ss.fit_transform(X_train[to_scale]),\n",
    "                          columns = to_scale,\n",
    "                          index = X_train.index)\n",
    "\n",
    "X_test_ss = pd.DataFrame(ss.transform(X_test[to_scale]),\n",
    "                         columns = to_scale,\n",
    "                         index = X_test.index)"
   ]
  },
  {
   "cell_type": "code",
   "execution_count": 13,
   "id": "00078e38",
   "metadata": {},
   "outputs": [],
   "source": [
    "X_train_final = X_train.drop(to_scale, axis = 1).join(X_train_ss)\n",
    "X_test_final = X_test.drop(to_scale, axis = 1).join(X_test_ss)"
   ]
  },
  {
   "cell_type": "markdown",
   "id": "b3a1fce1",
   "metadata": {},
   "source": [
    "# Exports"
   ]
  },
  {
   "cell_type": "code",
   "execution_count": 14,
   "id": "312228d9",
   "metadata": {},
   "outputs": [],
   "source": [
    "y_train.to_csv('../data/y_train_processed.csv', index=False)\n",
    "y_test.to_csv('../data/y_test_processed.csv', index=False)\n",
    "\n",
    "X_train_final.to_csv('../data/x_train_processed.csv', index=False)\n",
    "X_test_final.to_csv('../data/x_test_processed.csv', index=False)"
   ]
  }
 ],
 "metadata": {
  "kernelspec": {
   "display_name": "Python 3 (ipykernel)",
   "language": "python",
   "name": "python3"
  },
  "language_info": {
   "codemirror_mode": {
    "name": "ipython",
    "version": 3
   },
   "file_extension": ".py",
   "mimetype": "text/x-python",
   "name": "python",
   "nbconvert_exporter": "python",
   "pygments_lexer": "ipython3",
   "version": "3.10.5"
  }
 },
 "nbformat": 4,
 "nbformat_minor": 5
}
