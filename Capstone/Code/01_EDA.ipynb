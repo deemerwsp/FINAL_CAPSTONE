{
 "cells": [
  {
   "cell_type": "markdown",
   "id": "233e8a6f",
   "metadata": {},
   "source": [
    "# Problem Statement\n",
    "\n",
    "Through analyzing this datasset for Search and Rescue missions, what appear to be the key factors that indicate the timeframe to locate and rescue victims both in wilderness and non-wilderness environments?"
   ]
  },
  {
   "cell_type": "markdown",
   "id": "514dd614",
   "metadata": {},
   "source": [
    "# Imports"
   ]
  },
  {
   "cell_type": "code",
   "execution_count": 1,
   "id": "b3ab8640",
   "metadata": {
    "scrolled": true
   },
   "outputs": [],
   "source": [
    "import pandas as pd\n",
    "import numpy as np\n",
    "\n",
    "import matplotlib.pyplot as plt\n",
    "\n",
    "np.random.seed(23)"
   ]
  },
  {
   "cell_type": "code",
   "execution_count": 2,
   "id": "faaa226d",
   "metadata": {},
   "outputs": [],
   "source": [
    "rel_path = '../Data/MRA_Mission_Data_Archive_Public_View_for_Open_Data_2013-2020.csv'\n",
    "df = pd.read_csv(rel_path, low_memory=False)"
   ]
  },
  {
   "cell_type": "markdown",
   "id": "1462d002",
   "metadata": {},
   "source": [
    "# Initial Data Cleanup\n",
    "- lower_snake_case columns\n",
    "- drop features that are not indicators of `time` target\n",
    "\n",
    "|Variable|Description\n",
    "|:--|:--|\n",
    "|**incident_number**|Non-standard identifier for incident|\n",
    "|**objectid**|Unique identifier for datapoint in dataset|\n",
    "|**globalid**|Geo location identifier (format unrocognized)|\n",
    "|**team_not_listed**|100% null|\n",
    "|**number_tm_injured**|Number of SAR team injured during incident|\n",
    "|**level_of_care_rescuer**|Level of medical care for rescuer|\n",
    "|**medical_problems_team_member**|Team member medical problems cause by incident|\n",
    "|**medical_problems_other_team_member**|Team member medical problems cause by incident|\n",
    "|**creationdate**|Date the datapoint was entered into database|\n",
    "|**creator**|Identifier for entity recording datapoint|\n",
    "|**editdate**|Date of edit correction to datapoint|\n",
    "|**editor**|Identifier for entity editing datapoint|\n",
    "|**incident_uuid**|100% null|\n",
    "|**form_version**|100% null|"
   ]
  },
  {
   "cell_type": "markdown",
   "id": "98ae47b8",
   "metadata": {},
   "source": [
    "**Renaming columns with lower snake case**"
   ]
  },
  {
   "cell_type": "code",
   "execution_count": 3,
   "id": "798904d6",
   "metadata": {},
   "outputs": [],
   "source": [
    "df.rename(columns={col: col.lower() for col in df.columns}, inplace=True)"
   ]
  },
  {
   "cell_type": "markdown",
   "id": "9c78f3f9",
   "metadata": {},
   "source": [
    "#### Dropping features listed above"
   ]
  },
  {
   "cell_type": "code",
   "execution_count": 4,
   "id": "1deebfe8",
   "metadata": {},
   "outputs": [],
   "source": [
    "df.drop(['incident_number', 'objectid', 'globalid', 'team_not_listed', 'number_tm_injured', \n",
    "         'level_of_care_rescuer', 'medical_problems_team_member', 'medical_problems_other_team_mem', \n",
    "         'creationdate', 'creator', 'editdate', 'editor', 'incident_uuid', 'form_version'\n",
    "        ], axis=1, inplace=True)"
   ]
  },
  {
   "cell_type": "code",
   "execution_count": 5,
   "id": "42698f23",
   "metadata": {},
   "outputs": [
    {
     "name": "stdout",
     "output_type": "stream",
     "text": [
      "(16574, 70)\n"
     ]
    },
    {
     "data": {
      "text/html": [
       "<div>\n",
       "<style scoped>\n",
       "    .dataframe tbody tr th:only-of-type {\n",
       "        vertical-align: middle;\n",
       "    }\n",
       "\n",
       "    .dataframe tbody tr th {\n",
       "        vertical-align: top;\n",
       "    }\n",
       "\n",
       "    .dataframe thead th {\n",
       "        text-align: right;\n",
       "    }\n",
       "</style>\n",
       "<table border=\"1\" class=\"dataframe\">\n",
       "  <thead>\n",
       "    <tr style=\"text-align: right;\">\n",
       "      <th></th>\n",
       "      <th>x</th>\n",
       "      <th>y</th>\n",
       "      <th>team</th>\n",
       "      <th>region</th>\n",
       "      <th>home_county</th>\n",
       "      <th>mutual_aid</th>\n",
       "      <th>mutual_aid_number</th>\n",
       "      <th>lead_agency</th>\n",
       "      <th>type</th>\n",
       "      <th>training_type</th>\n",
       "      <th>...</th>\n",
       "      <th>number_sub_ill_injured</th>\n",
       "      <th>number_sub_doa</th>\n",
       "      <th>number_sub_not_found</th>\n",
       "      <th>number_found_locations</th>\n",
       "      <th>point_found_count</th>\n",
       "      <th>level_of_care_subject</th>\n",
       "      <th>medical_problems_subject</th>\n",
       "      <th>medical_problems_other_subject</th>\n",
       "      <th>medical_provider</th>\n",
       "      <th>medical_provider_other</th>\n",
       "    </tr>\n",
       "  </thead>\n",
       "  <tbody>\n",
       "    <tr>\n",
       "      <th>0</th>\n",
       "      <td>-79.85480</td>\n",
       "      <td>40.36169</td>\n",
       "      <td>Allegheny_Mtn_Rescue_Group</td>\n",
       "      <td>Appalachian Region</td>\n",
       "      <td>Allegheny County - Pennsylvania</td>\n",
       "      <td>NO</td>\n",
       "      <td>NaN</td>\n",
       "      <td>NaN</td>\n",
       "      <td>SEARCH</td>\n",
       "      <td>NaN</td>\n",
       "      <td>...</td>\n",
       "      <td>0.0</td>\n",
       "      <td>0.0</td>\n",
       "      <td>0.0</td>\n",
       "      <td>1.0</td>\n",
       "      <td>1</td>\n",
       "      <td>NaN</td>\n",
       "      <td>NaN</td>\n",
       "      <td>NaN</td>\n",
       "      <td>NaN</td>\n",
       "      <td>NaN</td>\n",
       "    </tr>\n",
       "    <tr>\n",
       "      <th>1</th>\n",
       "      <td>-80.43129</td>\n",
       "      <td>41.11171</td>\n",
       "      <td>Allegheny_Mtn_Rescue_Group</td>\n",
       "      <td>Appalachian Region</td>\n",
       "      <td>Allegheny County - Pennsylvania</td>\n",
       "      <td>YES</td>\n",
       "      <td>NaN</td>\n",
       "      <td>NO</td>\n",
       "      <td>SEARCH</td>\n",
       "      <td>NaN</td>\n",
       "      <td>...</td>\n",
       "      <td>0.0</td>\n",
       "      <td>1.0</td>\n",
       "      <td>0.0</td>\n",
       "      <td>1.0</td>\n",
       "      <td>1</td>\n",
       "      <td>NaN</td>\n",
       "      <td>NaN</td>\n",
       "      <td>NaN</td>\n",
       "      <td>NaN</td>\n",
       "      <td>NaN</td>\n",
       "    </tr>\n",
       "    <tr>\n",
       "      <th>2</th>\n",
       "      <td>-111.39365</td>\n",
       "      <td>33.52634</td>\n",
       "      <td>Central_Arizona_MRA</td>\n",
       "      <td>Desert Region</td>\n",
       "      <td>Maricopa County - Arizona</td>\n",
       "      <td>NO</td>\n",
       "      <td>NaN</td>\n",
       "      <td>NaN</td>\n",
       "      <td>RECOVERY</td>\n",
       "      <td>NaN</td>\n",
       "      <td>...</td>\n",
       "      <td>0.0</td>\n",
       "      <td>1.0</td>\n",
       "      <td>0.0</td>\n",
       "      <td>NaN</td>\n",
       "      <td>NaN</td>\n",
       "      <td>NaN</td>\n",
       "      <td>NaN</td>\n",
       "      <td>NaN</td>\n",
       "      <td>NaN</td>\n",
       "      <td>NaN</td>\n",
       "    </tr>\n",
       "    <tr>\n",
       "      <th>3</th>\n",
       "      <td>-111.56268</td>\n",
       "      <td>33.51890</td>\n",
       "      <td>Central_Arizona_MRA</td>\n",
       "      <td>Desert Region</td>\n",
       "      <td>Maricopa County - Arizona</td>\n",
       "      <td>NO</td>\n",
       "      <td>NaN</td>\n",
       "      <td>NaN</td>\n",
       "      <td>RESCUE</td>\n",
       "      <td>NaN</td>\n",
       "      <td>...</td>\n",
       "      <td>1.0</td>\n",
       "      <td>0.0</td>\n",
       "      <td>0.0</td>\n",
       "      <td>NaN</td>\n",
       "      <td>NaN</td>\n",
       "      <td>BLS</td>\n",
       "      <td>Trauma_Extremities</td>\n",
       "      <td>NaN</td>\n",
       "      <td>SAR_team,Local_EMS</td>\n",
       "      <td>NaN</td>\n",
       "    </tr>\n",
       "    <tr>\n",
       "      <th>4</th>\n",
       "      <td>-79.72418</td>\n",
       "      <td>39.90210</td>\n",
       "      <td>Allegheny_Mtn_Rescue_Group</td>\n",
       "      <td>Appalachian Region</td>\n",
       "      <td>Allegheny County - Pennsylvania</td>\n",
       "      <td>YES</td>\n",
       "      <td>NaN</td>\n",
       "      <td>NO</td>\n",
       "      <td>SEARCH</td>\n",
       "      <td>NaN</td>\n",
       "      <td>...</td>\n",
       "      <td>0.0</td>\n",
       "      <td>0.0</td>\n",
       "      <td>0.0</td>\n",
       "      <td>1.0</td>\n",
       "      <td>1</td>\n",
       "      <td>NaN</td>\n",
       "      <td>NaN</td>\n",
       "      <td>NaN</td>\n",
       "      <td>NaN</td>\n",
       "      <td>NaN</td>\n",
       "    </tr>\n",
       "  </tbody>\n",
       "</table>\n",
       "<p>5 rows × 70 columns</p>\n",
       "</div>"
      ],
      "text/plain": [
       "           x         y                        team              region  \\\n",
       "0  -79.85480  40.36169  Allegheny_Mtn_Rescue_Group  Appalachian Region   \n",
       "1  -80.43129  41.11171  Allegheny_Mtn_Rescue_Group  Appalachian Region   \n",
       "2 -111.39365  33.52634         Central_Arizona_MRA       Desert Region   \n",
       "3 -111.56268  33.51890         Central_Arizona_MRA       Desert Region   \n",
       "4  -79.72418  39.90210  Allegheny_Mtn_Rescue_Group  Appalachian Region   \n",
       "\n",
       "                       home_county mutual_aid mutual_aid_number lead_agency  \\\n",
       "0  Allegheny County - Pennsylvania         NO               NaN         NaN   \n",
       "1  Allegheny County - Pennsylvania        YES               NaN          NO   \n",
       "2        Maricopa County - Arizona         NO               NaN         NaN   \n",
       "3        Maricopa County - Arizona         NO               NaN         NaN   \n",
       "4  Allegheny County - Pennsylvania        YES               NaN          NO   \n",
       "\n",
       "       type training_type  ... number_sub_ill_injured number_sub_doa  \\\n",
       "0    SEARCH           NaN  ...                    0.0            0.0   \n",
       "1    SEARCH           NaN  ...                    0.0            1.0   \n",
       "2  RECOVERY           NaN  ...                    0.0            1.0   \n",
       "3    RESCUE           NaN  ...                    1.0            0.0   \n",
       "4    SEARCH           NaN  ...                    0.0            0.0   \n",
       "\n",
       "   number_sub_not_found number_found_locations  point_found_count  \\\n",
       "0                   0.0                    1.0                  1   \n",
       "1                   0.0                    1.0                  1   \n",
       "2                   0.0                    NaN                NaN   \n",
       "3                   0.0                    NaN                NaN   \n",
       "4                   0.0                    1.0                  1   \n",
       "\n",
       "   level_of_care_subject  medical_problems_subject  \\\n",
       "0                    NaN                       NaN   \n",
       "1                    NaN                       NaN   \n",
       "2                    NaN                       NaN   \n",
       "3                    BLS        Trauma_Extremities   \n",
       "4                    NaN                       NaN   \n",
       "\n",
       "   medical_problems_other_subject    medical_provider  medical_provider_other  \n",
       "0                             NaN                 NaN                     NaN  \n",
       "1                             NaN                 NaN                     NaN  \n",
       "2                             NaN                 NaN                     NaN  \n",
       "3                             NaN  SAR_team,Local_EMS                     NaN  \n",
       "4                             NaN                 NaN                     NaN  \n",
       "\n",
       "[5 rows x 70 columns]"
      ]
     },
     "execution_count": 5,
     "metadata": {},
     "output_type": "execute_result"
    }
   ],
   "source": [
    "print(df.shape)\n",
    "df.head()"
   ]
  },
  {
   "cell_type": "markdown",
   "id": "346eb56f",
   "metadata": {},
   "source": [
    "# Data Cleaning\n",
    "- The dataset includes datapoints that are not \"typical\" Search and Rescue missions. Through data analysis, I will drop datapoints that do not describe incidents where a live victim was rescued. "
   ]
  },
  {
   "cell_type": "markdown",
   "id": "01fbb4bf",
   "metadata": {},
   "source": [
    "### Creating 2 functions to track rows dropped\n",
    "- 1st function will print a statement describing the process of dropping rows and will store all drops into a dictionary to view after all data cleaning completed.\n",
    "- 2nd function will return dataframe of all dropping actions performed."
   ]
  },
  {
   "cell_type": "code",
   "execution_count": 6,
   "id": "1f89cdd4",
   "metadata": {},
   "outputs": [],
   "source": [
    "uncleaned_total = df.shape[0]\n",
    "total_rows_dropped = 0\n",
    "rows_dropped_dict = {}\n",
    "\n",
    "def drop_rows(desc, mask):\n",
    "    '''Adds rows dropped to dictionary and prints dropping actions and total rows dropped'''\n",
    "    \n",
    "    rows_dropped = mask.shape[0]\n",
    "    global total_rows_dropped\n",
    "    total_rows_dropped += rows_dropped\n",
    "    perc_data = round(rows_dropped/uncleaned_total*100, 1)\n",
    "        \n",
    "    df.drop(index=mask.index, inplace=True)\n",
    "    df.reset_index(drop=True, inplace=True)\n",
    "\n",
    "    rows_dropped_dict[desc] = [rows_dropped, perc_data, df.shape[0]]\n",
    "\n",
    "    print('\\033[1m' + desc + '\\033[0m')\n",
    "    print('Number Rows Dropped:', rows_dropped, \n",
    "          '-', perc_data, '%')\n",
    "    print('Total Rows Dropped: ', total_rows_dropped, \n",
    "          '-', round(total_rows_dropped/uncleaned_total*100, 1), '%')\n",
    "    print('Original Total Rows:', uncleaned_total)\n",
    "    print('Current Total Rows: ', df.shape[0], '\\n')\n",
    "    \n",
    "def rows_dropped():\n",
    "    '''Returns dataframe of all recorded dropping actions'''\n",
    "    \n",
    "    rows_dropped = pd.DataFrame(data={'num_dropped':0, \n",
    "                                      'perc_data':0,\n",
    "                                      'total_rows':uncleaned_total},\n",
    "                                index=['Original Dataset'])\n",
    "\n",
    "    for key, val in rows_dropped_dict.items():\n",
    "        rows_dropped.loc[key] = [val[0], val[1], val[2]]\n",
    "        \n",
    "    rows_dropped.loc['Total'] = rows_dropped.sum(axis=0)\n",
    "    rows_dropped.loc['Total']['total_rows'] = df.shape[0]\n",
    "    \n",
    "    return rows_dropped"
   ]
  },
  {
   "cell_type": "markdown",
   "id": "995edb53",
   "metadata": {},
   "source": [
    "# Type, Category, Category Other\n",
    "- While analyzing this feature, it becomes apparent that this dataset include many datapoints that are not real SAR missions where a live, human victim is in need of rescuing \n",
    "    - e.g. training, public event display, evidence search, suicides, animal rescue\n",
    "    \n",
    "- I am subsetting the dataset to only include true ***typical*** SAR missions in order to predict the time it takes to rescue a live victim(s)."
   ]
  },
  {
   "cell_type": "markdown",
   "id": "b0e7d5da",
   "metadata": {},
   "source": [
    "#### Cleaning strings in `type`, `category`, `category_other` \n",
    "- Lowercasing all strings\n",
    "- Replacing empty strings with np.nan"
   ]
  },
  {
   "cell_type": "code",
   "execution_count": 7,
   "id": "59f98b70",
   "metadata": {},
   "outputs": [],
   "source": [
    "for col in ['type', 'category', 'category_other']:\n",
    "    df[col] = [x.lower().strip() \n",
    "               if isinstance(x, str) else x for x in df[col]]\n",
    "    df[col].replace(' ', np.nan, inplace=True)"
   ]
  },
  {
   "cell_type": "markdown",
   "id": "2a9ee490",
   "metadata": {},
   "source": [
    "## Type\n",
    "- This feature describes the mission type for each datapoint.\n",
    "\n",
    "#### Cleaning `type` to remove special characters"
   ]
  },
  {
   "cell_type": "code",
   "execution_count": 8,
   "id": "eab5e9f2",
   "metadata": {},
   "outputs": [],
   "source": [
    "df['type'] = [x.replace('_', ' ').replace('-', ' ').replace('–', ' ') \n",
    "              if isinstance(x, str) \n",
    "              else x \n",
    "              for x in df.type]"
   ]
  },
  {
   "cell_type": "markdown",
   "id": "6b42b000",
   "metadata": {},
   "source": [
    "**Dropping datapoints that aren't actual and typical SAR missions**"
   ]
  },
  {
   "cell_type": "code",
   "execution_count": 9,
   "id": "34766a56",
   "metadata": {},
   "outputs": [
    {
     "name": "stdout",
     "output_type": "stream",
     "text": [
      "\u001b[1m\"type\" that aren't true SAR missions\u001b[0m\n",
      "Number Rows Dropped: 1608 - 9.7 %\n",
      "Total Rows Dropped:  1608 - 9.7 %\n",
      "Original Total Rows: 16574\n",
      "Current Total Rows:  14966 \n",
      "\n"
     ]
    }
   ],
   "source": [
    "type_non_sar = ['abduction', 'animal rescue', 'assist/turnaround', \n",
    "                'call out only', 'evidence search', 'recovery', \n",
    "                'standby', 'training', 'turnaround', \n",
    "                'public relations/psar event']\n",
    "\n",
    "drop_rows('\"type\" that aren\\'t true SAR missions', \n",
    "          df[df['type'].isin(type_non_sar)])"
   ]
  },
  {
   "cell_type": "markdown",
   "id": "9266985b",
   "metadata": {},
   "source": [
    "## Training Type\n",
    "- After dropping rows above, this feature is completely Null, so it's being dropped"
   ]
  },
  {
   "cell_type": "code",
   "execution_count": 10,
   "id": "e35fa19f",
   "metadata": {},
   "outputs": [],
   "source": [
    "df.drop('training_type', axis=1, inplace=True)"
   ]
  },
  {
   "cell_type": "markdown",
   "id": "7f67a113",
   "metadata": {},
   "source": [
    "## Category\n",
    "- Like `type`, this feature describes the category of event resulting in the SAR mission\n",
    "- Datapoints that are not true SAR missions will be dropped"
   ]
  },
  {
   "cell_type": "code",
   "execution_count": 11,
   "id": "313adcf7",
   "metadata": {},
   "outputs": [
    {
     "name": "stdout",
     "output_type": "stream",
     "text": [
      "\u001b[1m\"category\" that aren't true SAR missions\u001b[0m\n",
      "Number Rows Dropped: 553 - 3.3 %\n",
      "Total Rows Dropped:  2161 - 13.0 %\n",
      "Original Total Rows: 16574\n",
      "Current Total Rows:  14413 \n",
      "\n"
     ]
    }
   ],
   "source": [
    "cat_non_sar = ['abduction', 'animal', 'despondent suicide', 'despondent/suicide', \n",
    "               'homicide', 'runaway', 'school/education program', 'training']\n",
    "\n",
    "drop_rows('\"category\" that aren\\'t true SAR missions', \n",
    "          df[df['category'].isin(cat_non_sar)])"
   ]
  },
  {
   "cell_type": "markdown",
   "id": "9cc48375",
   "metadata": {},
   "source": [
    "## Category Other\n",
    "- This feature describes in more detail the category of event\n",
    "- Datapoints where `category_other` are not true SAR missions will be dropped"
   ]
  },
  {
   "cell_type": "code",
   "execution_count": 12,
   "id": "6964fd31",
   "metadata": {},
   "outputs": [
    {
     "name": "stdout",
     "output_type": "stream",
     "text": [
      "\u001b[1m\"category_other\" that aren't true SAR missions\u001b[0m\n",
      "Number Rows Dropped: 111 - 0.7 %\n",
      "Total Rows Dropped:  2272 - 13.7 %\n",
      "Original Total Rows: 16574\n",
      "Current Total Rows:  14302 \n",
      "\n"
     ]
    }
   ],
   "source": [
    "cat_other_non_sar = ['abducted', 'abduction', 'body dump', 'burglar', \n",
    "                     'car crash, possible dui related', 'cold case missing person', \n",
    "                     'crime / warrant', 'crime suspect', 'criminal', 'despondent suicide', \n",
    "                     'dog', 'dog rescue', 'dogs', 'drug dealer', 'dui', 'escaped prisoner', \n",
    "                     'escaped prisoner from fremont east complex', 'escaped trustee', \n",
    "                     'fema k-9', 'hiding from cartel', \n",
    "                     'human remains search for possible homicide victim.', \n",
    "                     'immobile and unresponsive', 'intoxicated walk-away', 'jail escapee', \n",
    "                     'k9', 'kidnapping/murder', 'law enforcement subject', \n",
    "                     'law enforecement search for a possible hrd', \n",
    "                     'mine exploration - dog recovery', \n",
    "                     'missing male from wellness check by fpd', 'missing rave attendee', \n",
    "                     'party goer', 'possible crime victim', 'possible suicide', \n",
    "                     'possible victim of crime' , 'possibly lost, possibly drug related ', \n",
    "                     'reported missing by boyfriend', 'searching for lost pet', \n",
    "                     'subject walked away from vehhicle accident, roll over', \n",
    "                     'subject walked out, thought to be hiking but found in local motel.', \n",
    "                     \"subject's car located near road.  may have been lost.\", 'suspect', \n",
    "                     'suspect search', 'transient', 'unk. skull found.', \n",
    "                     'unknown walk-away',  \n",
    "                     'unsure at time of search. turned into a murder subject search.', \n",
    "                     'a guy kicked out of a bar.', 'abandoned vehicle', 'evidence search', \n",
    "                     'homicide', 'homicide victim', 'homless ', 'left home.', \n",
    "                     'mva patient / suspect', \n",
    "                     'missing party, car towed, possible despondant/suicide', 'ptsd']\n",
    "\n",
    "drop_rows('\"category_other\" that aren\\'t true SAR missions', \n",
    "          df[df['category_other'].isin(cat_other_non_sar)])"
   ]
  },
  {
   "cell_type": "markdown",
   "id": "a95fee5a",
   "metadata": {},
   "source": [
    "---\n",
    "---"
   ]
  },
  {
   "cell_type": "markdown",
   "id": "316bf940",
   "metadata": {},
   "source": [
    "# Total Hours - Target\n",
    "#### Cleaning Total Hours\n",
    "- replace all values <= 0 with np.nan\n",
    "- dropping all Nulls\n",
    "\n",
    "#### Dropping all datapoints that exceed 7 days"
   ]
  },
  {
   "cell_type": "code",
   "execution_count": 13,
   "id": "52717a38",
   "metadata": {},
   "outputs": [
    {
     "name": "stdout",
     "output_type": "stream",
     "text": [
      "\u001b[1m\"total_hours\" are Null\u001b[0m\n",
      "Number Rows Dropped: 678 - 4.1 %\n",
      "Total Rows Dropped:  2950 - 17.8 %\n",
      "Original Total Rows: 16574\n",
      "Current Total Rows:  13624 \n",
      "\n",
      "\u001b[1m\"total_hours\" > 168 (7 days)\u001b[0m\n",
      "Number Rows Dropped: 659 - 4.0 %\n",
      "Total Rows Dropped:  3609 - 21.8 %\n",
      "Original Total Rows: 16574\n",
      "Current Total Rows:  12965 \n",
      "\n"
     ]
    }
   ],
   "source": [
    "df['total_hours'] = [np.nan if time <=0 else time for time in df.total_hours]\n",
    "\n",
    "drop_rows('\"total_hours\" are Null', df[pd.isna(df.total_hours)])\n",
    "\n",
    "drop_rows('\"total_hours\" > 168 (7 days)', df[df.total_hours >= 168])"
   ]
  },
  {
   "cell_type": "markdown",
   "id": "70a648c3",
   "metadata": {},
   "source": [
    "# Date"
   ]
  },
  {
   "cell_type": "markdown",
   "id": "e1544db4",
   "metadata": {},
   "source": [
    "### Creating `year` by parsing `date`\n",
    "- Replacing 1 incorrect entry\n",
    "- Dropping datapoints that predate 2014 as the dataset goes back to 1970's, but these dates are all outliers "
   ]
  },
  {
   "cell_type": "code",
   "execution_count": 14,
   "id": "c7232630",
   "metadata": {},
   "outputs": [],
   "source": [
    "df['year'] = [int(x[:4]) for x in df.date]\n",
    "\n",
    "df.year.replace(2104, 2014, inplace=True)"
   ]
  },
  {
   "cell_type": "code",
   "execution_count": 15,
   "id": "3d2be2be",
   "metadata": {},
   "outputs": [
    {
     "data": {
      "text/plain": [
       "2020    2216\n",
       "2017    1985\n",
       "2019    1983\n",
       "2018    1942\n",
       "2015    1716\n",
       "2016    1515\n",
       "2014     964\n",
       "2021     598\n",
       "1973      16\n",
       "1974       9\n",
       "2013       6\n",
       "1975       4\n",
       "1972       3\n",
       "1976       2\n",
       "1971       2\n",
       "2000       2\n",
       "2012       1\n",
       "1918       1\n",
       "Name: year, dtype: int64"
      ]
     },
     "execution_count": 15,
     "metadata": {},
     "output_type": "execute_result"
    }
   ],
   "source": [
    "df.year.value_counts()"
   ]
  },
  {
   "cell_type": "code",
   "execution_count": 16,
   "id": "41ad302e",
   "metadata": {},
   "outputs": [
    {
     "name": "stdout",
     "output_type": "stream",
     "text": [
      "\u001b[1m\"date\" <= 2014\u001b[0m\n",
      "Number Rows Dropped: 46 - 0.3 %\n",
      "Total Rows Dropped:  3655 - 22.1 %\n",
      "Original Total Rows: 16574\n",
      "Current Total Rows:  12919 \n",
      "\n"
     ]
    }
   ],
   "source": [
    "drop_rows('\"date\" <= 2014', df[df.year <= 2013])"
   ]
  },
  {
   "cell_type": "markdown",
   "id": "f3ab83aa",
   "metadata": {},
   "source": [
    "Observations\n",
    "- This engineered feature was created strictly to limit the dataset to only contain incidents that occured after 2013 when SAR teams began regularly inputing data"
   ]
  },
  {
   "cell_type": "markdown",
   "id": "aab383ee",
   "metadata": {},
   "source": [
    "---\n",
    "---"
   ]
  },
  {
   "cell_type": "markdown",
   "id": "c1f7e5a4",
   "metadata": {},
   "source": [
    "# Metadata for all 5 Subjects\n",
    "- This dadaaset includes metadata for up to 5 subjects. There is also a feature `number_subjects` that can exceed the 5 included subjects. This `number_subjects` will be corrected and imputed based on these 5 subjects' metadata"
   ]
  },
  {
   "cell_type": "markdown",
   "id": "77a43f99",
   "metadata": {},
   "source": [
    "## Cleaning values for all subject metadata\n",
    "- replacing ages <= 0 with np.nan\n",
    "- lowercasing all subject variables, replacing empty strings with np.nan, correcting miscellaneous inconsistencies. "
   ]
  },
  {
   "cell_type": "code",
   "execution_count": 17,
   "id": "bdb1e651",
   "metadata": {},
   "outputs": [],
   "source": [
    "for i in list(range(1, 6)):\n",
    "    age = 'age_sub_'\n",
    "    df[age+str(i)] = [np.nan if age <=0 \n",
    "                      else age \n",
    "                      for age in df[age+str(i)]]\n",
    "    \n",
    "subs_meta = ['gender', 'fitness', 'experience', 'mental_factor', 'mental_rating']\n",
    "\n",
    "for col in subs_meta:    \n",
    "    for i in list(range(1, 6)):\n",
    "        col_name = col+'_sub_'+str(i)\n",
    "\n",
    "        df[col_name] = [x.lower()if isinstance(x, str) \n",
    "                        else x for x in df[col_name]]\n",
    "        \n",
    "        df[col_name].replace(' ', np.nan, inplace=True)\n",
    "        df[col_name].replace('unknown', np.nan, inplace=True)\n",
    "        df[col_name].replace('m', 'male', inplace=True)"
   ]
  },
  {
   "cell_type": "markdown",
   "id": "de9d3d9e",
   "metadata": {},
   "source": [
    "## Creating functions to return dataframes of metadata value_counts "
   ]
  },
  {
   "cell_type": "code",
   "execution_count": 18,
   "id": "0d786b1d",
   "metadata": {},
   "outputs": [],
   "source": [
    "def feat_df(feat):\n",
    "    '''\n",
    "    Adds count for each category of a feature into a dictionary. \n",
    "    Returns a df of 5 subjects\n",
    "    ''' \n",
    "\n",
    "    cats = {}\n",
    "\n",
    "    if feat == 'age':\n",
    "        cats = {'non_null':[], 'nan':[]}\n",
    "        for i in list(range(1, 6)):\n",
    "            for key, val in cats.items():\n",
    "                if key == 'nan':\n",
    "                    cats[key].append(df[pd.isna(df[feat + '_sub_' + str(i)])].shape[0])\n",
    "                else:\n",
    "                    cats[key].append(df[pd.notnull(df[feat + '_sub_' + str(i)])].shape[0])\n",
    "        \n",
    "    else:\n",
    "        for key in df[feat+'_sub_1'].unique():\n",
    "            if str(key) == 'nan':\n",
    "                cats[str(key)] = []\n",
    "            else:\n",
    "                cats[key] = []\n",
    "\n",
    "        for i in list(range(1, 6)):\n",
    "            for key, val in cats.items():\n",
    "                if key == 'nan':\n",
    "                    cats[key].append(df[pd.isna(df[feat + '_sub_' + str(i)])].shape[0])\n",
    "                else:\n",
    "                    cats[key].append(df[df[feat + '_sub_' + str(i)] == key].shape[0])           \n",
    "\n",
    "    feat_df = pd.DataFrame(data=cats,\n",
    "                          index=[feat + '_sub_' + str(i) \n",
    "                                 for i in list(range(1, 6))])\n",
    "    \n",
    "    nan = feat_df.nan\n",
    "    feat_df.drop('nan', axis=1, inplace=True)\n",
    "    feat_df['NaN'] = nan\n",
    "\n",
    "    feat_df.loc['dataset_totals']= feat_df.sum(axis=0)\n",
    "    feat_df.loc['dataset_totals']['NaN'] = df.shape[0] - \\\n",
    "                                               int(feat_df.iloc[-1:, :-1].sum(axis=1).values)\n",
    "                \n",
    "    return feat_df"
   ]
  },
  {
   "cell_type": "markdown",
   "id": "32dc0b46",
   "metadata": {},
   "source": [
    "## Ages"
   ]
  },
  {
   "cell_type": "markdown",
   "id": "6664abef",
   "metadata": {},
   "source": [
    "#### Removing outliers for `age_sub_1`"
   ]
  },
  {
   "cell_type": "code",
   "execution_count": 19,
   "id": "573a583a",
   "metadata": {
    "scrolled": true
   },
   "outputs": [
    {
     "data": {
      "text/plain": [
       "92.0      3\n",
       "115.0     1\n",
       "198.0     1\n",
       "2011.0    1\n",
       "2014.0    1\n",
       "2018.0    1\n",
       "Name: age_sub_1, dtype: int64"
      ]
     },
     "execution_count": 19,
     "metadata": {},
     "output_type": "execute_result"
    }
   ],
   "source": [
    "df.age_sub_1.value_counts().sort_index().tail(6)"
   ]
  },
  {
   "cell_type": "code",
   "execution_count": 20,
   "id": "34091546",
   "metadata": {},
   "outputs": [
    {
     "name": "stdout",
     "output_type": "stream",
     "text": [
      "\u001b[1m\"age_sub_1\" > 92\u001b[0m\n",
      "Number Rows Dropped: 5 - 0.0 %\n",
      "Total Rows Dropped:  3660 - 22.1 %\n",
      "Original Total Rows: 16574\n",
      "Current Total Rows:  12914 \n",
      "\n"
     ]
    }
   ],
   "source": [
    "drop_rows('\"age_sub_1\" > 92', \n",
    "          df[df.age_sub_1 > 92])"
   ]
  },
  {
   "cell_type": "markdown",
   "id": "98c27496",
   "metadata": {},
   "source": [
    "## Genders"
   ]
  },
  {
   "cell_type": "code",
   "execution_count": 21,
   "id": "3df422bd",
   "metadata": {
    "scrolled": true
   },
   "outputs": [
    {
     "data": {
      "text/html": [
       "<div>\n",
       "<style scoped>\n",
       "    .dataframe tbody tr th:only-of-type {\n",
       "        vertical-align: middle;\n",
       "    }\n",
       "\n",
       "    .dataframe tbody tr th {\n",
       "        vertical-align: top;\n",
       "    }\n",
       "\n",
       "    .dataframe thead th {\n",
       "        text-align: right;\n",
       "    }\n",
       "</style>\n",
       "<table border=\"1\" class=\"dataframe\">\n",
       "  <thead>\n",
       "    <tr style=\"text-align: right;\">\n",
       "      <th></th>\n",
       "      <th>male</th>\n",
       "      <th>female</th>\n",
       "      <th>NaN</th>\n",
       "    </tr>\n",
       "  </thead>\n",
       "  <tbody>\n",
       "    <tr>\n",
       "      <th>gender_sub_1</th>\n",
       "      <td>6102</td>\n",
       "      <td>3047</td>\n",
       "      <td>3765</td>\n",
       "    </tr>\n",
       "    <tr>\n",
       "      <th>gender_sub_2</th>\n",
       "      <td>985</td>\n",
       "      <td>716</td>\n",
       "      <td>11213</td>\n",
       "    </tr>\n",
       "    <tr>\n",
       "      <th>gender_sub_3</th>\n",
       "      <td>301</td>\n",
       "      <td>153</td>\n",
       "      <td>12460</td>\n",
       "    </tr>\n",
       "    <tr>\n",
       "      <th>gender_sub_4</th>\n",
       "      <td>98</td>\n",
       "      <td>73</td>\n",
       "      <td>12743</td>\n",
       "    </tr>\n",
       "    <tr>\n",
       "      <th>gender_sub_5</th>\n",
       "      <td>47</td>\n",
       "      <td>42</td>\n",
       "      <td>12825</td>\n",
       "    </tr>\n",
       "    <tr>\n",
       "      <th>dataset_totals</th>\n",
       "      <td>7533</td>\n",
       "      <td>4031</td>\n",
       "      <td>1350</td>\n",
       "    </tr>\n",
       "  </tbody>\n",
       "</table>\n",
       "</div>"
      ],
      "text/plain": [
       "                male  female    NaN\n",
       "gender_sub_1    6102    3047   3765\n",
       "gender_sub_2     985     716  11213\n",
       "gender_sub_3     301     153  12460\n",
       "gender_sub_4      98      73  12743\n",
       "gender_sub_5      47      42  12825\n",
       "dataset_totals  7533    4031   1350"
      ]
     },
     "execution_count": 21,
     "metadata": {},
     "output_type": "execute_result"
    }
   ],
   "source": [
    "feat_df('gender')"
   ]
  },
  {
   "cell_type": "code",
   "execution_count": 22,
   "id": "dd6797a5",
   "metadata": {
    "scrolled": true
   },
   "outputs": [],
   "source": [
    "df['male_female'] = [list(tuple(set([str(a), str(b), str(c), str(d), str(e)])))\n",
    "                     for a, b, c, d, e in zip(df.gender_sub_1, \n",
    "                                              df.gender_sub_2, \n",
    "                                              df.gender_sub_3, \n",
    "                                              df.gender_sub_4, \n",
    "                                              df.gender_sub_5)]\n",
    "\n",
    "df['male_female'].map(lambda x: x.remove('nan') if 'nan' in x else x)\n",
    "df['male_female'] = [' '.join(x) for x in df.male_female]\n",
    "df['male_female'].replace('', np.nan, inplace=True)"
   ]
  },
  {
   "cell_type": "code",
   "execution_count": 23,
   "id": "f15e5c3e",
   "metadata": {},
   "outputs": [
    {
     "data": {
      "text/plain": [
       "male           5614\n",
       "NaN            3695\n",
       "female         2858\n",
       "male female     747\n",
       "Name: male_female, dtype: int64"
      ]
     },
     "execution_count": 23,
     "metadata": {},
     "output_type": "execute_result"
    }
   ],
   "source": [
    "df.male_female.value_counts(dropna=False)"
   ]
  },
  {
   "cell_type": "code",
   "execution_count": 24,
   "id": "5b3c7239",
   "metadata": {},
   "outputs": [
    {
     "data": {
      "text/plain": [
       "male_female\n",
       "female         32.299160\n",
       "male           37.005344\n",
       "male female    38.700134\n",
       "Name: total_hours, dtype: float64"
      ]
     },
     "execution_count": 24,
     "metadata": {},
     "output_type": "execute_result"
    }
   ],
   "source": [
    "df.groupby('male_female')['total_hours'].mean()"
   ]
  },
  {
   "cell_type": "markdown",
   "id": "0d1aa4e0",
   "metadata": {},
   "source": [
    "Observations\n",
    "- This engineered feature does have distinct differences in average total hours for female only incidents\n",
    "- Since more than a third of the dataset is null for this feature, it will be included in the classification models"
   ]
  },
  {
   "cell_type": "markdown",
   "id": "98b30967",
   "metadata": {},
   "source": [
    "## Fitness & Experience\n",
    "\n",
    "Observations\n",
    "- I experimented with manufacturing different features from theses variables, but they did not significantly improve my models. They will not be included in the classification models. \n",
    "- These variables are not being dropped here as they will be used to analyze other variables and impute nulls. "
   ]
  },
  {
   "cell_type": "markdown",
   "id": "d72d81e3",
   "metadata": {},
   "source": [
    "## Mental Factors"
   ]
  },
  {
   "cell_type": "markdown",
   "id": "4d0b7a5e",
   "metadata": {},
   "source": [
    "#### Cleaning and Consolidating `mental_factor_sub_1` categories"
   ]
  },
  {
   "cell_type": "code",
   "execution_count": 25,
   "id": "60522be6",
   "metadata": {},
   "outputs": [
    {
     "data": {
      "text/html": [
       "<div>\n",
       "<style scoped>\n",
       "    .dataframe tbody tr th:only-of-type {\n",
       "        vertical-align: middle;\n",
       "    }\n",
       "\n",
       "    .dataframe tbody tr th {\n",
       "        vertical-align: top;\n",
       "    }\n",
       "\n",
       "    .dataframe thead th {\n",
       "        text-align: right;\n",
       "    }\n",
       "</style>\n",
       "<table border=\"1\" class=\"dataframe\">\n",
       "  <thead>\n",
       "    <tr style=\"text-align: right;\">\n",
       "      <th></th>\n",
       "      <th>dementia</th>\n",
       "      <th>none</th>\n",
       "      <th>intoxicated</th>\n",
       "      <th>intellectual disability</th>\n",
       "      <th>mental illness</th>\n",
       "      <th>NaN</th>\n",
       "    </tr>\n",
       "  </thead>\n",
       "  <tbody>\n",
       "    <tr>\n",
       "      <th>mental_factor_sub_1</th>\n",
       "      <td>274</td>\n",
       "      <td>2317</td>\n",
       "      <td>97</td>\n",
       "      <td>92</td>\n",
       "      <td>30</td>\n",
       "      <td>10104</td>\n",
       "    </tr>\n",
       "    <tr>\n",
       "      <th>mental_factor_sub_2</th>\n",
       "      <td>0</td>\n",
       "      <td>213</td>\n",
       "      <td>0</td>\n",
       "      <td>0</td>\n",
       "      <td>0</td>\n",
       "      <td>12697</td>\n",
       "    </tr>\n",
       "    <tr>\n",
       "      <th>mental_factor_sub_3</th>\n",
       "      <td>0</td>\n",
       "      <td>50</td>\n",
       "      <td>0</td>\n",
       "      <td>0</td>\n",
       "      <td>0</td>\n",
       "      <td>12864</td>\n",
       "    </tr>\n",
       "    <tr>\n",
       "      <th>mental_factor_sub_4</th>\n",
       "      <td>0</td>\n",
       "      <td>16</td>\n",
       "      <td>0</td>\n",
       "      <td>0</td>\n",
       "      <td>0</td>\n",
       "      <td>12898</td>\n",
       "    </tr>\n",
       "    <tr>\n",
       "      <th>mental_factor_sub_5</th>\n",
       "      <td>0</td>\n",
       "      <td>5</td>\n",
       "      <td>0</td>\n",
       "      <td>0</td>\n",
       "      <td>0</td>\n",
       "      <td>12909</td>\n",
       "    </tr>\n",
       "    <tr>\n",
       "      <th>dataset_totals</th>\n",
       "      <td>274</td>\n",
       "      <td>2601</td>\n",
       "      <td>97</td>\n",
       "      <td>92</td>\n",
       "      <td>30</td>\n",
       "      <td>9820</td>\n",
       "    </tr>\n",
       "  </tbody>\n",
       "</table>\n",
       "</div>"
      ],
      "text/plain": [
       "                     dementia  none  intoxicated  intellectual disability  \\\n",
       "mental_factor_sub_1       274  2317           97                       92   \n",
       "mental_factor_sub_2         0   213            0                        0   \n",
       "mental_factor_sub_3         0    50            0                        0   \n",
       "mental_factor_sub_4         0    16            0                        0   \n",
       "mental_factor_sub_5         0     5            0                        0   \n",
       "dataset_totals            274  2601           97                       92   \n",
       "\n",
       "                     mental illness    NaN  \n",
       "mental_factor_sub_1              30  10104  \n",
       "mental_factor_sub_2               0  12697  \n",
       "mental_factor_sub_3               0  12864  \n",
       "mental_factor_sub_4               0  12898  \n",
       "mental_factor_sub_5               0  12909  \n",
       "dataset_totals                   30   9820  "
      ]
     },
     "execution_count": 25,
     "metadata": {},
     "output_type": "execute_result"
    }
   ],
   "source": [
    "df['mental_factor_sub_1'] = [x.replace('_', ' ') if isinstance(x, str) \n",
    "                             else x\n",
    "                             for x in df.mental_factor_sub_1]\n",
    "df.mental_factor_sub_1.replace('snow shoe racer', 'none', inplace=True)\n",
    "\n",
    "df['mental_factor_sub_1'] = ['dementia' if \n",
    "                                 ((isinstance(x, str)) and ('dementia' in x))\n",
    "                             else 'intellectual disability' if \n",
    "                                 ((isinstance(x, str)) and ('autism' in x)) |\n",
    "                                 ((isinstance(x, str)) and ('intellectual' in x))\n",
    "                             else 'mental illness' if \n",
    "                                 ((isinstance(x, str)) and ('mental illness' in x))\n",
    "                             else 'intoxicated' if \n",
    "                                 ((isinstance(x, str)) and ('intoxication' in x))\n",
    "                             else x \n",
    "                             for x in df.mental_factor_sub_1 ]\n",
    "\n",
    "feat_df('mental_factor')"
   ]
  },
  {
   "cell_type": "markdown",
   "id": "e1043846",
   "metadata": {},
   "source": [
    "Observations\n",
    "- Further below in this notebook I create a OHE encoded feature `mental` based off this information on the frequecny of different mental factors. Analysis is included with the feature engineering. "
   ]
  },
  {
   "cell_type": "markdown",
   "id": "1dfcf564",
   "metadata": {},
   "source": [
    "## Mental Ratings"
   ]
  },
  {
   "cell_type": "code",
   "execution_count": 26,
   "id": "43913bb2",
   "metadata": {},
   "outputs": [
    {
     "data": {
      "text/html": [
       "<div>\n",
       "<style scoped>\n",
       "    .dataframe tbody tr th:only-of-type {\n",
       "        vertical-align: middle;\n",
       "    }\n",
       "\n",
       "    .dataframe tbody tr th {\n",
       "        vertical-align: top;\n",
       "    }\n",
       "\n",
       "    .dataframe thead th {\n",
       "        text-align: right;\n",
       "    }\n",
       "</style>\n",
       "<table border=\"1\" class=\"dataframe\">\n",
       "  <thead>\n",
       "    <tr style=\"text-align: right;\">\n",
       "      <th></th>\n",
       "      <th>mild</th>\n",
       "      <th>moderate</th>\n",
       "      <th>normal</th>\n",
       "      <th>severe</th>\n",
       "      <th>NaN</th>\n",
       "    </tr>\n",
       "  </thead>\n",
       "  <tbody>\n",
       "    <tr>\n",
       "      <th>mental_rating_sub_1</th>\n",
       "      <td>112</td>\n",
       "      <td>160</td>\n",
       "      <td>2023</td>\n",
       "      <td>53</td>\n",
       "      <td>10566</td>\n",
       "    </tr>\n",
       "    <tr>\n",
       "      <th>mental_rating_sub_2</th>\n",
       "      <td>3</td>\n",
       "      <td>1</td>\n",
       "      <td>185</td>\n",
       "      <td>2</td>\n",
       "      <td>12723</td>\n",
       "    </tr>\n",
       "    <tr>\n",
       "      <th>mental_rating_sub_3</th>\n",
       "      <td>0</td>\n",
       "      <td>0</td>\n",
       "      <td>41</td>\n",
       "      <td>0</td>\n",
       "      <td>12873</td>\n",
       "    </tr>\n",
       "    <tr>\n",
       "      <th>mental_rating_sub_4</th>\n",
       "      <td>0</td>\n",
       "      <td>0</td>\n",
       "      <td>16</td>\n",
       "      <td>0</td>\n",
       "      <td>12898</td>\n",
       "    </tr>\n",
       "    <tr>\n",
       "      <th>mental_rating_sub_5</th>\n",
       "      <td>0</td>\n",
       "      <td>0</td>\n",
       "      <td>5</td>\n",
       "      <td>0</td>\n",
       "      <td>12909</td>\n",
       "    </tr>\n",
       "    <tr>\n",
       "      <th>dataset_totals</th>\n",
       "      <td>115</td>\n",
       "      <td>161</td>\n",
       "      <td>2270</td>\n",
       "      <td>55</td>\n",
       "      <td>10313</td>\n",
       "    </tr>\n",
       "  </tbody>\n",
       "</table>\n",
       "</div>"
      ],
      "text/plain": [
       "                     mild  moderate  normal  severe    NaN\n",
       "mental_rating_sub_1   112       160    2023      53  10566\n",
       "mental_rating_sub_2     3         1     185       2  12723\n",
       "mental_rating_sub_3     0         0      41       0  12873\n",
       "mental_rating_sub_4     0         0      16       0  12898\n",
       "mental_rating_sub_5     0         0       5       0  12909\n",
       "dataset_totals        115       161    2270      55  10313"
      ]
     },
     "execution_count": 26,
     "metadata": {},
     "output_type": "execute_result"
    }
   ],
   "source": [
    "feat_df('mental_rating')"
   ]
  },
  {
   "cell_type": "markdown",
   "id": "27ea54bb",
   "metadata": {},
   "source": [
    "Observations\n",
    "- This feature will be used to impute nulls for the `mental` feature that we described above. This featured is engineered further below in this notebook. Analysis is included with the feature engineering. "
   ]
  },
  {
   "cell_type": "markdown",
   "id": "cf60cbdf",
   "metadata": {},
   "source": [
    "---\n",
    "---"
   ]
  },
  {
   "cell_type": "markdown",
   "id": "f6aa9afe",
   "metadata": {},
   "source": [
    "# Number Subjects\n",
    "- This feature is critical in the effort to normalize the dataset to include \"typical\" Search and Rescue missions. \n",
    "- Missions with more than 10 subjects are in fact outliers and will be dropped."
   ]
  },
  {
   "cell_type": "markdown",
   "id": "337e1fbd",
   "metadata": {},
   "source": [
    "#### Cleaning `number_subjects`\n",
    "- Filling nulls with 0 for `number_subjects` in order to imput from `sub_total`"
   ]
  },
  {
   "cell_type": "code",
   "execution_count": 27,
   "id": "34f27e3a",
   "metadata": {},
   "outputs": [],
   "source": [
    "df['number_subjects'] = [np.nan if num <=0 else num \n",
    "                         for num in df['number_subjects']]\n",
    "\n",
    "df.number_subjects.fillna(0, inplace=True)"
   ]
  },
  {
   "cell_type": "markdown",
   "id": "8a13b45c",
   "metadata": {},
   "source": [
    "#### Dropping rows with `number_subjects` > 10 as these are outliers"
   ]
  },
  {
   "cell_type": "code",
   "execution_count": 28,
   "id": "013b4a4a",
   "metadata": {},
   "outputs": [
    {
     "name": "stdout",
     "output_type": "stream",
     "text": [
      "\u001b[1m\"number_subjects\" > 10\u001b[0m\n",
      "Number Rows Dropped: 31 - 0.2 %\n",
      "Total Rows Dropped:  3691 - 22.3 %\n",
      "Original Total Rows: 16574\n",
      "Current Total Rows:  12883 \n",
      "\n"
     ]
    }
   ],
   "source": [
    "drop_rows('\"number_subjects\" > 10', \n",
    "          df[df.number_subjects > 10])"
   ]
  },
  {
   "cell_type": "markdown",
   "id": "ac32ea73",
   "metadata": {},
   "source": [
    "## Creating count feature for each subject based on present metadata"
   ]
  },
  {
   "cell_type": "markdown",
   "id": "ab305668",
   "metadata": {},
   "source": [
    "### Creating 5 OHE features to confirm existence of subjects (1-5)\n",
    "- These 5 count features are initiated by OHE encoding where `age` for that subject is not null\n",
    "- The nulls are then imputed as True if other metadata for that subject is not null"
   ]
  },
  {
   "cell_type": "code",
   "execution_count": 29,
   "id": "dfc7357b",
   "metadata": {},
   "outputs": [],
   "source": [
    "for i in list(range(1, 6)):\n",
    "    age = 'age_sub_'\n",
    "    sub = 'sub_'\n",
    "    df[sub+str(i)] = [1 if age > 0 else np.nan for age in df[age+str(i)]]\n",
    "    \n",
    "subs_meta = ['gender', 'fitness', 'experience', 'mental_factor', 'mental_rating']\n",
    "\n",
    "for col in subs_meta:    \n",
    "    for i in list(range(1, 6)):\n",
    "        sub = 'sub_' + str(i)\n",
    "        feat = col + '_sub_' + str(i)\n",
    "        \n",
    "        df[sub] = [1 if (pd.isna(sub)) & (pd.notnull(col)) \n",
    "                   else sub \n",
    "                   for sub, col in zip(df[sub], df[feat])]"
   ]
  },
  {
   "cell_type": "markdown",
   "id": "ae24d4a7",
   "metadata": {},
   "source": [
    "#### Creating `sub_total` from summing OHE subs(1-5) count features"
   ]
  },
  {
   "cell_type": "code",
   "execution_count": 30,
   "id": "a16f8244",
   "metadata": {},
   "outputs": [],
   "source": [
    "df['sub_total'] = df[['sub_1', 'sub_2', 'sub_3', 'sub_4', 'sub_5']].sum(axis=1)\n",
    "\n",
    "df.sub_total.replace(0, np.nan, inplace=True)"
   ]
  },
  {
   "cell_type": "markdown",
   "id": "b41b741e",
   "metadata": {},
   "source": [
    "#### Comparing `sub_total` with `number_subjects`\n",
    "- If `sub_total`is greater than `number_subjects` it will be the new `number_subjects`"
   ]
  },
  {
   "cell_type": "code",
   "execution_count": 31,
   "id": "ef20133a",
   "metadata": {},
   "outputs": [],
   "source": [
    "df['number_subjects'] = [sub_total if sub_total > num_subs else num_subs\n",
    "                         for num_subs, sub_total in zip(df.number_subjects, df.sub_total)]"
   ]
  },
  {
   "cell_type": "markdown",
   "id": "054e3171",
   "metadata": {},
   "source": [
    "#### Dropping rows where `number_subjects` = 0\n",
    "- After all preceding data cleaning, the remaining datapoints where `number_subjects` = 0 will be dropped. This is a large proportion of the original dataset, but it is necessary to drop these as they are likely to contain irregular data inputs and non-typical Search and Rescue missions. This analyis is based on the timeframe it takes to locate and rescue a live victim. "
   ]
  },
  {
   "cell_type": "code",
   "execution_count": 32,
   "id": "1b7a2849",
   "metadata": {},
   "outputs": [
    {
     "name": "stdout",
     "output_type": "stream",
     "text": [
      "\u001b[1m\"number_subjects\" = 0\u001b[0m\n",
      "Number Rows Dropped: 1192 - 7.2 %\n",
      "Total Rows Dropped:  4883 - 29.5 %\n",
      "Original Total Rows: 16574\n",
      "Current Total Rows:  11691 \n",
      "\n"
     ]
    }
   ],
   "source": [
    "drop_rows('\"number_subjects\" = 0', \n",
    "          df[df.number_subjects == 0])"
   ]
  },
  {
   "cell_type": "markdown",
   "id": "3b858091",
   "metadata": {},
   "source": [
    "---\n",
    "---"
   ]
  },
  {
   "cell_type": "markdown",
   "id": "b4074251",
   "metadata": {},
   "source": [
    "# Subject(s) metadata pertaining to SAR team efforts\n",
    "\n",
    "Features describing count & state of all subjects\n",
    "- `sub_doa`, `sub_not_found`\n",
    "\n",
    "Features describing number locations and number found at locations\n",
    "- `number_found_locations`, `point_found_locations`\n",
    "\n",
    "Features describing medical care and problems of subjects\n",
    "- `level_of_care_subject`"
   ]
  },
  {
   "cell_type": "markdown",
   "id": "d5c63802",
   "metadata": {},
   "source": [
    "## Number Sub Not Found\n",
    "- Dropping rows where `number_subjects` = `number_sub_not_found` as this implies no subjects were found"
   ]
  },
  {
   "cell_type": "code",
   "execution_count": 33,
   "id": "d778a53e",
   "metadata": {},
   "outputs": [
    {
     "name": "stdout",
     "output_type": "stream",
     "text": [
      "\u001b[1m\"number_subjects\" = \"number_sub_not_found\"\u001b[0m\n",
      "Number Rows Dropped: 418 - 2.5 %\n",
      "Total Rows Dropped:  5301 - 32.0 %\n",
      "Original Total Rows: 16574\n",
      "Current Total Rows:  11273 \n",
      "\n"
     ]
    }
   ],
   "source": [
    "drop_rows('\"number_subjects\" = \"number_sub_not_found\"', \n",
    "          df[df.number_subjects == df.number_sub_not_found])"
   ]
  },
  {
   "cell_type": "markdown",
   "id": "6ea22fc4",
   "metadata": {},
   "source": [
    "## Number Sub DOA\n",
    "- Dropping rows where `number_subjects` = `number_sub_doa`. \n",
    "- All remaining datapoints include atleast one live victim being rescued. "
   ]
  },
  {
   "cell_type": "code",
   "execution_count": 34,
   "id": "d2fe0f93",
   "metadata": {},
   "outputs": [],
   "source": [
    "df.number_sub_doa.replace(0, np.nan, inplace=True)"
   ]
  },
  {
   "cell_type": "markdown",
   "id": "edd6d968",
   "metadata": {},
   "source": [
    "- Dropping rows where `number_subjects` = `number_sub_doa` as no living victims were rescued in these incidents"
   ]
  },
  {
   "cell_type": "code",
   "execution_count": 35,
   "id": "4269587a",
   "metadata": {},
   "outputs": [
    {
     "name": "stdout",
     "output_type": "stream",
     "text": [
      "\u001b[1m\"number_subjects\" = \"number_sub_doa\"\u001b[0m\n",
      "Number Rows Dropped: 364 - 2.2 %\n",
      "Total Rows Dropped:  5665 - 34.2 %\n",
      "Original Total Rows: 16574\n",
      "Current Total Rows:  10909 \n",
      "\n"
     ]
    }
   ],
   "source": [
    "drop_rows('\"number_subjects\" = \"number_sub_doa\"', \n",
    "          df[df.number_subjects == df.number_sub_doa])"
   ]
  },
  {
   "cell_type": "markdown",
   "id": "b5b4a066",
   "metadata": {},
   "source": [
    "## Number Found Locations\n",
    "- This features describes the number of locations where different victims were found. \n",
    "- Most of the datapoints are zero or null, so this feature will be dropped. "
   ]
  },
  {
   "cell_type": "code",
   "execution_count": 36,
   "id": "fa071131",
   "metadata": {
    "scrolled": true
   },
   "outputs": [
    {
     "data": {
      "text/plain": [
       "0.0    5701\n",
       "1.0    1242\n",
       "2.0      14\n",
       "NaN    3952\n",
       "Name: number_found_locations, dtype: int64"
      ]
     },
     "execution_count": 36,
     "metadata": {},
     "output_type": "execute_result"
    }
   ],
   "source": [
    "df.number_found_locations.value_counts(dropna=False).sort_index()"
   ]
  },
  {
   "cell_type": "code",
   "execution_count": 37,
   "id": "2db0edb5",
   "metadata": {},
   "outputs": [],
   "source": [
    "df.drop('number_found_locations', axis=1, inplace=True)"
   ]
  },
  {
   "cell_type": "markdown",
   "id": "df5ef48f",
   "metadata": {},
   "source": [
    "## Level of Care Subject"
   ]
  },
  {
   "cell_type": "markdown",
   "id": "56fccb0f",
   "metadata": {},
   "source": [
    "#### Cleaning Level of Care Subject\n",
    "- lowercase all \n",
    "- replace empties and \"unknown\" with np.nan"
   ]
  },
  {
   "cell_type": "code",
   "execution_count": 38,
   "id": "b157c797",
   "metadata": {},
   "outputs": [],
   "source": [
    "df['level_of_care_subject'] = [x.lower()if isinstance(x, str) else x for x in df['level_of_care_subject']]\n",
    "df['level_of_care_subject'].replace(' ', np.nan, inplace=True)\n",
    "df['level_of_care_subject'].replace('unknown', np.nan, inplace=True)"
   ]
  },
  {
   "cell_type": "markdown",
   "id": "c6ffc032",
   "metadata": {},
   "source": [
    "Observations \n",
    "- These datapoints are mostly null. This feature will be dropped. \n",
    "- In theory the level of care given to a subject could indicate that subjects ability to actively participate in the SAR team's search efforts. \n"
   ]
  },
  {
   "cell_type": "code",
   "execution_count": 39,
   "id": "bc8bc8a9",
   "metadata": {},
   "outputs": [],
   "source": [
    "df.drop('level_of_care_subject', axis=1, inplace=True)"
   ]
  },
  {
   "cell_type": "markdown",
   "id": "a9708a5c",
   "metadata": {},
   "source": [
    "---\n",
    "---"
   ]
  },
  {
   "cell_type": "markdown",
   "id": "66051429",
   "metadata": {},
   "source": [
    "# Number Volunteers"
   ]
  },
  {
   "cell_type": "markdown",
   "id": "62a347bc",
   "metadata": {},
   "source": [
    "- Imputing nulls with median number of volunteers"
   ]
  },
  {
   "cell_type": "code",
   "execution_count": 40,
   "id": "b3bc8dd7",
   "metadata": {},
   "outputs": [],
   "source": [
    "df.number_volunteers.replace(0, np.nan, inplace=True)\n",
    "df.number_volunteers.fillna(df.number_volunteers.median(), inplace=True)"
   ]
  },
  {
   "cell_type": "markdown",
   "id": "8e46d875",
   "metadata": {},
   "source": [
    "- Dropping 10 outliers"
   ]
  },
  {
   "cell_type": "code",
   "execution_count": 41,
   "id": "b1428cb3",
   "metadata": {},
   "outputs": [
    {
     "name": "stdout",
     "output_type": "stream",
     "text": [
      "\u001b[1m\"number_volunteers\" 40\u001b[0m\n",
      "Number Rows Dropped: 10 - 0.1 %\n",
      "Total Rows Dropped:  5675 - 34.2 %\n",
      "Original Total Rows: 16574\n",
      "Current Total Rows:  10899 \n",
      "\n"
     ]
    }
   ],
   "source": [
    "drop_rows('\"number_volunteers\" 40', \n",
    "          df[df.number_volunteers > 40])"
   ]
  },
  {
   "cell_type": "markdown",
   "id": "ea269437",
   "metadata": {},
   "source": [
    "Observations\n",
    "- This is one of the only continuous variables in the dataset and will be included in the classification models. \n",
    "- Analysis and vizualization of this feature is conducted below with all selected features after all drops have been made. "
   ]
  },
  {
   "cell_type": "markdown",
   "id": "79eaf428",
   "metadata": {},
   "source": [
    "---\n",
    "---"
   ]
  },
  {
   "cell_type": "markdown",
   "id": "93584be9",
   "metadata": {},
   "source": [
    "# State\n"
   ]
  },
  {
   "cell_type": "markdown",
   "id": "0c3d7fa4",
   "metadata": {},
   "source": [
    "#### Splitting `home_county` to lists in order to separate out county & state into separatve variables"
   ]
  },
  {
   "cell_type": "code",
   "execution_count": 42,
   "id": "86340cc4",
   "metadata": {},
   "outputs": [
    {
     "data": {
      "text/plain": [
       "0    [Allegheny County ,  Pennsylvania]\n",
       "1          [Maricopa County ,  Arizona]\n",
       "2      [San Diego County ,  California]\n",
       "3          [Maricopa County ,  Arizona]\n",
       "4          [Maricopa County ,  Arizona]\n",
       "Name: home_county, dtype: object"
      ]
     },
     "execution_count": 42,
     "metadata": {},
     "output_type": "execute_result"
    }
   ],
   "source": [
    "df.home_county = [x.split('-') if pd.notnull(x) else x for x in df.home_county]\n",
    "\n",
    "df.home_county[:5]"
   ]
  },
  {
   "cell_type": "markdown",
   "id": "eeffbc14",
   "metadata": {},
   "source": [
    "#### Imputing `state` nulls\n",
    "- all `home_county` datapoints missing a state are in fact counties in California and will corrected to California"
   ]
  },
  {
   "cell_type": "code",
   "execution_count": 43,
   "id": "30ac59a4",
   "metadata": {
    "scrolled": true
   },
   "outputs": [],
   "source": [
    "df.home_county.fillna('None', inplace=True)\n",
    "\n",
    "df['state'] = ['California' if len(x)==1\n",
    "               else 'None' if x == 'None'\n",
    "               else x[-1] \n",
    "               for i, x in enumerate(df.home_county)]"
   ]
  },
  {
   "cell_type": "markdown",
   "id": "e0c9bcb6",
   "metadata": {},
   "source": [
    "- iterating through all `teams` where `home_county` is null to create dictionary with `team` as keys and `home_county` as values \n",
    "- Adding value `home_county` where `home_county` not null for that `team` in dataframe\n",
    "- If `home_county` is null for that team, then entering `['Error', 'Error']` as value\n",
    "    - these will be manually imputed afterwards"
   ]
  },
  {
   "cell_type": "code",
   "execution_count": 44,
   "id": "010317d1",
   "metadata": {},
   "outputs": [],
   "source": [
    "missing_locations = {}\n",
    "\n",
    "for team in df[df.home_county == 'None']['team'].unique():\n",
    "    try:\n",
    "        missing_locations[team] = df[(df.team == team) & (df.home_county != 'None')]['home_county'].iloc[0]\n",
    "    except:\n",
    "        missing_locations[team] = ['Error', 'Error']"
   ]
  },
  {
   "cell_type": "markdown",
   "id": "91cd6efd",
   "metadata": {},
   "source": [
    "- Again imputing \"Calififornia\" as done above for `home_county` where `missing_locations` values only contain county"
   ]
  },
  {
   "cell_type": "code",
   "execution_count": 45,
   "id": "65a2f4f8",
   "metadata": {},
   "outputs": [],
   "source": [
    "for key, val in missing_locations.items():\n",
    "    if len(val) < 2:\n",
    "        val.append('California')"
   ]
  },
  {
   "cell_type": "markdown",
   "id": "330c594b",
   "metadata": {},
   "source": [
    "- Using `missing_locations` dictionary to impute `state` nulls "
   ]
  },
  {
   "cell_type": "code",
   "execution_count": 46,
   "id": "6ad360a8",
   "metadata": {},
   "outputs": [
    {
     "name": "stderr",
     "output_type": "stream",
     "text": [
      "/var/folders/6_/32r78n_d53x2nss5m1qjc1pc0000gn/T/ipykernel_83929/286246649.py:4: SettingWithCopyWarning: \n",
      "A value is trying to be set on a copy of a slice from a DataFrame\n",
      "\n",
      "See the caveats in the documentation: https://pandas.pydata.org/pandas-docs/stable/user_guide/indexing.html#returning-a-view-versus-a-copy\n",
      "  df.state[i] = val[1]\n"
     ]
    }
   ],
   "source": [
    "for i, team in enumerate(df.team):\n",
    "    for key, val in missing_locations.items():\n",
    "        if team == key:\n",
    "            df.state[i] = val[1]"
   ]
  },
  {
   "cell_type": "markdown",
   "id": "c33d3102",
   "metadata": {},
   "source": [
    " - Cleaning `state` to remove whitespace"
   ]
  },
  {
   "cell_type": "code",
   "execution_count": 47,
   "id": "a26ccca4",
   "metadata": {},
   "outputs": [],
   "source": [
    "df.state = [x.strip() for x in df.state]"
   ]
  },
  {
   "cell_type": "markdown",
   "id": "af61f82c",
   "metadata": {},
   "source": [
    "- Manually inputing County and State where above imputing method was unsuccessful as the team had no non null values for `home_county`"
   ]
  },
  {
   "cell_type": "code",
   "execution_count": 48,
   "id": "d9044276",
   "metadata": {},
   "outputs": [],
   "source": [
    "missing_counties = {'Bay_Area_Mtn_Rescue_Team' : ['Bay Area', 'California'],\n",
    "                    'Deschutes_County_SAR': ['Duschutes', 'Oregon'],\n",
    "                    'Inland_Northwest_SAR': ['Boise', 'Idaho'], \n",
    "                    'Las_Vegas_Metro_PD_SAR' : ['Las Vegas', 'Nevada'],\n",
    "                    'Ohio_Special_Response_Team': ['Mansfield', 'Ohio'],\n",
    "                    'Ravalli_County_SAR': ['Hamilton', 'Montana'], \n",
    "                    'Routt_County_SAR': ['Routt', 'Colorado'], \n",
    "                    'Sitka_Mtn_Rescue': ['Sitka', 'Alaska'], \n",
    "                    'Summit_County_Rescue_Group': ['Summit', 'Colorado'],\n",
    "                    'Tonto_Rim_SAR': ['Phoenix', 'Arizona'],  \n",
    "                    'Vermont_Dept_Public_Safety': ['South Burlington', 'Vermont'], \n",
    "                    'Wrightwood/Phelan_SAR': ['Wrightwood', 'California'],\n",
    "                    'Zion_National_Park_SAR': ['Zion', 'California'], \n",
    "                    'Sierra Madre Search & Rescue': ['Sierra Madra', 'California']\n",
    "                   }"
   ]
  },
  {
   "cell_type": "markdown",
   "id": "d4e3ed5e",
   "metadata": {},
   "source": [
    "- Final imputation for `state` with created `missing_counties` dictionary"
   ]
  },
  {
   "cell_type": "code",
   "execution_count": 49,
   "id": "ee1bcbfd",
   "metadata": {},
   "outputs": [
    {
     "name": "stderr",
     "output_type": "stream",
     "text": [
      "/var/folders/6_/32r78n_d53x2nss5m1qjc1pc0000gn/T/ipykernel_83929/1370676273.py:4: SettingWithCopyWarning: \n",
      "A value is trying to be set on a copy of a slice from a DataFrame\n",
      "\n",
      "See the caveats in the documentation: https://pandas.pydata.org/pandas-docs/stable/user_guide/indexing.html#returning-a-view-versus-a-copy\n",
      "  df.state[i] = val[1]\n"
     ]
    }
   ],
   "source": [
    "for i, team in enumerate(df.team):\n",
    "    for key, val in missing_counties.items():\n",
    "        if team == key:\n",
    "            df.state[i] = val[1]"
   ]
  },
  {
   "cell_type": "markdown",
   "id": "b92de57f",
   "metadata": {},
   "source": [
    "#### Dropping rows where `state` have less than 20 datapoints"
   ]
  },
  {
   "cell_type": "code",
   "execution_count": 50,
   "id": "9340a5ed",
   "metadata": {
    "scrolled": true
   },
   "outputs": [
    {
     "data": {
      "text/plain": [
       "Ohio               2\n",
       "Wyoming            4\n",
       "None               5\n",
       "North Carolina     6\n",
       "Tennessee         11\n",
       "Montana           18\n",
       "Name: state, dtype: int64"
      ]
     },
     "execution_count": 50,
     "metadata": {},
     "output_type": "execute_result"
    }
   ],
   "source": [
    "df.state.value_counts(ascending=True).head(6)"
   ]
  },
  {
   "cell_type": "code",
   "execution_count": 51,
   "id": "4a46ea54",
   "metadata": {},
   "outputs": [
    {
     "name": "stdout",
     "output_type": "stream",
     "text": [
      "\u001b[1m\"state\" have less than 20 datapoints\u001b[0m\n",
      "Number Rows Dropped: 46 - 0.3 %\n",
      "Total Rows Dropped:  5721 - 34.5 %\n",
      "Original Total Rows: 16574\n",
      "Current Total Rows:  10853 \n",
      "\n"
     ]
    }
   ],
   "source": [
    "drop_rows('\"state\" have less than 20 datapoints', \n",
    "          df[df.state.isin(df.state.value_counts(ascending=True)[:6].index)])"
   ]
  },
  {
   "cell_type": "code",
   "execution_count": 52,
   "id": "3886f710",
   "metadata": {
    "scrolled": true
   },
   "outputs": [
    {
     "data": {
      "image/png": "[encoded data removed]",
      "text/plain": [
       "<Figure size 1008x360 with 1 Axes>"
      ]
     },
     "metadata": {
      "needs_background": "light"
     },
     "output_type": "display_data"
    }
   ],
   "source": [
    "df.boxplot(column=['total_hours'], by='state', figsize=(14,5));"
   ]
  },
  {
   "cell_type": "markdown",
   "id": "70f4cc5e",
   "metadata": {},
   "source": [
    "#### Dropping `state` outliers"
   ]
  },
  {
   "cell_type": "code",
   "execution_count": 53,
   "id": "3ca55571",
   "metadata": {},
   "outputs": [
    {
     "name": "stdout",
     "output_type": "stream",
     "text": [
      "\u001b[1mDropping outliers for \"state\"\u001b[0m\n",
      "Number Rows Dropped: 60 - 0.4 %\n",
      "Total Rows Dropped:  5781 - 34.9 %\n",
      "Original Total Rows: 16574\n",
      "Current Total Rows:  10793 \n",
      "\n"
     ]
    }
   ],
   "source": [
    "drop_rows('Dropping outliers for \"state\"', \n",
    "          df[(df.state.isin(['Oregon', 'Utah'])) & (df.total_hours > 150) | \n",
    "             ((df.state.isin(['Alaska', 'Nevada', 'New Mexico'])) & (df.total_hours > 125)) | \n",
    "             ((df.state == 'Idaho') & (df.total_hours > 100)) | \n",
    "             ((df.state == 'Vermont') & (df.total_hours > 75)) | \n",
    "             ((df.state == 'New Jersey') & (df.total_hours > 50)) | \n",
    "             ((df.state == 'Pennsylvania') & (df.total_hours > 25))])"
   ]
  },
  {
   "cell_type": "code",
   "execution_count": 54,
   "id": "8d20d758",
   "metadata": {
    "scrolled": false
   },
   "outputs": [
    {
     "data": {
      "text/html": [
       "<div>\n",
       "<style scoped>\n",
       "    .dataframe tbody tr th:only-of-type {\n",
       "        vertical-align: middle;\n",
       "    }\n",
       "\n",
       "    .dataframe tbody tr th {\n",
       "        vertical-align: top;\n",
       "    }\n",
       "\n",
       "    .dataframe thead th {\n",
       "        text-align: right;\n",
       "    }\n",
       "</style>\n",
       "<table border=\"1\" class=\"dataframe\">\n",
       "  <thead>\n",
       "    <tr style=\"text-align: right;\">\n",
       "      <th></th>\n",
       "      <th>count</th>\n",
       "      <th>mean</th>\n",
       "      <th>std</th>\n",
       "      <th>min</th>\n",
       "      <th>25%</th>\n",
       "      <th>50%</th>\n",
       "      <th>75%</th>\n",
       "      <th>max</th>\n",
       "    </tr>\n",
       "    <tr>\n",
       "      <th>state</th>\n",
       "      <th></th>\n",
       "      <th></th>\n",
       "      <th></th>\n",
       "      <th></th>\n",
       "      <th></th>\n",
       "      <th></th>\n",
       "      <th></th>\n",
       "      <th></th>\n",
       "    </tr>\n",
       "  </thead>\n",
       "  <tbody>\n",
       "    <tr>\n",
       "      <th>Pennsylvania</th>\n",
       "      <td>121.0</td>\n",
       "      <td>3.231405</td>\n",
       "      <td>3.153729</td>\n",
       "      <td>1.0</td>\n",
       "      <td>1.00</td>\n",
       "      <td>2.0</td>\n",
       "      <td>4.00</td>\n",
       "      <td>21.0</td>\n",
       "    </tr>\n",
       "    <tr>\n",
       "      <th>Vermont</th>\n",
       "      <td>246.0</td>\n",
       "      <td>17.272358</td>\n",
       "      <td>14.311513</td>\n",
       "      <td>1.0</td>\n",
       "      <td>7.00</td>\n",
       "      <td>14.0</td>\n",
       "      <td>24.00</td>\n",
       "      <td>72.0</td>\n",
       "    </tr>\n",
       "    <tr>\n",
       "      <th>New Jersey</th>\n",
       "      <td>65.0</td>\n",
       "      <td>18.153846</td>\n",
       "      <td>12.661742</td>\n",
       "      <td>1.0</td>\n",
       "      <td>6.00</td>\n",
       "      <td>17.0</td>\n",
       "      <td>24.00</td>\n",
       "      <td>47.0</td>\n",
       "    </tr>\n",
       "    <tr>\n",
       "      <th>California</th>\n",
       "      <td>3202.0</td>\n",
       "      <td>27.999063</td>\n",
       "      <td>31.422452</td>\n",
       "      <td>1.0</td>\n",
       "      <td>7.00</td>\n",
       "      <td>16.0</td>\n",
       "      <td>36.00</td>\n",
       "      <td>166.0</td>\n",
       "    </tr>\n",
       "    <tr>\n",
       "      <th>Idaho</th>\n",
       "      <td>92.0</td>\n",
       "      <td>28.826087</td>\n",
       "      <td>27.207226</td>\n",
       "      <td>1.0</td>\n",
       "      <td>8.75</td>\n",
       "      <td>19.0</td>\n",
       "      <td>43.00</td>\n",
       "      <td>96.0</td>\n",
       "    </tr>\n",
       "    <tr>\n",
       "      <th>Colorado</th>\n",
       "      <td>3605.0</td>\n",
       "      <td>30.361442</td>\n",
       "      <td>32.535416</td>\n",
       "      <td>1.0</td>\n",
       "      <td>6.00</td>\n",
       "      <td>20.0</td>\n",
       "      <td>42.00</td>\n",
       "      <td>165.0</td>\n",
       "    </tr>\n",
       "    <tr>\n",
       "      <th>Nevada</th>\n",
       "      <td>348.0</td>\n",
       "      <td>30.379310</td>\n",
       "      <td>28.305962</td>\n",
       "      <td>1.0</td>\n",
       "      <td>9.00</td>\n",
       "      <td>18.0</td>\n",
       "      <td>46.25</td>\n",
       "      <td>123.0</td>\n",
       "    </tr>\n",
       "    <tr>\n",
       "      <th>Alaska</th>\n",
       "      <td>179.0</td>\n",
       "      <td>31.826816</td>\n",
       "      <td>28.206266</td>\n",
       "      <td>1.0</td>\n",
       "      <td>12.00</td>\n",
       "      <td>23.0</td>\n",
       "      <td>45.00</td>\n",
       "      <td>122.0</td>\n",
       "    </tr>\n",
       "    <tr>\n",
       "      <th>Arizona</th>\n",
       "      <td>1253.0</td>\n",
       "      <td>34.380686</td>\n",
       "      <td>29.044878</td>\n",
       "      <td>1.0</td>\n",
       "      <td>13.00</td>\n",
       "      <td>28.0</td>\n",
       "      <td>46.00</td>\n",
       "      <td>166.0</td>\n",
       "    </tr>\n",
       "    <tr>\n",
       "      <th>New Mexico</th>\n",
       "      <td>224.0</td>\n",
       "      <td>38.325893</td>\n",
       "      <td>29.096192</td>\n",
       "      <td>1.0</td>\n",
       "      <td>15.75</td>\n",
       "      <td>30.0</td>\n",
       "      <td>60.00</td>\n",
       "      <td>124.0</td>\n",
       "    </tr>\n",
       "    <tr>\n",
       "      <th>Oregon</th>\n",
       "      <td>221.0</td>\n",
       "      <td>38.610860</td>\n",
       "      <td>32.576242</td>\n",
       "      <td>1.0</td>\n",
       "      <td>18.00</td>\n",
       "      <td>30.0</td>\n",
       "      <td>48.00</td>\n",
       "      <td>150.0</td>\n",
       "    </tr>\n",
       "    <tr>\n",
       "      <th>Washington</th>\n",
       "      <td>637.0</td>\n",
       "      <td>38.932496</td>\n",
       "      <td>38.015763</td>\n",
       "      <td>1.0</td>\n",
       "      <td>10.00</td>\n",
       "      <td>26.0</td>\n",
       "      <td>56.00</td>\n",
       "      <td>164.0</td>\n",
       "    </tr>\n",
       "    <tr>\n",
       "      <th>Utah</th>\n",
       "      <td>600.0</td>\n",
       "      <td>47.360000</td>\n",
       "      <td>32.766188</td>\n",
       "      <td>1.0</td>\n",
       "      <td>21.00</td>\n",
       "      <td>42.0</td>\n",
       "      <td>66.25</td>\n",
       "      <td>150.0</td>\n",
       "    </tr>\n",
       "  </tbody>\n",
       "</table>\n",
       "</div>"
      ],
      "text/plain": [
       "               count       mean        std  min    25%   50%    75%    max\n",
       "state                                                                     \n",
       "Pennsylvania   121.0   3.231405   3.153729  1.0   1.00   2.0   4.00   21.0\n",
       "Vermont        246.0  17.272358  14.311513  1.0   7.00  14.0  24.00   72.0\n",
       "New Jersey      65.0  18.153846  12.661742  1.0   6.00  17.0  24.00   47.0\n",
       "California    3202.0  27.999063  31.422452  1.0   7.00  16.0  36.00  166.0\n",
       "Idaho           92.0  28.826087  27.207226  1.0   8.75  19.0  43.00   96.0\n",
       "Colorado      3605.0  30.361442  32.535416  1.0   6.00  20.0  42.00  165.0\n",
       "Nevada         348.0  30.379310  28.305962  1.0   9.00  18.0  46.25  123.0\n",
       "Alaska         179.0  31.826816  28.206266  1.0  12.00  23.0  45.00  122.0\n",
       "Arizona       1253.0  34.380686  29.044878  1.0  13.00  28.0  46.00  166.0\n",
       "New Mexico     224.0  38.325893  29.096192  1.0  15.75  30.0  60.00  124.0\n",
       "Oregon         221.0  38.610860  32.576242  1.0  18.00  30.0  48.00  150.0\n",
       "Washington     637.0  38.932496  38.015763  1.0  10.00  26.0  56.00  164.0\n",
       "Utah           600.0  47.360000  32.766188  1.0  21.00  42.0  66.25  150.0"
      ]
     },
     "execution_count": 54,
     "metadata": {},
     "output_type": "execute_result"
    }
   ],
   "source": [
    "df.groupby('state')['total_hours'].describe().sort_values(by='mean')"
   ]
  },
  {
   "cell_type": "markdown",
   "id": "42721bd6",
   "metadata": {},
   "source": [
    "Observations\n",
    "- This feature will be included in the classification models.\n",
    "- Analysis and vizualization of this feature are conducted at the end of this notebook with all selected features after all drops have been made"
   ]
  },
  {
   "cell_type": "markdown",
   "id": "49384734",
   "metadata": {},
   "source": [
    "---\n",
    "---"
   ]
  },
  {
   "cell_type": "markdown",
   "id": "231bb42d",
   "metadata": {},
   "source": [
    "# Area Type\n",
    "- This variable describes the type of area and environment where the incident occured. This feature will be included in the classification models.\n",
    "- Nulls will be imputed from several other related features. "
   ]
  },
  {
   "cell_type": "markdown",
   "id": "0a5cdea4",
   "metadata": {},
   "source": [
    "#### Creating two functions to impute `area_type` nulls based on a condition for 2 columns zipped together. "
   ]
  },
  {
   "cell_type": "code",
   "execution_count": 55,
   "id": "66231b6d",
   "metadata": {},
   "outputs": [],
   "source": [
    "def impute_nulls_specific(feat_dict, null_col, full_col):\n",
    "    '''\n",
    "    Imputes nulls between two variables. Requires defined \n",
    "    dictionary meant to replace nulls\n",
    "    '''\n",
    "\n",
    "    for key in feat_dict.keys():\n",
    "        for val in feat_dict[key]:\n",
    "            df[null_col] = [key if (pd.isna(null_col)) & (full_col == val)\n",
    "                            else null_col\n",
    "                            for null_col, full_col in zip(df[null_col], df[full_col])]\n",
    "            \n",
    "def impute_nulls_str_in(feat_dict, null_col, full_col):\n",
    "    '''\n",
    "    Imputes nulls between two variables. Requires defined \n",
    "    dictionary meant to replace nulls\n",
    "    '''\n",
    "    \n",
    "    for key in feat_dict.keys():\n",
    "        for val in feat_dict[key]:\n",
    "            df[null_col] = [key if \n",
    "                                ((pd.isna(null_col)) and \n",
    "                                 (isinstance(full_col, str)) and \n",
    "                                 (val in full_col))\n",
    "                            else null_col\n",
    "                            for null_col, full_col in zip(df[null_col], df[full_col])]"
   ]
  },
  {
   "cell_type": "markdown",
   "id": "d564082d",
   "metadata": {},
   "source": [
    "#### Cleaning `area_type` to be lowercase replacing ' ' and 'other' with np.nan"
   ]
  },
  {
   "cell_type": "code",
   "execution_count": 56,
   "id": "56f61230",
   "metadata": {},
   "outputs": [],
   "source": [
    "df['area_type'] = [x.lower()if isinstance(x, str) else x for x in df['area_type']]\n",
    "df['area_type'].replace(' ', np.nan, inplace=True)\n",
    "df['area_type'].replace('other', np.nan, inplace=True)"
   ]
  },
  {
   "cell_type": "markdown",
   "id": "1095857d",
   "metadata": {},
   "source": [
    "## Area Type Other"
   ]
  },
  {
   "cell_type": "markdown",
   "id": "c55f48b6",
   "metadata": {},
   "source": [
    "#### Cleaning `area_type_other`\n",
    "- Lowercasing all, replacing special characters with spaces. \n",
    "- Changing all values to 'interface' where 'interface' in string as these are area types that interface with wilderness"
   ]
  },
  {
   "cell_type": "code",
   "execution_count": 57,
   "id": "e195b559",
   "metadata": {},
   "outputs": [],
   "source": [
    "df['area_type_other'] = [x.lower().replace('-', ' ') if isinstance(x, str) \n",
    "                         else x\n",
    "                         for x in df.area_type_other]\n",
    "\n",
    "df['area_type_other'] = ['interface' if isinstance(x, str) and ('interface' in x)\n",
    "                         else 'ski' if isinstance(x, str) and ('ski' in x)\n",
    "                         else x\n",
    "                         for x in df.area_type_other]"
   ]
  },
  {
   "cell_type": "markdown",
   "id": "1c90f113",
   "metadata": {},
   "source": [
    "#### Comparing `area_type` vs. `type` , `area_type_other`,  and `category` to impute nulls"
   ]
  },
  {
   "cell_type": "code",
   "execution_count": 58,
   "id": "563cd695",
   "metadata": {},
   "outputs": [],
   "source": [
    "type_str = {'wilderness': ['avalanche', 'cave', 'forest', 'mountain'], \n",
    "            'water': ['water']}\n",
    "\n",
    "type_specific = {'wilderness': ['rescue rock', 'rescue snow ice'], \n",
    "                 'rural': ['search rural'], \n",
    "                 'urban': ['search urban'], \n",
    "                 'water': ['dive rescue/recovery', 'flood']}\n",
    "                  \n",
    "area_type_other_specific = {'wilderness': ['desert', 'national forest', 'national park',\n",
    "                                           'out of bounds mammoth mountain', 'state park', 'usfs'],\n",
    "                            'interface': ['interface', 'beach', 'beach cliff', 'canyon road',\n",
    "                                          'malibu creek state park',\n",
    "                                          'mix of three area type, wilderness, rural, and private',\n",
    "                                          'ranch', 'resort side country', 'ski']}\n",
    "\n",
    "category_specific = {'wilderness': \n",
    "                          ['camping', 'climbing', 'hiking', 'hunting',\n",
    "                           'mine_exploration', 'mountaineering', 'snowmobiling'], \n",
    "                     'water': \n",
    "                          ['boating', 'canoeing_kayaking_rafting', 'fishing', 'swimming'],\n",
    "                     'interface':\n",
    "                          ['snow shoeing', 'snow_skiing' 'snowboarding',\n",
    "                           'four_wheel_driving', 'ohv/atv', 'horseback_riding', 'mtn bike'],\n",
    "                     'rural': \n",
    "                          ['driving', 'motorcycling', 'motorized-land']}\n",
    "\n",
    "impute_nulls_str_in(type_str, 'area_type', 'type')\n",
    "impute_nulls_specific(type_specific, 'area_type', 'type')\n",
    "impute_nulls_specific(area_type_other_specific, 'area_type', 'area_type_other')\n",
    "impute_nulls_specific(category_specific, 'area_type', 'category')"
   ]
  },
  {
   "cell_type": "markdown",
   "id": "2ee418f7",
   "metadata": {},
   "source": [
    "#### Filling Nulls with \"unknown\""
   ]
  },
  {
   "cell_type": "code",
   "execution_count": 59,
   "id": "577ab679",
   "metadata": {},
   "outputs": [],
   "source": [
    "df.area_type.fillna('unknown', inplace=True)"
   ]
  },
  {
   "cell_type": "code",
   "execution_count": 60,
   "id": "475fc68e",
   "metadata": {},
   "outputs": [
    {
     "data": {
      "text/plain": [
       "563"
      ]
     },
     "execution_count": 60,
     "metadata": {},
     "output_type": "execute_result"
    }
   ],
   "source": [
    "df[df.area_type == 'unknown'].shape[0]"
   ]
  },
  {
   "cell_type": "markdown",
   "id": "6a9ebba0",
   "metadata": {},
   "source": [
    "### Grouping Suburban, Urban, & Rural\n",
    "- These are all similar in the sense that they are closer to SAR teams, and their median total_hours are similar"
   ]
  },
  {
   "cell_type": "code",
   "execution_count": 61,
   "id": "71c4f9cf",
   "metadata": {},
   "outputs": [],
   "source": [
    "df['area_type'] = ['urban_rural' if (x=='urban') | (x=='suburban') | (x=='rural') \n",
    "                   else x for x in df.area_type]"
   ]
  },
  {
   "cell_type": "markdown",
   "id": "2cbcf91c",
   "metadata": {},
   "source": [
    "Observations\n",
    "- This feature will be included in the classification models. \n",
    "- Analysis and visualizations for this feature are included at the end of this notebook with all selected features after all drops have been made"
   ]
  },
  {
   "cell_type": "markdown",
   "id": "5ea89250",
   "metadata": {},
   "source": [
    "# Land Ownership\n",
    "- This feature will be used to compare against `area_type` to impute nulls"
   ]
  },
  {
   "cell_type": "markdown",
   "id": "50e122e3",
   "metadata": {},
   "source": [
    "#### Cleaning `land_ownership`"
   ]
  },
  {
   "cell_type": "code",
   "execution_count": 62,
   "id": "fc69b570",
   "metadata": {},
   "outputs": [],
   "source": [
    "df['land_ownership'] = [x.lower().strip() if isinstance(x, str) else x for x in df.land_ownership]\n",
    "df.land_ownership.replace('', np.nan, inplace=True)"
   ]
  },
  {
   "cell_type": "markdown",
   "id": "fdb18f66",
   "metadata": {},
   "source": [
    "#### Consolidating categories"
   ]
  },
  {
   "cell_type": "code",
   "execution_count": 63,
   "id": "33f73353",
   "metadata": {},
   "outputs": [],
   "source": [
    "df['land_ownership'] = ['forest, park, monument, blm' if \n",
    "                             (isinstance(x, str) and ('national' in x)) |\n",
    "                             (isinstance(x, str) and ('blm' in x))\n",
    "                         else 'private' if (isinstance(x, str) and ('private' in x))\n",
    "                         else 'county' if (isinstance(x, str) and ('county' in x))\n",
    "                         else 'city' if (isinstance(x, str) and ('city' in x))\n",
    "                         else 'state' if (isinstance(x, str) and ('state' in x))\n",
    "                         else x\n",
    "                         for x in df.land_ownership]"
   ]
  },
  {
   "cell_type": "code",
   "execution_count": 64,
   "id": "75edfb80",
   "metadata": {},
   "outputs": [
    {
     "data": {
      "text/plain": [
       "0                        private\n",
       "1    forest, park, monument, blm\n",
       "2                         county\n",
       "3    forest, park, monument, blm\n",
       "4    forest, park, monument, blm\n",
       "Name: land_ownership, dtype: object"
      ]
     },
     "execution_count": 64,
     "metadata": {},
     "output_type": "execute_result"
    }
   ],
   "source": [
    "df.land_ownership.head()"
   ]
  },
  {
   "cell_type": "markdown",
   "id": "e722b465",
   "metadata": {},
   "source": [
    "Observations\n",
    "- This feature is similar to `area_type`. Since `area_type` has already been thoroghly imputed, `land_ownership` will not be included in the classification models. "
   ]
  },
  {
   "cell_type": "markdown",
   "id": "16138af5",
   "metadata": {},
   "source": [
    "## Mileage"
   ]
  },
  {
   "cell_type": "code",
   "execution_count": 65,
   "id": "e8b6d426",
   "metadata": {},
   "outputs": [
    {
     "data": {
      "text/plain": [
       "3537"
      ]
     },
     "execution_count": 65,
     "metadata": {},
     "output_type": "execute_result"
    }
   ],
   "source": [
    "df.mileage.isna().sum()"
   ]
  },
  {
   "cell_type": "code",
   "execution_count": 66,
   "id": "52890ac1",
   "metadata": {},
   "outputs": [],
   "source": [
    "df.mileage.replace(0, np.nan, inplace=True)"
   ]
  },
  {
   "cell_type": "code",
   "execution_count": 67,
   "id": "bba04f7c",
   "metadata": {},
   "outputs": [
    {
     "data": {
      "text/plain": [
       "10017    1.0\n",
       "9505     1.0\n",
       "1161     1.0\n",
       "2785     1.0\n",
       "3832     1.0\n",
       "        ... \n",
       "10786    NaN\n",
       "10787    NaN\n",
       "10789    NaN\n",
       "10790    NaN\n",
       "10791    NaN\n",
       "Name: mileage, Length: 10793, dtype: float64"
      ]
     },
     "execution_count": 67,
     "metadata": {},
     "output_type": "execute_result"
    }
   ],
   "source": [
    "df.sort_values(by='mileage')['mileage']"
   ]
  },
  {
   "cell_type": "code",
   "execution_count": 68,
   "id": "9f9ae9b5",
   "metadata": {},
   "outputs": [
    {
     "data": {
      "text/plain": [
       "0.3792346851740114"
      ]
     },
     "execution_count": 68,
     "metadata": {},
     "output_type": "execute_result"
    }
   ],
   "source": [
    "df.total_hours.corr(df.mileage)"
   ]
  },
  {
   "cell_type": "markdown",
   "id": "a0509864",
   "metadata": {},
   "source": [
    "Observations\n",
    "- This feature is almost 40% null\n",
    "- This feature is not correlated with the Target timeframe. This feature will not be included in the classification models "
   ]
  },
  {
   "cell_type": "markdown",
   "id": "7999b8b9",
   "metadata": {},
   "source": [
    "---\n",
    "---"
   ]
  },
  {
   "cell_type": "markdown",
   "id": "f833b63d",
   "metadata": {},
   "source": [
    "# Creating Children feature OHE\n",
    "- Feature will be initiated as True where age of any of the 5 known subjects is <= 15"
   ]
  },
  {
   "cell_type": "code",
   "execution_count": 69,
   "id": "798c319b",
   "metadata": {},
   "outputs": [],
   "source": [
    "df['children'] = [1 if age <= 15 else 0 for age in df.age_sub_1]\n",
    "\n",
    "for i in list(range(2, 6)):\n",
    "    df['children'] = [1 if (children == 0) & (age <= 15)\n",
    "                      else children \n",
    "                      for children, age in zip(df.children, df['age_sub_' + str(i)])]"
   ]
  },
  {
   "cell_type": "markdown",
   "id": "4fd1a70b",
   "metadata": {},
   "source": [
    "#### Comparing `children` to `category` to impute nulls\n",
    "- Many of the `category` inputs had \"child\" included somewhere in the string, meaning a child was involved."
   ]
  },
  {
   "cell_type": "code",
   "execution_count": 70,
   "id": "9f1349a0",
   "metadata": {},
   "outputs": [],
   "source": [
    "df['children'] = [1 if ((children == 0) and (isinstance(cat, str)) and ('child' in cat))\n",
    "                  else children \n",
    "                  for children, cat in zip(df.children, df.category)]"
   ]
  },
  {
   "cell_type": "markdown",
   "id": "d27ac83b",
   "metadata": {},
   "source": [
    "#### Addressing `children` outliers "
   ]
  },
  {
   "cell_type": "code",
   "execution_count": 71,
   "id": "69ef8086",
   "metadata": {},
   "outputs": [
    {
     "data": {
      "image/png": "[encoded data removed]",
      "text/plain": [
       "<Figure size 1008x360 with 1 Axes>"
      ]
     },
     "metadata": {
      "needs_background": "light"
     },
     "output_type": "display_data"
    }
   ],
   "source": [
    "df.boxplot(column=['total_hours'], by='children', figsize=(14,5));"
   ]
  },
  {
   "cell_type": "markdown",
   "id": "4208fee0",
   "metadata": {},
   "source": [
    "#### Dropping outliers for `children` = True"
   ]
  },
  {
   "cell_type": "code",
   "execution_count": 72,
   "id": "4689b5d6",
   "metadata": {},
   "outputs": [
    {
     "data": {
      "text/plain": [
       "14"
      ]
     },
     "execution_count": 72,
     "metadata": {},
     "output_type": "execute_result"
    }
   ],
   "source": [
    "df[(df.children == 1) & (df.total_hours > 110)].shape[0]"
   ]
  },
  {
   "cell_type": "code",
   "execution_count": 73,
   "id": "76c9f8d0",
   "metadata": {},
   "outputs": [
    {
     "name": "stdout",
     "output_type": "stream",
     "text": [
      "\u001b[1m\"children\" = True outliers\u001b[0m\n",
      "Number Rows Dropped: 8 - 0.0 %\n",
      "Total Rows Dropped:  5789 - 34.9 %\n",
      "Original Total Rows: 16574\n",
      "Current Total Rows:  10785 \n",
      "\n"
     ]
    }
   ],
   "source": [
    "drop_rows('\"children\" = True outliers', df[(df.children == 1) & (df.total_hours > 125)])"
   ]
  },
  {
   "cell_type": "code",
   "execution_count": 74,
   "id": "6f182880",
   "metadata": {
    "scrolled": true
   },
   "outputs": [
    {
     "data": {
      "text/html": [
       "<div>\n",
       "<style scoped>\n",
       "    .dataframe tbody tr th:only-of-type {\n",
       "        vertical-align: middle;\n",
       "    }\n",
       "\n",
       "    .dataframe tbody tr th {\n",
       "        vertical-align: top;\n",
       "    }\n",
       "\n",
       "    .dataframe thead th {\n",
       "        text-align: right;\n",
       "    }\n",
       "</style>\n",
       "<table border=\"1\" class=\"dataframe\">\n",
       "  <thead>\n",
       "    <tr style=\"text-align: right;\">\n",
       "      <th></th>\n",
       "      <th>count</th>\n",
       "      <th>mean</th>\n",
       "      <th>std</th>\n",
       "      <th>min</th>\n",
       "      <th>25%</th>\n",
       "      <th>50%</th>\n",
       "      <th>75%</th>\n",
       "      <th>max</th>\n",
       "    </tr>\n",
       "    <tr>\n",
       "      <th>children</th>\n",
       "      <th></th>\n",
       "      <th></th>\n",
       "      <th></th>\n",
       "      <th></th>\n",
       "      <th></th>\n",
       "      <th></th>\n",
       "      <th></th>\n",
       "      <th></th>\n",
       "    </tr>\n",
       "  </thead>\n",
       "  <tbody>\n",
       "    <tr>\n",
       "      <th>0</th>\n",
       "      <td>10093.0</td>\n",
       "      <td>31.594570</td>\n",
       "      <td>32.106644</td>\n",
       "      <td>1.0</td>\n",
       "      <td>8.0</td>\n",
       "      <td>21.0</td>\n",
       "      <td>45.0</td>\n",
       "      <td>166.0</td>\n",
       "    </tr>\n",
       "    <tr>\n",
       "      <th>1</th>\n",
       "      <td>692.0</td>\n",
       "      <td>24.861272</td>\n",
       "      <td>25.393536</td>\n",
       "      <td>1.0</td>\n",
       "      <td>6.0</td>\n",
       "      <td>16.0</td>\n",
       "      <td>36.0</td>\n",
       "      <td>123.0</td>\n",
       "    </tr>\n",
       "  </tbody>\n",
       "</table>\n",
       "</div>"
      ],
      "text/plain": [
       "            count       mean        std  min  25%   50%   75%    max\n",
       "children                                                            \n",
       "0         10093.0  31.594570  32.106644  1.0  8.0  21.0  45.0  166.0\n",
       "1           692.0  24.861272  25.393536  1.0  6.0  16.0  36.0  123.0"
      ]
     },
     "execution_count": 74,
     "metadata": {},
     "output_type": "execute_result"
    }
   ],
   "source": [
    "df.groupby('children')['total_hours'].describe()"
   ]
  },
  {
   "cell_type": "markdown",
   "id": "b3327648",
   "metadata": {},
   "source": [
    "Observations\n",
    "- Children make up a small portion of the entire dataset , but the average total time for these datapoints are significantly less than the average all those without children. \n",
    "- This feature will be included in the classification model. "
   ]
  },
  {
   "cell_type": "markdown",
   "id": "667d3d34",
   "metadata": {},
   "source": [
    "# Creating Senior feature\n",
    "- Initiated `seniors` as True where age of any of the five known subjects is >= 65"
   ]
  },
  {
   "cell_type": "code",
   "execution_count": 75,
   "id": "ba52ee05",
   "metadata": {},
   "outputs": [],
   "source": [
    "df['seniors'] = [1 if age <= 15 else 0 for age in df.age_sub_1]\n",
    "\n",
    "for i in list(range(2, 6)):\n",
    "    df['seniors'] = [1 if (senior == 0) & (age >= 65)\n",
    "                     else senior \n",
    "                     for senior, age in zip(df.seniors, df['age_sub_' + str(i)])]"
   ]
  },
  {
   "cell_type": "markdown",
   "id": "eb1b8200",
   "metadata": {},
   "source": [
    "#### Comparing `seniors` vs. subjects' \"mental factor\", specifically \"dementia\"\n",
    "- \"Dementia\" suggest the victim is elderly. These datapoints will be imputed as True"
   ]
  },
  {
   "cell_type": "code",
   "execution_count": 76,
   "id": "a58ea12a",
   "metadata": {},
   "outputs": [],
   "source": [
    "df['seniors'] = [1 if ((seniors==0) and (isinstance(mental, str)) and (mental=='dementia'))\n",
    "                 else seniors\n",
    "                 for seniors, mental in zip(df.seniors, df.mental_factor_sub_1)]\n",
    "\n",
    "df['seniors'] = [1 if ((seniors==0) and (isinstance(cat, str)) and (cat=='alzheimers_dementia'))\n",
    "                 else seniors\n",
    "                 for seniors, cat in zip(df.seniors, df.category)]"
   ]
  },
  {
   "cell_type": "markdown",
   "id": "696e723c",
   "metadata": {},
   "source": [
    "#### Addressing `seniors` outliers"
   ]
  },
  {
   "cell_type": "code",
   "execution_count": 77,
   "id": "a09a988a",
   "metadata": {
    "scrolled": false
   },
   "outputs": [
    {
     "data": {
      "image/png": "[encoded data removed]",
      "text/plain": [
       "<Figure size 1008x360 with 1 Axes>"
      ]
     },
     "metadata": {
      "needs_background": "light"
     },
     "output_type": "display_data"
    }
   ],
   "source": [
    "df.boxplot(column=['total_hours'], by='seniors', figsize=(14,5));"
   ]
  },
  {
   "cell_type": "code",
   "execution_count": 78,
   "id": "798f4c4f",
   "metadata": {
    "scrolled": true
   },
   "outputs": [
    {
     "data": {
      "text/plain": [
       "14"
      ]
     },
     "execution_count": 78,
     "metadata": {},
     "output_type": "execute_result"
    }
   ],
   "source": [
    "df[(df.seniors == 1) & (df.total_hours > 120)].shape[0]"
   ]
  },
  {
   "cell_type": "markdown",
   "id": "75118b35",
   "metadata": {},
   "source": [
    "#### Dropping outliers for `seniors` = True"
   ]
  },
  {
   "cell_type": "code",
   "execution_count": 79,
   "id": "ae2b3014",
   "metadata": {},
   "outputs": [
    {
     "name": "stdout",
     "output_type": "stream",
     "text": [
      "\u001b[1m\"seniors\" = True outliers\u001b[0m\n",
      "Number Rows Dropped: 10 - 0.1 %\n",
      "Total Rows Dropped:  5799 - 35.0 %\n",
      "Original Total Rows: 16574\n",
      "Current Total Rows:  10775 \n",
      "\n"
     ]
    }
   ],
   "source": [
    "drop_rows('\"seniors\" = True outliers', df[(df.seniors == 1) & (df.total_hours > 125)])"
   ]
  },
  {
   "cell_type": "code",
   "execution_count": 80,
   "id": "9ed846dc",
   "metadata": {
    "scrolled": true
   },
   "outputs": [
    {
     "data": {
      "text/html": [
       "<div>\n",
       "<style scoped>\n",
       "    .dataframe tbody tr th:only-of-type {\n",
       "        vertical-align: middle;\n",
       "    }\n",
       "\n",
       "    .dataframe tbody tr th {\n",
       "        vertical-align: top;\n",
       "    }\n",
       "\n",
       "    .dataframe thead th {\n",
       "        text-align: right;\n",
       "    }\n",
       "</style>\n",
       "<table border=\"1\" class=\"dataframe\">\n",
       "  <thead>\n",
       "    <tr style=\"text-align: right;\">\n",
       "      <th></th>\n",
       "      <th>count</th>\n",
       "      <th>mean</th>\n",
       "      <th>std</th>\n",
       "      <th>min</th>\n",
       "      <th>25%</th>\n",
       "      <th>50%</th>\n",
       "      <th>75%</th>\n",
       "      <th>max</th>\n",
       "    </tr>\n",
       "    <tr>\n",
       "      <th>seniors</th>\n",
       "      <th></th>\n",
       "      <th></th>\n",
       "      <th></th>\n",
       "      <th></th>\n",
       "      <th></th>\n",
       "      <th></th>\n",
       "      <th></th>\n",
       "      <th></th>\n",
       "    </tr>\n",
       "  </thead>\n",
       "  <tbody>\n",
       "    <tr>\n",
       "      <th>0</th>\n",
       "      <td>9924.0</td>\n",
       "      <td>31.409512</td>\n",
       "      <td>31.909788</td>\n",
       "      <td>1.0</td>\n",
       "      <td>8.0</td>\n",
       "      <td>20.0</td>\n",
       "      <td>44.0</td>\n",
       "      <td>166.0</td>\n",
       "    </tr>\n",
       "    <tr>\n",
       "      <th>1</th>\n",
       "      <td>851.0</td>\n",
       "      <td>26.933020</td>\n",
       "      <td>27.126397</td>\n",
       "      <td>1.0</td>\n",
       "      <td>7.0</td>\n",
       "      <td>18.0</td>\n",
       "      <td>38.0</td>\n",
       "      <td>124.0</td>\n",
       "    </tr>\n",
       "  </tbody>\n",
       "</table>\n",
       "</div>"
      ],
      "text/plain": [
       "          count       mean        std  min  25%   50%   75%    max\n",
       "seniors                                                           \n",
       "0        9924.0  31.409512  31.909788  1.0  8.0  20.0  44.0  166.0\n",
       "1         851.0  26.933020  27.126397  1.0  7.0  18.0  38.0  124.0"
      ]
     },
     "execution_count": 80,
     "metadata": {},
     "output_type": "execute_result"
    }
   ],
   "source": [
    "df.groupby('seniors')['total_hours'].describe()"
   ]
  },
  {
   "cell_type": "markdown",
   "id": "fe38b94f",
   "metadata": {},
   "source": [
    "Observations\n",
    "- Seniors make up a small portion of the entire dataset , but the average total time for these datapoints are significantly less than the average all those without children. \n",
    "- This feature will be included in the classification model. "
   ]
  },
  {
   "cell_type": "markdown",
   "id": "973a9abc",
   "metadata": {},
   "source": [
    "---\n",
    "---"
   ]
  },
  {
   "cell_type": "markdown",
   "id": "3e1b5fc2",
   "metadata": {},
   "source": [
    "# Creating Mental feature OHE\n",
    "- This feature will be True if any subjects had any \"mental factor\" present "
   ]
  },
  {
   "cell_type": "code",
   "execution_count": 81,
   "id": "433a1cb3",
   "metadata": {},
   "outputs": [],
   "source": [
    "df['mental'] = [1 if isinstance(x, str) and (x != 'none')\n",
    "                else 0\n",
    "                for x in df.mental_factor_sub_1]"
   ]
  },
  {
   "cell_type": "markdown",
   "id": "c43a1cd2",
   "metadata": {},
   "source": [
    "#### Comparing `mental` vs. `mental_factor_sub_2` to impute nulls\n",
    "- If mental rating is not null and is not \"normal\", `mental` is True"
   ]
  },
  {
   "cell_type": "code",
   "execution_count": 82,
   "id": "69c803ab",
   "metadata": {},
   "outputs": [],
   "source": [
    "for i in list(range(1, 6)):\n",
    "    df['mental'] = [1 if ((mental==0) and (isinstance(rating, str)) and (rating != 'normal'))\n",
    "                     else mental\n",
    "                     for mental, rating in zip(df.mental, df['mental_rating_sub_' + str(i)])]"
   ]
  },
  {
   "cell_type": "markdown",
   "id": "6d85afdb",
   "metadata": {},
   "source": [
    "#### Comparing `mental` vs. `category` to impute nulls to True where \"dementia\" listed"
   ]
  },
  {
   "cell_type": "code",
   "execution_count": 83,
   "id": "7d1199bf",
   "metadata": {},
   "outputs": [],
   "source": [
    "df['mental'] = [1 if ((mental==0) and (isinstance(cat, str)) and (cat == 'alzheimers_dementia'))\n",
    "                else mental\n",
    "                for mental, cat in zip(df.mental, df.category)]"
   ]
  },
  {
   "cell_type": "markdown",
   "id": "ae356c34",
   "metadata": {},
   "source": [
    "#### Addressing `mental` outliers"
   ]
  },
  {
   "cell_type": "code",
   "execution_count": 84,
   "id": "5e442dc8",
   "metadata": {
    "scrolled": false
   },
   "outputs": [
    {
     "data": {
      "image/png": "[encoded data removed]",
      "text/plain": [
       "<Figure size 1008x720 with 1 Axes>"
      ]
     },
     "metadata": {
      "needs_background": "light"
     },
     "output_type": "display_data"
    }
   ],
   "source": [
    "df.boxplot(column=['total_hours'], by='mental', figsize=(14,10));"
   ]
  },
  {
   "cell_type": "markdown",
   "id": "401f8428",
   "metadata": {},
   "source": [
    "#### Dropping outliers for `mental` True"
   ]
  },
  {
   "cell_type": "code",
   "execution_count": 85,
   "id": "1794a4b7",
   "metadata": {},
   "outputs": [
    {
     "name": "stdout",
     "output_type": "stream",
     "text": [
      "\u001b[1m\"mental\" = True outliers\u001b[0m\n",
      "Number Rows Dropped: 15 - 0.1 %\n",
      "Total Rows Dropped:  5814 - 35.1 %\n",
      "Original Total Rows: 16574\n",
      "Current Total Rows:  10760 \n",
      "\n"
     ]
    }
   ],
   "source": [
    "drop_rows('\"mental\" = True outliers', df[(df.mental == 1) & (df.total_hours > 110)])"
   ]
  },
  {
   "cell_type": "code",
   "execution_count": 86,
   "id": "93cdc50a",
   "metadata": {
    "scrolled": true
   },
   "outputs": [
    {
     "data": {
      "text/html": [
       "<div>\n",
       "<style scoped>\n",
       "    .dataframe tbody tr th:only-of-type {\n",
       "        vertical-align: middle;\n",
       "    }\n",
       "\n",
       "    .dataframe tbody tr th {\n",
       "        vertical-align: top;\n",
       "    }\n",
       "\n",
       "    .dataframe thead th {\n",
       "        text-align: right;\n",
       "    }\n",
       "</style>\n",
       "<table border=\"1\" class=\"dataframe\">\n",
       "  <thead>\n",
       "    <tr style=\"text-align: right;\">\n",
       "      <th></th>\n",
       "      <th>count</th>\n",
       "      <th>mean</th>\n",
       "      <th>std</th>\n",
       "      <th>min</th>\n",
       "      <th>25%</th>\n",
       "      <th>50%</th>\n",
       "      <th>75%</th>\n",
       "      <th>max</th>\n",
       "    </tr>\n",
       "    <tr>\n",
       "      <th>mental</th>\n",
       "      <th></th>\n",
       "      <th></th>\n",
       "      <th></th>\n",
       "      <th></th>\n",
       "      <th></th>\n",
       "      <th></th>\n",
       "      <th></th>\n",
       "      <th></th>\n",
       "    </tr>\n",
       "  </thead>\n",
       "  <tbody>\n",
       "    <tr>\n",
       "      <th>0</th>\n",
       "      <td>10287.0</td>\n",
       "      <td>30.929134</td>\n",
       "      <td>31.573397</td>\n",
       "      <td>1.0</td>\n",
       "      <td>8.0</td>\n",
       "      <td>20.0</td>\n",
       "      <td>43.0</td>\n",
       "      <td>166.0</td>\n",
       "    </tr>\n",
       "    <tr>\n",
       "      <th>1</th>\n",
       "      <td>473.0</td>\n",
       "      <td>30.864693</td>\n",
       "      <td>27.625114</td>\n",
       "      <td>1.0</td>\n",
       "      <td>10.0</td>\n",
       "      <td>22.0</td>\n",
       "      <td>46.0</td>\n",
       "      <td>110.0</td>\n",
       "    </tr>\n",
       "  </tbody>\n",
       "</table>\n",
       "</div>"
      ],
      "text/plain": [
       "          count       mean        std  min   25%   50%   75%    max\n",
       "mental                                                             \n",
       "0       10287.0  30.929134  31.573397  1.0   8.0  20.0  43.0  166.0\n",
       "1         473.0  30.864693  27.625114  1.0  10.0  22.0  46.0  110.0"
      ]
     },
     "execution_count": 86,
     "metadata": {},
     "output_type": "execute_result"
    }
   ],
   "source": [
    "df.groupby('mental')['total_hours'].describe()"
   ]
  },
  {
   "cell_type": "markdown",
   "id": "26b6e1b8",
   "metadata": {},
   "source": [
    "Observations \n",
    "- This feature will be included in the classification models. \n",
    "- Analysis and visualizations for this feature are included at the end of this notebook with all selected features after all drops have been made"
   ]
  },
  {
   "cell_type": "markdown",
   "id": "ea46a5ef",
   "metadata": {},
   "source": [
    "---\n",
    "--- "
   ]
  },
  {
   "cell_type": "markdown",
   "id": "a669dc18",
   "metadata": {},
   "source": [
    "# Creating `daylight` feature to One Hot Encode\n",
    "- daylight = 7am-8pm"
   ]
  },
  {
   "cell_type": "code",
   "execution_count": 87,
   "id": "8e61680e",
   "metadata": {},
   "outputs": [],
   "source": [
    "df['daylight'] = [1 if 7 <= int(date[11:13]) <= 20 else 0 for date in df.date]"
   ]
  },
  {
   "cell_type": "code",
   "execution_count": 88,
   "id": "d52d05be",
   "metadata": {
    "scrolled": true
   },
   "outputs": [
    {
     "data": {
      "text/html": [
       "<div>\n",
       "<style scoped>\n",
       "    .dataframe tbody tr th:only-of-type {\n",
       "        vertical-align: middle;\n",
       "    }\n",
       "\n",
       "    .dataframe tbody tr th {\n",
       "        vertical-align: top;\n",
       "    }\n",
       "\n",
       "    .dataframe thead th {\n",
       "        text-align: right;\n",
       "    }\n",
       "</style>\n",
       "<table border=\"1\" class=\"dataframe\">\n",
       "  <thead>\n",
       "    <tr style=\"text-align: right;\">\n",
       "      <th></th>\n",
       "      <th>count</th>\n",
       "      <th>mean</th>\n",
       "      <th>std</th>\n",
       "      <th>min</th>\n",
       "      <th>25%</th>\n",
       "      <th>50%</th>\n",
       "      <th>75%</th>\n",
       "      <th>max</th>\n",
       "    </tr>\n",
       "    <tr>\n",
       "      <th>daylight</th>\n",
       "      <th></th>\n",
       "      <th></th>\n",
       "      <th></th>\n",
       "      <th></th>\n",
       "      <th></th>\n",
       "      <th></th>\n",
       "      <th></th>\n",
       "      <th></th>\n",
       "    </tr>\n",
       "  </thead>\n",
       "  <tbody>\n",
       "    <tr>\n",
       "      <th>0</th>\n",
       "      <td>6474.0</td>\n",
       "      <td>31.067501</td>\n",
       "      <td>31.885158</td>\n",
       "      <td>1.0</td>\n",
       "      <td>8.0</td>\n",
       "      <td>20.0</td>\n",
       "      <td>44.0</td>\n",
       "      <td>166.0</td>\n",
       "    </tr>\n",
       "    <tr>\n",
       "      <th>1</th>\n",
       "      <td>4286.0</td>\n",
       "      <td>30.713019</td>\n",
       "      <td>30.678530</td>\n",
       "      <td>1.0</td>\n",
       "      <td>8.0</td>\n",
       "      <td>21.0</td>\n",
       "      <td>42.0</td>\n",
       "      <td>166.0</td>\n",
       "    </tr>\n",
       "  </tbody>\n",
       "</table>\n",
       "</div>"
      ],
      "text/plain": [
       "           count       mean        std  min  25%   50%   75%    max\n",
       "daylight                                                           \n",
       "0         6474.0  31.067501  31.885158  1.0  8.0  20.0  44.0  166.0\n",
       "1         4286.0  30.713019  30.678530  1.0  8.0  21.0  42.0  166.0"
      ]
     },
     "execution_count": 88,
     "metadata": {},
     "output_type": "execute_result"
    }
   ],
   "source": [
    "df.groupby('daylight')['total_hours'].describe()"
   ]
  },
  {
   "cell_type": "markdown",
   "id": "a9bb04b3",
   "metadata": {},
   "source": [
    "#### Addressing `daylight` outliers"
   ]
  },
  {
   "cell_type": "code",
   "execution_count": 89,
   "id": "ba075146",
   "metadata": {
    "scrolled": true
   },
   "outputs": [
    {
     "data": {
      "image/png": "[encoded data removed]",
      "text/plain": [
       "<Figure size 1008x360 with 1 Axes>"
      ]
     },
     "metadata": {
      "needs_background": "light"
     },
     "output_type": "display_data"
    }
   ],
   "source": [
    "df.boxplot(column=['total_hours'], by='daylight', figsize=(14,5));"
   ]
  },
  {
   "cell_type": "markdown",
   "id": "51d7a2d4",
   "metadata": {},
   "source": [
    "Observation\n",
    "- There are many outliers for both group, but none are extreme and by themselves \n",
    "- Analysis and visualizations for this feature are included at the end of this notebook with all selected features after all drops have been made"
   ]
  },
  {
   "cell_type": "markdown",
   "id": "bb5b9f5d",
   "metadata": {},
   "source": [
    "# Creating `winter` feature OHE\n",
    "- initially all datapoints in winter season (from `date`) will = 1\n",
    "- after further feature analysis, datapoints outside of the winter season that pertain to winter conditions (events in snow) will be imputed as 1 (True) "
   ]
  },
  {
   "cell_type": "code",
   "execution_count": 90,
   "id": "fc8d9d52",
   "metadata": {},
   "outputs": [],
   "source": [
    "df['winter'] = [1 if 10 <= int(date[5:7]) <= 12 else 0 for date in df.date]"
   ]
  },
  {
   "cell_type": "markdown",
   "id": "d1c37772",
   "metadata": {},
   "source": [
    "#### Comparing `winter` vs. `type`, `area_type_other`, `category`, `category_other`  to impute nulls"
   ]
  },
  {
   "cell_type": "code",
   "execution_count": 91,
   "id": "3d48bb34",
   "metadata": {},
   "outputs": [],
   "source": [
    "df['winter'] = [1 if ((winter == 0) & (typ == 'avalanche')) |\n",
    "                     ((winter == 0) & (typ == 'rescue snow ice'))\n",
    "                else winter\n",
    "                for winter, typ in zip(df.winter, df.type)]\n",
    "\n",
    "df['winter'] = [1 if ((winter == 0) & (typ == 'ski'))\n",
    "                else winter\n",
    "                for winter, typ in zip(df.winter, df.area_type_other)]\n",
    "\n",
    "df['winter'] = [1 if ((winter == 0) and (isinstance(cat, str)) and ('snow' in cat))\n",
    "                else winter\n",
    "                for winter, cat in zip(df.winter, df.category)]\n",
    "\n",
    "df['winter'] = [1 if ((winter == 0) and (isinstance(cat, str)) and ('ski' in cat)) |\n",
    "                     ((winter == 0) and (isinstance(cat, str)) and ('snow' in cat)) \n",
    "                else winter\n",
    "                for winter, cat in zip(df.winter, df.category_other)]"
   ]
  },
  {
   "cell_type": "code",
   "execution_count": 92,
   "id": "785bca63",
   "metadata": {
    "scrolled": true
   },
   "outputs": [
    {
     "data": {
      "image/png": "[encoded data removed]",
      "text/plain": [
       "<Figure size 1008x360 with 1 Axes>"
      ]
     },
     "metadata": {
      "needs_background": "light"
     },
     "output_type": "display_data"
    }
   ],
   "source": [
    "df.boxplot(column=['total_hours'], by='winter', figsize=(14,5));"
   ]
  },
  {
   "cell_type": "code",
   "execution_count": 93,
   "id": "76fe2f3d",
   "metadata": {
    "scrolled": true
   },
   "outputs": [
    {
     "data": {
      "text/html": [
       "<div>\n",
       "<style scoped>\n",
       "    .dataframe tbody tr th:only-of-type {\n",
       "        vertical-align: middle;\n",
       "    }\n",
       "\n",
       "    .dataframe tbody tr th {\n",
       "        vertical-align: top;\n",
       "    }\n",
       "\n",
       "    .dataframe thead th {\n",
       "        text-align: right;\n",
       "    }\n",
       "</style>\n",
       "<table border=\"1\" class=\"dataframe\">\n",
       "  <thead>\n",
       "    <tr style=\"text-align: right;\">\n",
       "      <th></th>\n",
       "      <th>count</th>\n",
       "      <th>mean</th>\n",
       "      <th>std</th>\n",
       "      <th>min</th>\n",
       "      <th>25%</th>\n",
       "      <th>50%</th>\n",
       "      <th>75%</th>\n",
       "      <th>max</th>\n",
       "    </tr>\n",
       "    <tr>\n",
       "      <th>daylight</th>\n",
       "      <th></th>\n",
       "      <th></th>\n",
       "      <th></th>\n",
       "      <th></th>\n",
       "      <th></th>\n",
       "      <th></th>\n",
       "      <th></th>\n",
       "      <th></th>\n",
       "    </tr>\n",
       "  </thead>\n",
       "  <tbody>\n",
       "    <tr>\n",
       "      <th>0</th>\n",
       "      <td>6474.0</td>\n",
       "      <td>31.067501</td>\n",
       "      <td>31.885158</td>\n",
       "      <td>1.0</td>\n",
       "      <td>8.0</td>\n",
       "      <td>20.0</td>\n",
       "      <td>44.0</td>\n",
       "      <td>166.0</td>\n",
       "    </tr>\n",
       "    <tr>\n",
       "      <th>1</th>\n",
       "      <td>4286.0</td>\n",
       "      <td>30.713019</td>\n",
       "      <td>30.678530</td>\n",
       "      <td>1.0</td>\n",
       "      <td>8.0</td>\n",
       "      <td>21.0</td>\n",
       "      <td>42.0</td>\n",
       "      <td>166.0</td>\n",
       "    </tr>\n",
       "  </tbody>\n",
       "</table>\n",
       "</div>"
      ],
      "text/plain": [
       "           count       mean        std  min  25%   50%   75%    max\n",
       "daylight                                                           \n",
       "0         6474.0  31.067501  31.885158  1.0  8.0  20.0  44.0  166.0\n",
       "1         4286.0  30.713019  30.678530  1.0  8.0  21.0  42.0  166.0"
      ]
     },
     "execution_count": 93,
     "metadata": {},
     "output_type": "execute_result"
    }
   ],
   "source": [
    "df.groupby('daylight')['total_hours'].describe()"
   ]
  },
  {
   "cell_type": "markdown",
   "id": "b3dbbbb4",
   "metadata": {},
   "source": [
    "Observations\n",
    "- There are no extreme and isolated outliers\n",
    "- The average and median for both of these feature are very close to one another. This feature will most likely not be very useful to our models. It will be included as the logistic regression model will use lasso and remove variables. Random Forest as a more complex model may have some use for this feature. \n",
    "- Further visualization and analysis of this feature are included below with all the selected features for the classification models. "
   ]
  },
  {
   "cell_type": "markdown",
   "id": "dd4e3b95",
   "metadata": {},
   "source": [
    "---\n",
    "---"
   ]
  },
  {
   "cell_type": "markdown",
   "id": "04a0c893",
   "metadata": {},
   "source": [
    "# Group Specifics\n",
    "- This feature may be useful for imputing nulls for certain features. It explicitly describes specific details about the group of subjects. There are 27 unique values and 10870 nulls. \n",
    "- Otherwise it will not be included in my models"
   ]
  },
  {
   "cell_type": "code",
   "execution_count": 94,
   "id": "d7bafa75",
   "metadata": {},
   "outputs": [
    {
     "name": "stdout",
     "output_type": "stream",
     "text": [
      "Null: 10735\n",
      "Unique: 25\n"
     ]
    }
   ],
   "source": [
    "print('Null:', df.group_specifics.isna().sum())\n",
    "print('Unique:', df.group_specifics.nunique())"
   ]
  },
  {
   "cell_type": "markdown",
   "id": "bb344423",
   "metadata": {},
   "source": [
    "#### Cleaning `group_specifics`"
   ]
  },
  {
   "cell_type": "code",
   "execution_count": 95,
   "id": "5b2698cf",
   "metadata": {},
   "outputs": [],
   "source": [
    "df['group_specifics'] = [x.lower().strip() if isinstance(x, str) \n",
    "                         else x \n",
    "                         for x in df.group_specifics]"
   ]
  },
  {
   "cell_type": "markdown",
   "id": "8bc798c0",
   "metadata": {},
   "source": [
    "---\n",
    "---"
   ]
  },
  {
   "cell_type": "markdown",
   "id": "01f6b2e1",
   "metadata": {},
   "source": [
    "# Aircraft Used"
   ]
  },
  {
   "cell_type": "markdown",
   "id": "ee594163",
   "metadata": {},
   "source": [
    "#### Cleaning `aircraft_used`\n",
    "- Lowercase all strings, replacing \"yes\" with \"aircraft-helicopter\", and filling nulls with \"no\""
   ]
  },
  {
   "cell_type": "code",
   "execution_count": 96,
   "id": "ced94e95",
   "metadata": {},
   "outputs": [],
   "source": [
    "df['aircraft_used'] = [x.lower() if isinstance(x, str) else x for x in df.aircraft_used]\n",
    "df.aircraft_used.replace('yes', 'aircraft-helicopter', inplace=True)\n",
    "df.aircraft_used.replace(' ', np.nan, inplace=True)\n",
    "df.aircraft_used.fillna('no', inplace=True)"
   ]
  },
  {
   "cell_type": "markdown",
   "id": "adf368c8",
   "metadata": {},
   "source": [
    "#### Creating `total_aircrafts` \n",
    "- First creating OHE features for each aircraft type\n",
    "- Summing 3 features into `total_aircrafts`"
   ]
  },
  {
   "cell_type": "code",
   "execution_count": 97,
   "id": "dc101be3",
   "metadata": {},
   "outputs": [],
   "source": [
    "df['helicopter'] = [1 if 'helicopter' in x else 0 for x in df.aircraft_used]\n",
    "df['uav'] = [1 if 'uav' in x else 0 for x in df.aircraft_used]\n",
    "df['fixed_wing'] = [1 if 'fixed_wing' in x else 0 for x in df.aircraft_used]\n",
    "\n",
    "df['total_aircrafts'] = df[['helicopter', 'uav', 'fixed_wing']].sum(axis=1)"
   ]
  },
  {
   "cell_type": "code",
   "execution_count": 98,
   "id": "171b9656",
   "metadata": {
    "scrolled": true
   },
   "outputs": [
    {
     "data": {
      "text/html": [
       "<div>\n",
       "<style scoped>\n",
       "    .dataframe tbody tr th:only-of-type {\n",
       "        vertical-align: middle;\n",
       "    }\n",
       "\n",
       "    .dataframe tbody tr th {\n",
       "        vertical-align: top;\n",
       "    }\n",
       "\n",
       "    .dataframe thead th {\n",
       "        text-align: right;\n",
       "    }\n",
       "</style>\n",
       "<table border=\"1\" class=\"dataframe\">\n",
       "  <thead>\n",
       "    <tr style=\"text-align: right;\">\n",
       "      <th></th>\n",
       "      <th>count</th>\n",
       "      <th>mean</th>\n",
       "      <th>std</th>\n",
       "      <th>min</th>\n",
       "      <th>25%</th>\n",
       "      <th>50%</th>\n",
       "      <th>75%</th>\n",
       "      <th>max</th>\n",
       "    </tr>\n",
       "    <tr>\n",
       "      <th>total_aircrafts</th>\n",
       "      <th></th>\n",
       "      <th></th>\n",
       "      <th></th>\n",
       "      <th></th>\n",
       "      <th></th>\n",
       "      <th></th>\n",
       "      <th></th>\n",
       "      <th></th>\n",
       "    </tr>\n",
       "  </thead>\n",
       "  <tbody>\n",
       "    <tr>\n",
       "      <th>0</th>\n",
       "      <td>8579.0</td>\n",
       "      <td>28.437930</td>\n",
       "      <td>29.498801</td>\n",
       "      <td>1.0</td>\n",
       "      <td>7.0</td>\n",
       "      <td>18.0</td>\n",
       "      <td>40.0</td>\n",
       "      <td>166.0</td>\n",
       "    </tr>\n",
       "    <tr>\n",
       "      <th>1</th>\n",
       "      <td>2149.0</td>\n",
       "      <td>40.413681</td>\n",
       "      <td>36.349158</td>\n",
       "      <td>1.0</td>\n",
       "      <td>12.0</td>\n",
       "      <td>30.0</td>\n",
       "      <td>59.0</td>\n",
       "      <td>166.0</td>\n",
       "    </tr>\n",
       "    <tr>\n",
       "      <th>2</th>\n",
       "      <td>32.0</td>\n",
       "      <td>60.906250</td>\n",
       "      <td>34.231997</td>\n",
       "      <td>11.0</td>\n",
       "      <td>31.5</td>\n",
       "      <td>56.5</td>\n",
       "      <td>79.5</td>\n",
       "      <td>126.0</td>\n",
       "    </tr>\n",
       "  </tbody>\n",
       "</table>\n",
       "</div>"
      ],
      "text/plain": [
       "                  count       mean        std   min   25%   50%   75%    max\n",
       "total_aircrafts                                                             \n",
       "0                8579.0  28.437930  29.498801   1.0   7.0  18.0  40.0  166.0\n",
       "1                2149.0  40.413681  36.349158   1.0  12.0  30.0  59.0  166.0\n",
       "2                  32.0  60.906250  34.231997  11.0  31.5  56.5  79.5  126.0"
      ]
     },
     "execution_count": 98,
     "metadata": {},
     "output_type": "execute_result"
    }
   ],
   "source": [
    "df.groupby('total_aircrafts')['total_hours'].describe()"
   ]
  },
  {
   "cell_type": "markdown",
   "id": "6363240b",
   "metadata": {},
   "source": [
    "#### Addressing `total_aircrafts` outliers"
   ]
  },
  {
   "cell_type": "code",
   "execution_count": 99,
   "id": "c7c2d854",
   "metadata": {
    "scrolled": true
   },
   "outputs": [
    {
     "data": {
      "image/png": "[encoded data removed]",
      "text/plain": [
       "<Figure size 1008x360 with 1 Axes>"
      ]
     },
     "metadata": {
      "needs_background": "light"
     },
     "output_type": "display_data"
    }
   ],
   "source": [
    "df.boxplot(column=['total_hours'], by='total_aircrafts', figsize=(14,5));"
   ]
  },
  {
   "cell_type": "markdown",
   "id": "d5007c11",
   "metadata": {},
   "source": [
    "Observations\n",
    "- As the number of types of aircrafts increases, the timeframe increases\n",
    "    - This may be because aircrafts are used after a time. WHen people are lost for days, aircrafts are more likely to be employed\n",
    "- There are no extreme and isolated outliers\n",
    "- Further analysis and visualization is provided below with all the selected features for the classification models. "
   ]
  },
  {
   "cell_type": "markdown",
   "id": "88d5d365",
   "metadata": {},
   "source": [
    "## Aircraft Hours"
   ]
  },
  {
   "cell_type": "code",
   "execution_count": 100,
   "id": "8e7c0b7e",
   "metadata": {},
   "outputs": [],
   "source": [
    "df.aircraft_hours.fillna(0, inplace=True)"
   ]
  },
  {
   "cell_type": "code",
   "execution_count": 101,
   "id": "91db7a48",
   "metadata": {},
   "outputs": [
    {
     "name": "stdout",
     "output_type": "stream",
     "text": [
      "92 % of dataset\n"
     ]
    }
   ],
   "source": [
    "print(round(df[df.aircraft_hours == 0].shape[0] / df.shape[0] * 100), '% of dataset')"
   ]
  },
  {
   "cell_type": "markdown",
   "id": "d251fadc",
   "metadata": {},
   "source": [
    "#### Total Aircrafts vs. Aircraft Hours"
   ]
  },
  {
   "cell_type": "code",
   "execution_count": 102,
   "id": "5f206c70",
   "metadata": {},
   "outputs": [
    {
     "data": {
      "text/plain": [
       "0"
      ]
     },
     "execution_count": 102,
     "metadata": {},
     "output_type": "execute_result"
    }
   ],
   "source": [
    "df[(df.total_aircrafts == 0) & (df.aircraft_hours > 0)].shape[0]"
   ]
  },
  {
   "cell_type": "markdown",
   "id": "8a4f26e4",
   "metadata": {},
   "source": [
    "Observations\n",
    "- 92% of the datapoints are null, and inconsistent with `total_aircrafts`\n",
    "- This feature may also leak data to the models in predicting the target \"time\"\n",
    "\n",
    "Action\n",
    "- This feature is being dropped, as it is not as useful as `total_aircrafts` and may leak data into the models"
   ]
  },
  {
   "cell_type": "code",
   "execution_count": 103,
   "id": "d848cca9",
   "metadata": {},
   "outputs": [],
   "source": [
    "df.drop('aircraft_hours', axis=1, inplace=True)"
   ]
  },
  {
   "cell_type": "markdown",
   "id": "65376b1a",
   "metadata": {},
   "source": [
    "## Hoist Used\n",
    "- dropping this feature as it describes an action that took place after victims were located"
   ]
  },
  {
   "cell_type": "code",
   "execution_count": 104,
   "id": "7c06aef6",
   "metadata": {},
   "outputs": [
    {
     "data": {
      "text/plain": [
       "9801"
      ]
     },
     "execution_count": 104,
     "metadata": {},
     "output_type": "execute_result"
    }
   ],
   "source": [
    "df.hoist_used.isna().sum()"
   ]
  },
  {
   "cell_type": "code",
   "execution_count": 105,
   "id": "cb62720a",
   "metadata": {},
   "outputs": [
    {
     "data": {
      "text/plain": [
       "NO     546\n",
       "YES    413\n",
       "Name: hoist_used, dtype: int64"
      ]
     },
     "execution_count": 105,
     "metadata": {},
     "output_type": "execute_result"
    }
   ],
   "source": [
    "df.hoist_used.value_counts()"
   ]
  },
  {
   "cell_type": "code",
   "execution_count": 106,
   "id": "7c28f16f",
   "metadata": {},
   "outputs": [],
   "source": [
    "df.drop('hoist_used', axis=1, inplace=True)"
   ]
  },
  {
   "cell_type": "markdown",
   "id": "f906f685",
   "metadata": {},
   "source": [
    "---\n",
    "---"
   ]
  },
  {
   "cell_type": "markdown",
   "id": "226c0ac2",
   "metadata": {},
   "source": [
    "# Team"
   ]
  },
  {
   "cell_type": "markdown",
   "id": "ec89f751",
   "metadata": {},
   "source": [
    "#### Cleaning `team`"
   ]
  },
  {
   "cell_type": "code",
   "execution_count": 107,
   "id": "0f35d387",
   "metadata": {},
   "outputs": [],
   "source": [
    "df['team'] = [x.lower().replace('_', ' ') if isinstance(x, str) else x for x in df.team]"
   ]
  },
  {
   "cell_type": "code",
   "execution_count": 108,
   "id": "2996a769",
   "metadata": {},
   "outputs": [
    {
     "data": {
      "text/plain": [
       "77"
      ]
     },
     "execution_count": 108,
     "metadata": {},
     "output_type": "execute_result"
    }
   ],
   "source": [
    "df.team.nunique()"
   ]
  },
  {
   "cell_type": "code",
   "execution_count": 109,
   "id": "b7d73e9b",
   "metadata": {},
   "outputs": [],
   "source": [
    "df.drop('team', axis=1, inplace=True)"
   ]
  },
  {
   "cell_type": "markdown",
   "id": "03903355",
   "metadata": {},
   "source": [
    "### Team \n",
    "\n",
    "Observations\n",
    "- This feature had 83 unique \"teams\" and will not be included in the classification models. It is being dropped."
   ]
  },
  {
   "cell_type": "markdown",
   "id": "3a00b00f",
   "metadata": {},
   "source": [
    "# Lead Agency \n",
    "- This feature is 90% null and will be dropped"
   ]
  },
  {
   "cell_type": "code",
   "execution_count": 110,
   "id": "e1aafae7",
   "metadata": {},
   "outputs": [
    {
     "data": {
      "text/plain": [
       "NaN    0.913848\n",
       "NO     0.056320\n",
       "YES    0.029833\n",
       "Name: lead_agency, dtype: float64"
      ]
     },
     "execution_count": 110,
     "metadata": {},
     "output_type": "execute_result"
    }
   ],
   "source": [
    "df.lead_agency.value_counts(dropna=False, normalize=True)"
   ]
  },
  {
   "cell_type": "code",
   "execution_count": 111,
   "id": "7071defa",
   "metadata": {},
   "outputs": [],
   "source": [
    "df.drop('lead_agency', axis=1, inplace=True)"
   ]
  },
  {
   "cell_type": "markdown",
   "id": "d310f43e",
   "metadata": {},
   "source": [
    "# Mutual Aid"
   ]
  },
  {
   "cell_type": "markdown",
   "id": "62227194",
   "metadata": {},
   "source": [
    "#### Cleaning `mutual_aid`"
   ]
  },
  {
   "cell_type": "code",
   "execution_count": 112,
   "id": "6ff13ea7",
   "metadata": {},
   "outputs": [],
   "source": [
    "df['mutual_aid'] = [x.lower()if isinstance(x, str) else x for x in df.mutual_aid]"
   ]
  },
  {
   "cell_type": "code",
   "execution_count": 113,
   "id": "bda09547",
   "metadata": {},
   "outputs": [
    {
     "data": {
      "text/plain": [
       "no     4594\n",
       "yes    2358\n",
       "NaN    3808\n",
       "Name: mutual_aid, dtype: int64"
      ]
     },
     "execution_count": 113,
     "metadata": {},
     "output_type": "execute_result"
    }
   ],
   "source": [
    "df.mutual_aid.value_counts(dropna=False).sort_index()"
   ]
  },
  {
   "cell_type": "code",
   "execution_count": 114,
   "id": "a41173ef",
   "metadata": {},
   "outputs": [
    {
     "data": {
      "text/plain": [
       "mutual_aid\n",
       "no     28.285372\n",
       "yes    33.515267\n",
       "Name: total_hours, dtype: float64"
      ]
     },
     "execution_count": 114,
     "metadata": {},
     "output_type": "execute_result"
    }
   ],
   "source": [
    "df.groupby('mutual_aid')['total_hours'].mean()"
   ]
  },
  {
   "cell_type": "markdown",
   "id": "764c0cc3",
   "metadata": {},
   "source": [
    "Obersvations\n",
    "- More than 1/3 of the dataset is null for this feature. \n",
    "- `number_volunteers` is somewhat related to this feature and is being included in the classification models. \n",
    "- This feature is being dropped"
   ]
  },
  {
   "cell_type": "code",
   "execution_count": 115,
   "id": "10bf47db",
   "metadata": {},
   "outputs": [],
   "source": [
    "df.drop('mutual_aid', axis=1, inplace=True)"
   ]
  },
  {
   "cell_type": "markdown",
   "id": "47176c6c",
   "metadata": {},
   "source": [
    "# Primary Area"
   ]
  },
  {
   "cell_type": "code",
   "execution_count": 116,
   "id": "4e60a35d",
   "metadata": {},
   "outputs": [
    {
     "data": {
      "text/plain": [
       "yes           5935\n",
       "Null          2873\n",
       "wilderness    1041\n",
       "no             684\n",
       "rural          143\n",
       "suburban        35\n",
       "urban           30\n",
       "water           19\n",
       "Name: primary_area, dtype: int64"
      ]
     },
     "execution_count": 116,
     "metadata": {},
     "output_type": "execute_result"
    }
   ],
   "source": [
    "df['primary_area'] = [x.lower() if isinstance(x, str) else x for x in df.primary_area]\n",
    "df['primary_area'].replace(' ', 'Null', inplace=True)\n",
    "df['primary_area'].fillna('Null', inplace=True)\n",
    "\n",
    "df.primary_area.value_counts(dropna=False)"
   ]
  },
  {
   "cell_type": "code",
   "execution_count": 117,
   "id": "3c3a5a1c",
   "metadata": {},
   "outputs": [
    {
     "data": {
      "text/html": [
       "<div>\n",
       "<style scoped>\n",
       "    .dataframe tbody tr th:only-of-type {\n",
       "        vertical-align: middle;\n",
       "    }\n",
       "\n",
       "    .dataframe tbody tr th {\n",
       "        vertical-align: top;\n",
       "    }\n",
       "\n",
       "    .dataframe thead th {\n",
       "        text-align: right;\n",
       "    }\n",
       "</style>\n",
       "<table border=\"1\" class=\"dataframe\">\n",
       "  <thead>\n",
       "    <tr style=\"text-align: right;\">\n",
       "      <th></th>\n",
       "      <th>count</th>\n",
       "      <th>mean</th>\n",
       "      <th>std</th>\n",
       "      <th>min</th>\n",
       "      <th>25%</th>\n",
       "      <th>50%</th>\n",
       "      <th>75%</th>\n",
       "      <th>max</th>\n",
       "    </tr>\n",
       "    <tr>\n",
       "      <th>primary_area</th>\n",
       "      <th></th>\n",
       "      <th></th>\n",
       "      <th></th>\n",
       "      <th></th>\n",
       "      <th></th>\n",
       "      <th></th>\n",
       "      <th></th>\n",
       "      <th></th>\n",
       "    </tr>\n",
       "  </thead>\n",
       "  <tbody>\n",
       "    <tr>\n",
       "      <th>rural</th>\n",
       "      <td>143.0</td>\n",
       "      <td>26.090909</td>\n",
       "      <td>30.313366</td>\n",
       "      <td>1.0</td>\n",
       "      <td>5.00</td>\n",
       "      <td>15.0</td>\n",
       "      <td>36.50</td>\n",
       "      <td>154.0</td>\n",
       "    </tr>\n",
       "    <tr>\n",
       "      <th>urban</th>\n",
       "      <td>30.0</td>\n",
       "      <td>26.333333</td>\n",
       "      <td>30.659794</td>\n",
       "      <td>1.0</td>\n",
       "      <td>5.25</td>\n",
       "      <td>10.5</td>\n",
       "      <td>42.50</td>\n",
       "      <td>110.0</td>\n",
       "    </tr>\n",
       "    <tr>\n",
       "      <th>suburban</th>\n",
       "      <td>35.0</td>\n",
       "      <td>26.542857</td>\n",
       "      <td>24.769933</td>\n",
       "      <td>1.0</td>\n",
       "      <td>5.50</td>\n",
       "      <td>20.0</td>\n",
       "      <td>42.00</td>\n",
       "      <td>82.0</td>\n",
       "    </tr>\n",
       "    <tr>\n",
       "      <th>water</th>\n",
       "      <td>19.0</td>\n",
       "      <td>29.157895</td>\n",
       "      <td>36.887612</td>\n",
       "      <td>3.0</td>\n",
       "      <td>6.50</td>\n",
       "      <td>15.0</td>\n",
       "      <td>40.50</td>\n",
       "      <td>160.0</td>\n",
       "    </tr>\n",
       "    <tr>\n",
       "      <th>yes</th>\n",
       "      <td>5935.0</td>\n",
       "      <td>29.737321</td>\n",
       "      <td>30.487267</td>\n",
       "      <td>1.0</td>\n",
       "      <td>8.00</td>\n",
       "      <td>20.0</td>\n",
       "      <td>42.00</td>\n",
       "      <td>166.0</td>\n",
       "    </tr>\n",
       "    <tr>\n",
       "      <th>wilderness</th>\n",
       "      <td>1041.0</td>\n",
       "      <td>30.054755</td>\n",
       "      <td>31.058349</td>\n",
       "      <td>1.0</td>\n",
       "      <td>8.00</td>\n",
       "      <td>20.0</td>\n",
       "      <td>40.00</td>\n",
       "      <td>166.0</td>\n",
       "    </tr>\n",
       "    <tr>\n",
       "      <th>Null</th>\n",
       "      <td>2873.0</td>\n",
       "      <td>32.861817</td>\n",
       "      <td>31.990011</td>\n",
       "      <td>1.0</td>\n",
       "      <td>9.00</td>\n",
       "      <td>22.0</td>\n",
       "      <td>47.00</td>\n",
       "      <td>166.0</td>\n",
       "    </tr>\n",
       "    <tr>\n",
       "      <th>no</th>\n",
       "      <td>684.0</td>\n",
       "      <td>35.925439</td>\n",
       "      <td>36.530963</td>\n",
       "      <td>1.0</td>\n",
       "      <td>9.00</td>\n",
       "      <td>23.0</td>\n",
       "      <td>51.25</td>\n",
       "      <td>166.0</td>\n",
       "    </tr>\n",
       "  </tbody>\n",
       "</table>\n",
       "</div>"
      ],
      "text/plain": [
       "               count       mean        std  min   25%   50%    75%    max\n",
       "primary_area                                                             \n",
       "rural          143.0  26.090909  30.313366  1.0  5.00  15.0  36.50  154.0\n",
       "urban           30.0  26.333333  30.659794  1.0  5.25  10.5  42.50  110.0\n",
       "suburban        35.0  26.542857  24.769933  1.0  5.50  20.0  42.00   82.0\n",
       "water           19.0  29.157895  36.887612  3.0  6.50  15.0  40.50  160.0\n",
       "yes           5935.0  29.737321  30.487267  1.0  8.00  20.0  42.00  166.0\n",
       "wilderness    1041.0  30.054755  31.058349  1.0  8.00  20.0  40.00  166.0\n",
       "Null          2873.0  32.861817  31.990011  1.0  9.00  22.0  47.00  166.0\n",
       "no             684.0  35.925439  36.530963  1.0  9.00  23.0  51.25  166.0"
      ]
     },
     "execution_count": 117,
     "metadata": {},
     "output_type": "execute_result"
    }
   ],
   "source": [
    "df.groupby('primary_area')['total_hours'].describe().sort_values(by='mean')"
   ]
  },
  {
   "cell_type": "code",
   "execution_count": 118,
   "id": "398f7d92",
   "metadata": {},
   "outputs": [],
   "source": [
    "df.drop('primary_area', axis=1, inplace=True )"
   ]
  },
  {
   "cell_type": "markdown",
   "id": "6712115a",
   "metadata": {},
   "source": [
    "Observation\n",
    "- It is unclear where this means it is the primary area of the SAR Team\n",
    "- `area_type` is already being included in the classification models, and seams to be overlapping with this feature. \n",
    "- This feature is being dropped from the dataset"
   ]
  },
  {
   "cell_type": "markdown",
   "id": "4a9dff45",
   "metadata": {},
   "source": [
    "---\n",
    "---"
   ]
  },
  {
   "cell_type": "markdown",
   "id": "83b0a814",
   "metadata": {},
   "source": [
    "# Creating GPS feature where gps locater used"
   ]
  },
  {
   "cell_type": "markdown",
   "id": "3c5557a6",
   "metadata": {},
   "source": [
    "## Accidental Transmitter\n",
    "- This feature describes incidents when a transmitter was used, and whether it was an accident. "
   ]
  },
  {
   "cell_type": "markdown",
   "id": "6c6e78b8",
   "metadata": {},
   "source": [
    "#### Creating `gps`  initially from `accidental_transmitter`\n",
    "- Initiated as True if `accidental_transmitter` is not null"
   ]
  },
  {
   "cell_type": "code",
   "execution_count": 119,
   "id": "790baee5",
   "metadata": {},
   "outputs": [],
   "source": [
    "df['gps'] = [1 if pd.notnull(gps) else 0 \n",
    "             for gps in df.accidental_transmitter]"
   ]
  },
  {
   "cell_type": "markdown",
   "id": "4ff1b5f9",
   "metadata": {},
   "source": [
    "#### Comparing `gps` vs. `type` to correct nulls\n",
    "- Emergency Locator Transmitter a.k.a. ELT\n",
    "- Personal Locator Beacon a.k.a. PLB"
   ]
  },
  {
   "cell_type": "code",
   "execution_count": 120,
   "id": "70494750",
   "metadata": {},
   "outputs": [],
   "source": [
    "df['gps'] = [1 if ((gps==0) and (isinstance(typ, str)) and (typ == 'plb activation')) |\n",
    "                  ((gps==0) and (isinstance(typ, str)) and (typ == 'send activation'))\n",
    "             else gps\n",
    "             for gps, typ in zip(df.gps, df.type)]"
   ]
  },
  {
   "cell_type": "code",
   "execution_count": 121,
   "id": "b4d31a04",
   "metadata": {
    "scrolled": true
   },
   "outputs": [
    {
     "data": {
      "text/plain": [
       "0    10651\n",
       "1      109\n",
       "Name: gps, dtype: int64"
      ]
     },
     "execution_count": 121,
     "metadata": {},
     "output_type": "execute_result"
    }
   ],
   "source": [
    "df.gps.value_counts(dropna=False)"
   ]
  },
  {
   "cell_type": "markdown",
   "id": "516e8777",
   "metadata": {},
   "source": [
    "#### Addressing `gps` outliers"
   ]
  },
  {
   "cell_type": "code",
   "execution_count": 122,
   "id": "1f888a68",
   "metadata": {},
   "outputs": [
    {
     "data": {
      "image/png": "[encoded data removed]",
      "text/plain": [
       "<Figure size 1008x360 with 1 Axes>"
      ]
     },
     "metadata": {
      "needs_background": "light"
     },
     "output_type": "display_data"
    }
   ],
   "source": [
    "df.boxplot(column=['total_hours'], by='gps', figsize=(14,5));"
   ]
  },
  {
   "cell_type": "code",
   "execution_count": 123,
   "id": "e654bba8",
   "metadata": {},
   "outputs": [
    {
     "data": {
      "text/plain": [
       "10"
      ]
     },
     "execution_count": 123,
     "metadata": {},
     "output_type": "execute_result"
    }
   ],
   "source": [
    "df[(df.gps == 1) & (df.total_hours > 75)].shape[0]"
   ]
  },
  {
   "cell_type": "code",
   "execution_count": 124,
   "id": "6140e9e5",
   "metadata": {},
   "outputs": [
    {
     "name": "stdout",
     "output_type": "stream",
     "text": [
      "\u001b[1m\"gps\" = True outliers\u001b[0m\n",
      "Number Rows Dropped: 10 - 0.1 %\n",
      "Total Rows Dropped:  5824 - 35.1 %\n",
      "Original Total Rows: 16574\n",
      "Current Total Rows:  10750 \n",
      "\n"
     ]
    }
   ],
   "source": [
    "drop_rows('\"gps\" = True outliers', \n",
    "          df[(df.gps == 1) & (df.total_hours > 75)])"
   ]
  },
  {
   "cell_type": "code",
   "execution_count": 125,
   "id": "36027cce",
   "metadata": {
    "scrolled": true
   },
   "outputs": [
    {
     "data": {
      "text/html": [
       "<div>\n",
       "<style scoped>\n",
       "    .dataframe tbody tr th:only-of-type {\n",
       "        vertical-align: middle;\n",
       "    }\n",
       "\n",
       "    .dataframe tbody tr th {\n",
       "        vertical-align: top;\n",
       "    }\n",
       "\n",
       "    .dataframe thead th {\n",
       "        text-align: right;\n",
       "    }\n",
       "</style>\n",
       "<table border=\"1\" class=\"dataframe\">\n",
       "  <thead>\n",
       "    <tr style=\"text-align: right;\">\n",
       "      <th></th>\n",
       "      <th>count</th>\n",
       "      <th>mean</th>\n",
       "      <th>std</th>\n",
       "      <th>min</th>\n",
       "      <th>25%</th>\n",
       "      <th>50%</th>\n",
       "      <th>75%</th>\n",
       "      <th>max</th>\n",
       "    </tr>\n",
       "    <tr>\n",
       "      <th>gps</th>\n",
       "      <th></th>\n",
       "      <th></th>\n",
       "      <th></th>\n",
       "      <th></th>\n",
       "      <th></th>\n",
       "      <th></th>\n",
       "      <th></th>\n",
       "      <th></th>\n",
       "    </tr>\n",
       "  </thead>\n",
       "  <tbody>\n",
       "    <tr>\n",
       "      <th>0</th>\n",
       "      <td>10651.0</td>\n",
       "      <td>30.958032</td>\n",
       "      <td>31.398867</td>\n",
       "      <td>1.0</td>\n",
       "      <td>8.0</td>\n",
       "      <td>20.0</td>\n",
       "      <td>44.0</td>\n",
       "      <td>166.0</td>\n",
       "    </tr>\n",
       "    <tr>\n",
       "      <th>1</th>\n",
       "      <td>99.0</td>\n",
       "      <td>19.595960</td>\n",
       "      <td>18.379736</td>\n",
       "      <td>1.0</td>\n",
       "      <td>6.0</td>\n",
       "      <td>12.0</td>\n",
       "      <td>29.0</td>\n",
       "      <td>75.0</td>\n",
       "    </tr>\n",
       "  </tbody>\n",
       "</table>\n",
       "</div>"
      ],
      "text/plain": [
       "       count       mean        std  min  25%   50%   75%    max\n",
       "gps                                                            \n",
       "0    10651.0  30.958032  31.398867  1.0  8.0  20.0  44.0  166.0\n",
       "1       99.0  19.595960  18.379736  1.0  6.0  12.0  29.0   75.0"
      ]
     },
     "execution_count": 125,
     "metadata": {},
     "output_type": "execute_result"
    }
   ],
   "source": [
    "df.groupby('gps')['total_hours'].describe()"
   ]
  },
  {
   "cell_type": "markdown",
   "id": "ede8e2af",
   "metadata": {},
   "source": [
    "Observations\n",
    "- This feature is null for 98% of the dataset\n",
    "- It is very interesting how short the timeframe is for those incidents where a transmitter was used. This feature will not be used in the classification models, but it will be included in the presentation, because it clearly shows how short the timeline becomes when a transmitter is used. "
   ]
  },
  {
   "cell_type": "markdown",
   "id": "43c5b174",
   "metadata": {},
   "source": [
    " ## Summary of all rows dropped\n",
    " - This is a summary of all the rows dropped while cleaning this dataset to only include trey, typical Search and Rescue mission where at least one live victim was being located and rescued. \n",
    " - A total of 35% of the dataset was dropped. \n",
    " - The cleaned dataset includes 10,761 datapoints, and will be sufficient for modeling. "
   ]
  },
  {
   "cell_type": "code",
   "execution_count": 126,
   "id": "4cd06a25",
   "metadata": {},
   "outputs": [
    {
     "data": {
      "text/html": [
       "<div>\n",
       "<style scoped>\n",
       "    .dataframe tbody tr th:only-of-type {\n",
       "        vertical-align: middle;\n",
       "    }\n",
       "\n",
       "    .dataframe tbody tr th {\n",
       "        vertical-align: top;\n",
       "    }\n",
       "\n",
       "    .dataframe thead th {\n",
       "        text-align: right;\n",
       "    }\n",
       "</style>\n",
       "<table border=\"1\" class=\"dataframe\">\n",
       "  <thead>\n",
       "    <tr style=\"text-align: right;\">\n",
       "      <th></th>\n",
       "      <th>num_dropped</th>\n",
       "      <th>perc_data</th>\n",
       "      <th>total_rows</th>\n",
       "    </tr>\n",
       "  </thead>\n",
       "  <tbody>\n",
       "    <tr>\n",
       "      <th>Original Dataset</th>\n",
       "      <td>0.0</td>\n",
       "      <td>0.0</td>\n",
       "      <td>16574.0</td>\n",
       "    </tr>\n",
       "    <tr>\n",
       "      <th>\"type\" that aren't true SAR missions</th>\n",
       "      <td>1608.0</td>\n",
       "      <td>9.7</td>\n",
       "      <td>14966.0</td>\n",
       "    </tr>\n",
       "    <tr>\n",
       "      <th>\"category\" that aren't true SAR missions</th>\n",
       "      <td>553.0</td>\n",
       "      <td>3.3</td>\n",
       "      <td>14413.0</td>\n",
       "    </tr>\n",
       "    <tr>\n",
       "      <th>\"category_other\" that aren't true SAR missions</th>\n",
       "      <td>111.0</td>\n",
       "      <td>0.7</td>\n",
       "      <td>14302.0</td>\n",
       "    </tr>\n",
       "    <tr>\n",
       "      <th>\"total_hours\" are Null</th>\n",
       "      <td>678.0</td>\n",
       "      <td>4.1</td>\n",
       "      <td>13624.0</td>\n",
       "    </tr>\n",
       "    <tr>\n",
       "      <th>\"total_hours\" &gt; 168 (7 days)</th>\n",
       "      <td>659.0</td>\n",
       "      <td>4.0</td>\n",
       "      <td>12965.0</td>\n",
       "    </tr>\n",
       "    <tr>\n",
       "      <th>\"date\" &lt;= 2014</th>\n",
       "      <td>46.0</td>\n",
       "      <td>0.3</td>\n",
       "      <td>12919.0</td>\n",
       "    </tr>\n",
       "    <tr>\n",
       "      <th>\"age_sub_1\" &gt; 92</th>\n",
       "      <td>5.0</td>\n",
       "      <td>0.0</td>\n",
       "      <td>12914.0</td>\n",
       "    </tr>\n",
       "    <tr>\n",
       "      <th>\"number_subjects\" &gt; 10</th>\n",
       "      <td>31.0</td>\n",
       "      <td>0.2</td>\n",
       "      <td>12883.0</td>\n",
       "    </tr>\n",
       "    <tr>\n",
       "      <th>\"number_subjects\" = 0</th>\n",
       "      <td>1192.0</td>\n",
       "      <td>7.2</td>\n",
       "      <td>11691.0</td>\n",
       "    </tr>\n",
       "    <tr>\n",
       "      <th>\"number_subjects\" = \"number_sub_not_found\"</th>\n",
       "      <td>418.0</td>\n",
       "      <td>2.5</td>\n",
       "      <td>11273.0</td>\n",
       "    </tr>\n",
       "    <tr>\n",
       "      <th>\"number_subjects\" = \"number_sub_doa\"</th>\n",
       "      <td>364.0</td>\n",
       "      <td>2.2</td>\n",
       "      <td>10909.0</td>\n",
       "    </tr>\n",
       "    <tr>\n",
       "      <th>\"number_volunteers\" 40</th>\n",
       "      <td>10.0</td>\n",
       "      <td>0.1</td>\n",
       "      <td>10899.0</td>\n",
       "    </tr>\n",
       "    <tr>\n",
       "      <th>\"state\" have less than 20 datapoints</th>\n",
       "      <td>46.0</td>\n",
       "      <td>0.3</td>\n",
       "      <td>10853.0</td>\n",
       "    </tr>\n",
       "    <tr>\n",
       "      <th>Dropping outliers for \"state\"</th>\n",
       "      <td>60.0</td>\n",
       "      <td>0.4</td>\n",
       "      <td>10793.0</td>\n",
       "    </tr>\n",
       "    <tr>\n",
       "      <th>\"children\" = True outliers</th>\n",
       "      <td>8.0</td>\n",
       "      <td>0.0</td>\n",
       "      <td>10785.0</td>\n",
       "    </tr>\n",
       "    <tr>\n",
       "      <th>\"seniors\" = True outliers</th>\n",
       "      <td>10.0</td>\n",
       "      <td>0.1</td>\n",
       "      <td>10775.0</td>\n",
       "    </tr>\n",
       "    <tr>\n",
       "      <th>\"mental\" = True outliers</th>\n",
       "      <td>15.0</td>\n",
       "      <td>0.1</td>\n",
       "      <td>10760.0</td>\n",
       "    </tr>\n",
       "    <tr>\n",
       "      <th>\"gps\" = True outliers</th>\n",
       "      <td>10.0</td>\n",
       "      <td>0.1</td>\n",
       "      <td>10750.0</td>\n",
       "    </tr>\n",
       "    <tr>\n",
       "      <th>Total</th>\n",
       "      <td>5824.0</td>\n",
       "      <td>35.3</td>\n",
       "      <td>10750.0</td>\n",
       "    </tr>\n",
       "  </tbody>\n",
       "</table>\n",
       "</div>"
      ],
      "text/plain": [
       "                                                num_dropped  perc_data  \\\n",
       "Original Dataset                                        0.0        0.0   \n",
       "\"type\" that aren't true SAR missions                 1608.0        9.7   \n",
       "\"category\" that aren't true SAR missions              553.0        3.3   \n",
       "\"category_other\" that aren't true SAR missions        111.0        0.7   \n",
       "\"total_hours\" are Null                                678.0        4.1   \n",
       "\"total_hours\" > 168 (7 days)                          659.0        4.0   \n",
       "\"date\" <= 2014                                         46.0        0.3   \n",
       "\"age_sub_1\" > 92                                        5.0        0.0   \n",
       "\"number_subjects\" > 10                                 31.0        0.2   \n",
       "\"number_subjects\" = 0                                1192.0        7.2   \n",
       "\"number_subjects\" = \"number_sub_not_found\"            418.0        2.5   \n",
       "\"number_subjects\" = \"number_sub_doa\"                  364.0        2.2   \n",
       "\"number_volunteers\" 40                                 10.0        0.1   \n",
       "\"state\" have less than 20 datapoints                   46.0        0.3   \n",
       "Dropping outliers for \"state\"                          60.0        0.4   \n",
       "\"children\" = True outliers                              8.0        0.0   \n",
       "\"seniors\" = True outliers                              10.0        0.1   \n",
       "\"mental\" = True outliers                               15.0        0.1   \n",
       "\"gps\" = True outliers                                  10.0        0.1   \n",
       "Total                                                5824.0       35.3   \n",
       "\n",
       "                                                total_rows  \n",
       "Original Dataset                                   16574.0  \n",
       "\"type\" that aren't true SAR missions               14966.0  \n",
       "\"category\" that aren't true SAR missions           14413.0  \n",
       "\"category_other\" that aren't true SAR missions     14302.0  \n",
       "\"total_hours\" are Null                             13624.0  \n",
       "\"total_hours\" > 168 (7 days)                       12965.0  \n",
       "\"date\" <= 2014                                     12919.0  \n",
       "\"age_sub_1\" > 92                                   12914.0  \n",
       "\"number_subjects\" > 10                             12883.0  \n",
       "\"number_subjects\" = 0                              11691.0  \n",
       "\"number_subjects\" = \"number_sub_not_found\"         11273.0  \n",
       "\"number_subjects\" = \"number_sub_doa\"               10909.0  \n",
       "\"number_volunteers\" 40                             10899.0  \n",
       "\"state\" have less than 20 datapoints               10853.0  \n",
       "Dropping outliers for \"state\"                      10793.0  \n",
       "\"children\" = True outliers                         10785.0  \n",
       "\"seniors\" = True outliers                          10775.0  \n",
       "\"mental\" = True outliers                           10760.0  \n",
       "\"gps\" = True outliers                              10750.0  \n",
       "Total                                              10750.0  "
      ]
     },
     "execution_count": 126,
     "metadata": {},
     "output_type": "execute_result"
    }
   ],
   "source": [
    "rows_dropped()"
   ]
  },
  {
   "cell_type": "markdown",
   "id": "6819b544",
   "metadata": {},
   "source": [
    "---\n",
    "---"
   ]
  },
  {
   "cell_type": "markdown",
   "id": "b43ab7db",
   "metadata": {},
   "source": [
    "# Data Analysis"
   ]
  },
  {
   "cell_type": "markdown",
   "id": "34360474",
   "metadata": {},
   "source": [
    "### Creating a function to plot a feature vs. the target, the distribution, and median total_hours"
   ]
  },
  {
   "cell_type": "code",
   "execution_count": 127,
   "id": "8f7449e6",
   "metadata": {},
   "outputs": [],
   "source": [
    "def prop_dist_graph_2(feat, height=10, height_2=6):\n",
    "    '''\n",
    "    Returns 4 plots: \n",
    "        Target vs. Feature (stacked bar chart)\n",
    "        Feature vs. Target (stacked bar chart)\n",
    "        Feature Distribution (stacked bar chart)\n",
    "        Median total hours for feature categories (bar chart)\n",
    "    '''\n",
    "\n",
    "    fig, ax = plt.subplots(3,1, figsize=(10,height))\n",
    "\n",
    "    df.groupby('time_bin')[feat].value_counts(normalize=True)\\\n",
    "            .unstack().plot(kind='barh', \n",
    "                            cmap='BrBG',\n",
    "                            alpha=0.7,\n",
    "                            stacked=True,\n",
    "                            ax=ax[0])\n",
    "    ax[0].set_title('Target time_bin vs. ' + feat,\n",
    "                 fontsize=14, \n",
    "                 fontweight='bold', \n",
    "                 color='firebrick', \n",
    "                 loc='left', \n",
    "                 pad=10)\n",
    "    ax[0].set_ylabel('time_bin', weight='bold')\n",
    "    ax[0].legend(loc='center left', bbox_to_anchor=(1, 0.5))\n",
    "\n",
    "    var_order = df[feat].value_counts().sort_values(ascending=False).index.tolist()\n",
    "    df.groupby(feat)['time_bin'].value_counts(normalize=True).unstack().loc[var_order].T\\\n",
    "       .loc[['0-11hr', '11-32hr', '32hours-7day']].T\\\n",
    "        .plot(kind='barh', \n",
    "                        stacked=True,\n",
    "                        cmap='BrBG',\n",
    "                        alpha=0.8,\n",
    "                        ax=ax[1]);\n",
    "    ax[1].set_title(feat + ' vs. Target time_bin',\n",
    "                 fontsize=14, \n",
    "                 fontweight='bold', \n",
    "                 color='firebrick', \n",
    "                 loc='left', \n",
    "                 pad=10)\n",
    "    ax[1].set_ylabel(feat, weight='bold')\n",
    "    ax[1].legend(loc='center left', bbox_to_anchor=(1, 0.5))\n",
    "\n",
    "    \n",
    "    df[feat].value_counts(dropna=False, normalize=True).sort_values(ascending=False)\\\n",
    "    .plot(kind='barh',\n",
    "          color='darkcyan',\n",
    "          alpha=0.7,\n",
    "          ax=ax[2])\n",
    "    ax[2].xaxis.set_ticks(np.arange(0, 1.1, .1))    \n",
    "    ax[2].set_title('\"' + feat + '\" Distribution',\n",
    "                 fontsize=15, \n",
    "                 fontweight='bold', \n",
    "                 color='firebrick', \n",
    "                 loc='left', \n",
    "                 pad=10)\n",
    "    ax[2].set_ylabel(feat, weight='bold')\n",
    "    plt.tight_layout();\n",
    "\n",
    "    # this subplot is separate from the above to allow separate sizing func arg's \n",
    "    fig, ax = plt.subplots(figsize=(10,height_2))\n",
    "    \n",
    "    df.groupby(feat)['total_hours'].median().to_frame().loc[var_order].plot(kind='barh',\n",
    "                                                  fontsize=11,\n",
    "                                                  color='darkcyan',\n",
    "                                                  alpha=0.7,\n",
    "                                                  ax=ax)\n",
    "    \n",
    "    ax.set_title(feat + ' vs. Target time_bin',\n",
    "                 fontsize=14, \n",
    "                 fontweight='bold', \n",
    "                 color='firebrick', \n",
    "                 loc='left', \n",
    "                 pad=10)\n",
    "    ax.set_xlabel('Average total_hours', weight='bold')\n",
    "    ax.set_ylabel(feat, weight='bold')\n",
    "\n",
    "\n",
    "    \n",
    "    ax.get_legend().remove()\n",
    "    max_width = 0\n",
    "    for rect in ax.patches:\n",
    "        if rect.get_width()>max_width:\n",
    "            max_width = rect.get_width()\n",
    "    \n",
    "    for rect in ax.patches:\n",
    "\n",
    "            height = rect.get_height()\n",
    "            width = rect.get_width()\n",
    "            x = rect.get_x()\n",
    "            y = rect.get_y()\n",
    "            \n",
    "            label_text = round(width, 2)\n",
    "            \n",
    "            label_x = x + width / 2\n",
    "            label_y = y + height / 2\n",
    "\n",
    "            if label_x < max_width*.05:\n",
    "                ax.text(width+.05*max_width, label_y, f'{label_text:.2f}'\n",
    "                        , ha='center', va='center', color = 'black')\n",
    "            else:\n",
    "                ax.text(label_x, label_y, f'{label_text:.2f}'\n",
    "                        , ha='center', va='center', color = 'black', weight='bold', size=12)\n",
    "    plt.tight_layout();  "
   ]
  },
  {
   "cell_type": "markdown",
   "id": "f2d0d98e",
   "metadata": {},
   "source": [
    "# Time\n",
    "- `total_hours` will be binned into 3 groups\n",
    "    - 0-12 hours, 12-24 hours, 1-7 days\n",
    "- The first 24 hours are critical to the survival rate of victims in need of being rescued. Hypothermia occurs more often than one might expect. A single night in the ourdoors can ultimately lead to diminished capacity, reduced ability to actively participate in the search efforts of SAR teams, and potentially death. \n",
    "- These time bins are selected for these reasons listed above. It would be beneficial for SAR teams and particularly individuals who enjoy the outdoors to understand what contributes to the success of a SAR mission. "
   ]
  },
  {
   "cell_type": "code",
   "execution_count": 128,
   "id": "57e4df27",
   "metadata": {},
   "outputs": [
    {
     "data": {
      "text/plain": [
       "32hours-7day    0.342605\n",
       "0-11hr          0.331442\n",
       "11-32hr         0.325953\n",
       "Name: time_bin, dtype: float64"
      ]
     },
     "execution_count": 128,
     "metadata": {},
     "output_type": "execute_result"
    }
   ],
   "source": [
    "df['time_bin'] = pd.cut(df['total_hours'], \n",
    "                        bins=[0,11,32,168], \n",
    "                        labels=['0-11hr', '11-32hr', '32hours-7day'])\n",
    "\n",
    "df.time_bin.value_counts(normalize=True).sort_values(ascending=False)"
   ]
  },
  {
   "cell_type": "markdown",
   "id": "80651a2f",
   "metadata": {},
   "source": [
    "## Baseline Model - 35% for the majority class (32hours-7 days)"
   ]
  },
  {
   "cell_type": "code",
   "execution_count": 129,
   "id": "87707529",
   "metadata": {},
   "outputs": [
    {
     "data": {
      "image/png": "[encoded data removed]",
      "text/plain": [
       "<Figure size 432x288 with 1 Axes>"
      ]
     },
     "metadata": {
      "needs_background": "light"
     },
     "output_type": "display_data"
    }
   ],
   "source": [
    "fig, ax = plt.subplots(figsize=(6, 4))\n",
    "\n",
    "df['time_bin'].value_counts(normalize=True).sort_index().plot(kind='bar', \n",
    "                                                              ax=ax, \n",
    "                                                             color='darkgoldenrod')\n",
    "\n",
    "ax.set_title('Distribution of Target \"time_bin\"',\n",
    "             fontsize=15, \n",
    "             fontweight='bold', \n",
    "             color='firebrick', \n",
    "             loc='left', \n",
    "             pad=10)\n",
    "\n",
    "ax.set_ylabel('Proportion', weight='bold', labelpad=10, fontsize=12)\n",
    "ax.set_xlabel('Timeframe Classes', weight='bold', labelpad=10, fontsize=12)\n",
    "plt.xticks(rotation=0)\n",
    "plt.ylim([0,1])\n",
    "\n",
    "plt.tight_layout()"
   ]
  },
  {
   "cell_type": "markdown",
   "id": "a0f73147",
   "metadata": {},
   "source": [
    "#### Target Timeframe\n",
    "Observation\n",
    "- The majority class is 32 hours to 7 days at 35%\n",
    "- The classes are equally distributed "
   ]
  },
  {
   "cell_type": "markdown",
   "id": "6bc17dff",
   "metadata": {},
   "source": [
    "# Number Subjects"
   ]
  },
  {
   "cell_type": "code",
   "execution_count": 130,
   "id": "196a4966",
   "metadata": {},
   "outputs": [
    {
     "data": {
      "image/png": "[encoded data removed]",
      "text/plain": [
       "<Figure size 720x720 with 3 Axes>"
      ]
     },
     "metadata": {
      "needs_background": "light"
     },
     "output_type": "display_data"
    },
    {
     "data": {
      "image/png": "[encoded data removed]",
      "text/plain": [
       "<Figure size 720x432 with 1 Axes>"
      ]
     },
     "metadata": {
      "needs_background": "light"
     },
     "output_type": "display_data"
    }
   ],
   "source": [
    "prop_dist_graph_2('number_subjects')"
   ]
  },
  {
   "cell_type": "code",
   "execution_count": 131,
   "id": "cbb9083b",
   "metadata": {},
   "outputs": [
    {
     "data": {
      "text/plain": [
       "1.0     8159\n",
       "2.0     1777\n",
       "3.0      438\n",
       "4.0      224\n",
       "5.0       76\n",
       "6.0       36\n",
       "10.0      15\n",
       "8.0       10\n",
       "7.0        8\n",
       "9.0        7\n",
       "Name: number_subjects, dtype: int64"
      ]
     },
     "execution_count": 131,
     "metadata": {},
     "output_type": "execute_result"
    }
   ],
   "source": [
    "df.number_subjects.value_counts()"
   ]
  },
  {
   "cell_type": "markdown",
   "id": "900e99f4",
   "metadata": {},
   "source": [
    "### Number Subjects\n",
    "Observations\n",
    "- Incidents with only one subject are the most fequent category. Contrary to what I expected, incidents with only one victim actually have the lowest median total_hours. \n",
    "- Coincidentally as the number of subjects increase, so does the time it takes to get rescued. This is contrary to what I would expect. It would make sense that the more subjects involved, the easier it would be for SAR teams to locate them. \n",
    "- When analyzing this feature against the average `total_hours`, there does not seem to be a significant difference for each category. \n",
    "- I am going to include this feature in the classification models, though I don't expect it to be as indicative as the other included features.  "
   ]
  },
  {
   "cell_type": "markdown",
   "id": "2771cec6",
   "metadata": {},
   "source": [
    "# Total Aircrafts"
   ]
  },
  {
   "cell_type": "code",
   "execution_count": 132,
   "id": "0637197f",
   "metadata": {},
   "outputs": [
    {
     "data": {
      "image/png": "[encoded data removed]",
      "text/plain": [
       "<Figure size 720x432 with 3 Axes>"
      ]
     },
     "metadata": {
      "needs_background": "light"
     },
     "output_type": "display_data"
    },
    {
     "data": {
      "image/png": "[encoded data removed]",
      "text/plain": [
       "<Figure size 720x216 with 1 Axes>"
      ]
     },
     "metadata": {
      "needs_background": "light"
     },
     "output_type": "display_data"
    }
   ],
   "source": [
    "prop_dist_graph_2('total_aircrafts', 6, 3)"
   ]
  },
  {
   "cell_type": "code",
   "execution_count": 133,
   "id": "650d5d13",
   "metadata": {},
   "outputs": [
    {
     "data": {
      "text/plain": [
       "0    8575\n",
       "1    2143\n",
       "2      32\n",
       "Name: total_aircrafts, dtype: int64"
      ]
     },
     "execution_count": 133,
     "metadata": {},
     "output_type": "execute_result"
    }
   ],
   "source": [
    "df.total_aircrafts.value_counts()"
   ]
  },
  {
   "cell_type": "code",
   "execution_count": 134,
   "id": "1be63a00",
   "metadata": {},
   "outputs": [
    {
     "data": {
      "text/plain": [
       "52"
      ]
     },
     "execution_count": 134,
     "metadata": {},
     "output_type": "execute_result"
    }
   ],
   "source": [
    "df[df.uav == 1].shape[0]"
   ]
  },
  {
   "cell_type": "markdown",
   "id": "fa45be6b",
   "metadata": {},
   "source": [
    "### Total Aircrafts\n",
    "Observations\n",
    "- This feature is a count of the total number of different types of aircrafts used in the SAR mission. \n",
    "    - helicopter, fixed-wing, UAV\n",
    "- It makes sense that the more aircrafts used, the longer the SAR mission. Aircrafts may be dispatched later on in the SAR mission to aid in the search efforts. \n",
    "    - it would seem that employing aircrafts does decrease the timeframe as they are called out to aid SAR missions after a certain amount of time the persons are lost\n",
    "- 20% of the dataset include 1 type of aircraft, and only 33 datapoints include 2 types of aircrafts. The later will not be as useful in our models as a dummy variable, but we will include it and let lasso decide the usefulness of the feature. \n",
    "- Only 52 datapoints used UAVs. This seems like an area that should be explored by SAR teams as the technology is advancing at a fast pace currently. "
   ]
  },
  {
   "cell_type": "markdown",
   "id": "3daf1c68",
   "metadata": {},
   "source": [
    "# Area Type"
   ]
  },
  {
   "cell_type": "code",
   "execution_count": 135,
   "id": "aa66851a",
   "metadata": {},
   "outputs": [
    {
     "data": {
      "image/png": "[encoded data removed]",
      "text/plain": [
       "<Figure size 720x432 with 3 Axes>"
      ]
     },
     "metadata": {
      "needs_background": "light"
     },
     "output_type": "display_data"
    },
    {
     "data": {
      "image/png": "[encoded data removed]",
      "text/plain": [
       "<Figure size 720x288 with 1 Axes>"
      ]
     },
     "metadata": {
      "needs_background": "light"
     },
     "output_type": "display_data"
    }
   ],
   "source": [
    "prop_dist_graph_2('area_type', 6, 4)"
   ]
  },
  {
   "cell_type": "code",
   "execution_count": 136,
   "id": "3f722f28",
   "metadata": {},
   "outputs": [
    {
     "data": {
      "text/plain": [
       "wilderness     8221\n",
       "urban_rural    1657\n",
       "unknown         561\n",
       "water           168\n",
       "interface       143\n",
       "Name: area_type, dtype: int64"
      ]
     },
     "execution_count": 136,
     "metadata": {},
     "output_type": "execute_result"
    }
   ],
   "source": [
    "df.area_type.value_counts()"
   ]
  },
  {
   "cell_type": "markdown",
   "id": "308e7650",
   "metadata": {},
   "source": [
    "## Area Type\n",
    "Observations\n",
    "- 76% of the datapoints are in the wilderness. Understandably, these incidents have the highest average total_hours. \n",
    "- urban and rural incidents have the lowest median total_hours. \n",
    "- This feature will be dummied in the preprocessing notebook and included in my models. \n",
    "- As wilderness incidents have the longest average timeframe, this is the area type that requires the most attention for improvement. "
   ]
  },
  {
   "cell_type": "markdown",
   "id": "37916c20",
   "metadata": {},
   "source": [
    "# Winter"
   ]
  },
  {
   "cell_type": "code",
   "execution_count": 137,
   "id": "d66c58c8",
   "metadata": {},
   "outputs": [
    {
     "data": {
      "image/png": "[encoded data removed]",
      "text/plain": [
       "<Figure size 720x432 with 3 Axes>"
      ]
     },
     "metadata": {
      "needs_background": "light"
     },
     "output_type": "display_data"
    },
    {
     "data": {
      "image/png": "[encoded data removed]",
      "text/plain": [
       "<Figure size 720x144 with 1 Axes>"
      ]
     },
     "metadata": {
      "needs_background": "light"
     },
     "output_type": "display_data"
    }
   ],
   "source": [
    "prop_dist_graph_2('winter', 6, 2)"
   ]
  },
  {
   "cell_type": "markdown",
   "id": "77e3f9e4",
   "metadata": {},
   "source": [
    "### Winter\n",
    "Observations\n",
    "- This feature describes incidents that occured in winter or in snow. \n",
    "- There appears to be no difference in median or average time between the two categories. I will include this feature in the classification models though it will most likely not be significant. The logistic regression model will use lasso and most likely drop this feature. The Random Forest model is more complex and may find some use for this feature. "
   ]
  },
  {
   "cell_type": "markdown",
   "id": "e7622173",
   "metadata": {},
   "source": [
    "# Mental"
   ]
  },
  {
   "cell_type": "code",
   "execution_count": 138,
   "id": "143d2334",
   "metadata": {},
   "outputs": [
    {
     "data": {
      "image/png": "[encoded data removed]",
      "text/plain": [
       "<Figure size 720x432 with 3 Axes>"
      ]
     },
     "metadata": {
      "needs_background": "light"
     },
     "output_type": "display_data"
    },
    {
     "data": {
      "image/png": "[encoded data removed]",
      "text/plain": [
       "<Figure size 720x144 with 1 Axes>"
      ]
     },
     "metadata": {
      "needs_background": "light"
     },
     "output_type": "display_data"
    }
   ],
   "source": [
    "prop_dist_graph_2('mental', 6, 2)"
   ]
  },
  {
   "cell_type": "markdown",
   "id": "29407ddc",
   "metadata": {},
   "source": [
    "### Mental \n",
    "Observations\n",
    "- This is a OHE feature that is True if any subject as any mental condition or rating. \n",
    "- There is a slight increase in the average time it takes to complete a SAR mission when there is a mental factor present in any of the victims, as expected. \n",
    "- This feature will be included in the classification models"
   ]
  },
  {
   "cell_type": "markdown",
   "id": "2d03c632",
   "metadata": {},
   "source": [
    "# Seniors"
   ]
  },
  {
   "cell_type": "code",
   "execution_count": 139,
   "id": "db7cc71e",
   "metadata": {},
   "outputs": [
    {
     "data": {
      "image/png": "[encoded data removed]",
      "text/plain": [
       "<Figure size 720x432 with 3 Axes>"
      ]
     },
     "metadata": {
      "needs_background": "light"
     },
     "output_type": "display_data"
    },
    {
     "data": {
      "image/png": "[encoded data removed]",
      "text/plain": [
       "<Figure size 720x144 with 1 Axes>"
      ]
     },
     "metadata": {
      "needs_background": "light"
     },
     "output_type": "display_data"
    }
   ],
   "source": [
    "prop_dist_graph_2('seniors', 6, 2)"
   ]
  },
  {
   "cell_type": "code",
   "execution_count": 140,
   "id": "2bee4ff6",
   "metadata": {},
   "outputs": [
    {
     "data": {
      "text/plain": [
       "urban_rural    378\n",
       "wilderness     366\n",
       "unknown         79\n",
       "water           14\n",
       "interface        5\n",
       "Name: area_type, dtype: int64"
      ]
     },
     "execution_count": 140,
     "metadata": {},
     "output_type": "execute_result"
    }
   ],
   "source": [
    "df[df.seniors == 1]['area_type'].value_counts()"
   ]
  },
  {
   "cell_type": "markdown",
   "id": "4bae1067",
   "metadata": {},
   "source": [
    "### Seniors\n",
    "Observations\n",
    "- This is a OHE feature that is True if any of the subjects are 65 or older. \n",
    "- Less than 1% of the dataset include seniors.\n",
    "- Contrary to what I expected, incidents with seniors get rescued faster. There is an equal amount of urban/rural incidents as wilderness incidents. This could be the cause of this effect. \n",
    "- I will include this feature in the classification models. "
   ]
  },
  {
   "cell_type": "markdown",
   "id": "e5662801",
   "metadata": {},
   "source": [
    "# Children"
   ]
  },
  {
   "cell_type": "code",
   "execution_count": 141,
   "id": "e386bf14",
   "metadata": {},
   "outputs": [
    {
     "data": {
      "image/png": "[encoded data removed]",
      "text/plain": [
       "<Figure size 720x432 with 3 Axes>"
      ]
     },
     "metadata": {
      "needs_background": "light"
     },
     "output_type": "display_data"
    },
    {
     "data": {
      "image/png": "[encoded data removed]",
      "text/plain": [
       "<Figure size 720x144 with 1 Axes>"
      ]
     },
     "metadata": {
      "needs_background": "light"
     },
     "output_type": "display_data"
    }
   ],
   "source": [
    "prop_dist_graph_2('children', 6, 2)"
   ]
  },
  {
   "cell_type": "markdown",
   "id": "9c709f26",
   "metadata": {},
   "source": [
    "### Children \n",
    "Observations\n",
    "- If any children 15 or younger are involved in an incident, this feature is True. \n",
    "- Less than 1% if the dataset include children, but those that do have considerably lower total hours. \n",
    "- I will include this feature in the classification models. "
   ]
  },
  {
   "cell_type": "markdown",
   "id": "cb02c66d",
   "metadata": {},
   "source": [
    "# State"
   ]
  },
  {
   "cell_type": "code",
   "execution_count": 142,
   "id": "b55e98af",
   "metadata": {},
   "outputs": [
    {
     "data": {
      "image/png": "[encoded data removed]",
      "text/plain": [
       "<Figure size 720x1008 with 3 Axes>"
      ]
     },
     "metadata": {
      "needs_background": "light"
     },
     "output_type": "display_data"
    },
    {
     "data": {
      "image/png": "[encoded data removed]",
      "text/plain": [
       "<Figure size 720x720 with 1 Axes>"
      ]
     },
     "metadata": {
      "needs_background": "light"
     },
     "output_type": "display_data"
    }
   ],
   "source": [
    "prop_dist_graph_2('state', 14, 10)"
   ]
  },
  {
   "cell_type": "markdown",
   "id": "d1dc675a",
   "metadata": {},
   "source": [
    "### State\n",
    "- I included State as a feature instead of Team which had over 80 unique teams. \n",
    "- There are significant differences in average total_hours between all the different states. \n",
    "- California and Colorado consist of over 60% of the entire dataset, and both have pretty low average total_hours. \n",
    "    - These states most likely have highly experienced SAR teams and possibly a higher level of government funding and support\n",
    "- I will dummify this feature and include them in the classification models. "
   ]
  },
  {
   "cell_type": "markdown",
   "id": "00bcda81",
   "metadata": {},
   "source": [
    "# Number Volunteers"
   ]
  },
  {
   "cell_type": "code",
   "execution_count": 143,
   "id": "dd55f5cd",
   "metadata": {},
   "outputs": [
    {
     "data": {
      "image/png": "[encoded data removed]",
      "text/plain": [
       "<Figure size 432x288 with 1 Axes>"
      ]
     },
     "metadata": {
      "needs_background": "light"
     },
     "output_type": "display_data"
    }
   ],
   "source": [
    "plt.scatter(x='number_volunteers', y='total_hours', data=df);"
   ]
  },
  {
   "cell_type": "code",
   "execution_count": 144,
   "id": "0920ee7b",
   "metadata": {},
   "outputs": [
    {
     "data": {
      "text/plain": [
       "0.5119496585659512"
      ]
     },
     "execution_count": 144,
     "metadata": {},
     "output_type": "execute_result"
    }
   ],
   "source": [
    "df.total_hours.corr(df.number_volunteers)"
   ]
  },
  {
   "cell_type": "markdown",
   "id": "a6a384db",
   "metadata": {},
   "source": [
    "### Number Volunteers\n",
    "Observations \n",
    "- I expected this feature to have a higher correlation with the target variable total_hours. \n",
    "- Since it is one of the only actual continuous variables in the dataset, I will include it in the classification models, though lasso may not keep the feature. "
   ]
  },
  {
   "cell_type": "markdown",
   "id": "946772d3",
   "metadata": {},
   "source": [
    "# Exporting Cleaned Dataframe"
   ]
  },
  {
   "cell_type": "code",
   "execution_count": 145,
   "id": "57ba4a1c",
   "metadata": {},
   "outputs": [],
   "source": [
    "df.to_csv('../Data/cleaned_data.csv', index=False)\n"
   ]
  },
  {
   "cell_type": "code",
   "execution_count": 146,
   "id": "da64abed",
   "metadata": {},
   "outputs": [],
   "source": [
    "rows_dropped_df = pd.DataFrame(rows_dropped_dict).T\n",
    "rows_dropped_df.rename(columns={0:'num_dropped'}, inplace=True)\n",
    "rows_dropped_df.drop(labels=[1,2], axis=1, inplace=True)\n",
    "\n",
    "rows_dropped_df.to_csv('../Data/rows_dropped_df.csv')"
   ]
  }
 ],
 "metadata": {
  "kernelspec": {
   "display_name": "Python 3 (ipykernel)",
   "language": "python",
   "name": "python3"
  },
  "language_info": {
   "codemirror_mode": {
    "name": "ipython",
    "version": 3
   },
   "file_extension": ".py",
   "mimetype": "text/x-python",
   "name": "python",
   "nbconvert_exporter": "python",
   "pygments_lexer": "ipython3",
   "version": "3.10.5"
  }
 },
 "nbformat": 4,
 "nbformat_minor": 5
}
